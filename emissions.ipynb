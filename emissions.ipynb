{
 "cells": [
  {
   "cell_type": "code",
   "execution_count": 808,
   "metadata": {},
   "outputs": [],
   "source": [
    "import pandas as pd\n",
    "import numpy as np\n",
    "import json\n",
    "import pprint\n",
    "import pymongo\n",
    "from pymongo import MongoClient"
   ]
  },
  {
   "attachments": {},
   "cell_type": "markdown",
   "metadata": {},
   "source": [
    "### Loading and cleaning the CO2 data"
   ]
  },
  {
   "cell_type": "code",
   "execution_count": 809,
   "metadata": {},
   "outputs": [],
   "source": [
    "# Reading in the CO2 totals and CO2 per capita data\n",
    "co_df = pd.read_csv('data/CO2_flat.csv')\n",
    "pc_df = pd.read_csv('data/percapita_flat.csv')\n"
   ]
  },
  {
   "cell_type": "code",
   "execution_count": 810,
   "metadata": {},
   "outputs": [],
   "source": [
    "# Adding identifier columns to the dataframes so that we can merge them later\n",
    "co_df['Type'] = 'Total CO2'\n",
    "pc_df['Type'] = 'PerCapita CO2'"
   ]
  },
  {
   "cell_type": "code",
   "execution_count": 811,
   "metadata": {},
   "outputs": [],
   "source": [
    "# Drop the per capita column from the co_df as it will be maintained in the pc_df\n",
    "co_df = co_df.drop(columns = ['Per Capita'])"
   ]
  },
  {
   "cell_type": "code",
   "execution_count": 812,
   "metadata": {},
   "outputs": [
    {
     "data": {
      "text/html": [
       "<div>\n",
       "<style scoped>\n",
       "    .dataframe tbody tr th:only-of-type {\n",
       "        vertical-align: middle;\n",
       "    }\n",
       "\n",
       "    .dataframe tbody tr th {\n",
       "        vertical-align: top;\n",
       "    }\n",
       "\n",
       "    .dataframe thead th {\n",
       "        text-align: right;\n",
       "    }\n",
       "</style>\n",
       "<table border=\"1\" class=\"dataframe\">\n",
       "  <thead>\n",
       "    <tr style=\"text-align: right;\">\n",
       "      <th></th>\n",
       "      <th>Country</th>\n",
       "      <th>ISO 3166-1 alpha-3</th>\n",
       "      <th>Year</th>\n",
       "      <th>Total</th>\n",
       "      <th>Coal</th>\n",
       "      <th>Oil</th>\n",
       "      <th>Gas</th>\n",
       "      <th>Cement</th>\n",
       "      <th>Flaring</th>\n",
       "      <th>Other</th>\n",
       "      <th>Type</th>\n",
       "    </tr>\n",
       "  </thead>\n",
       "  <tbody>\n",
       "    <tr>\n",
       "      <th>19312</th>\n",
       "      <td>French Equatorial Africa</td>\n",
       "      <td>NaN</td>\n",
       "      <td>1750</td>\n",
       "      <td>0.0</td>\n",
       "      <td>NaN</td>\n",
       "      <td>NaN</td>\n",
       "      <td>NaN</td>\n",
       "      <td>NaN</td>\n",
       "      <td>NaN</td>\n",
       "      <td>NaN</td>\n",
       "      <td>Total CO2</td>\n",
       "    </tr>\n",
       "    <tr>\n",
       "      <th>19313</th>\n",
       "      <td>French Equatorial Africa</td>\n",
       "      <td>NaN</td>\n",
       "      <td>1751</td>\n",
       "      <td>0.0</td>\n",
       "      <td>NaN</td>\n",
       "      <td>NaN</td>\n",
       "      <td>NaN</td>\n",
       "      <td>NaN</td>\n",
       "      <td>NaN</td>\n",
       "      <td>NaN</td>\n",
       "      <td>Total CO2</td>\n",
       "    </tr>\n",
       "    <tr>\n",
       "      <th>19314</th>\n",
       "      <td>French Equatorial Africa</td>\n",
       "      <td>NaN</td>\n",
       "      <td>1752</td>\n",
       "      <td>0.0</td>\n",
       "      <td>NaN</td>\n",
       "      <td>NaN</td>\n",
       "      <td>NaN</td>\n",
       "      <td>NaN</td>\n",
       "      <td>NaN</td>\n",
       "      <td>NaN</td>\n",
       "      <td>Total CO2</td>\n",
       "    </tr>\n",
       "    <tr>\n",
       "      <th>19315</th>\n",
       "      <td>French Equatorial Africa</td>\n",
       "      <td>NaN</td>\n",
       "      <td>1753</td>\n",
       "      <td>0.0</td>\n",
       "      <td>NaN</td>\n",
       "      <td>NaN</td>\n",
       "      <td>NaN</td>\n",
       "      <td>NaN</td>\n",
       "      <td>NaN</td>\n",
       "      <td>NaN</td>\n",
       "      <td>Total CO2</td>\n",
       "    </tr>\n",
       "    <tr>\n",
       "      <th>19316</th>\n",
       "      <td>French Equatorial Africa</td>\n",
       "      <td>NaN</td>\n",
       "      <td>1754</td>\n",
       "      <td>0.0</td>\n",
       "      <td>NaN</td>\n",
       "      <td>NaN</td>\n",
       "      <td>NaN</td>\n",
       "      <td>NaN</td>\n",
       "      <td>NaN</td>\n",
       "      <td>NaN</td>\n",
       "      <td>Total CO2</td>\n",
       "    </tr>\n",
       "    <tr>\n",
       "      <th>...</th>\n",
       "      <td>...</td>\n",
       "      <td>...</td>\n",
       "      <td>...</td>\n",
       "      <td>...</td>\n",
       "      <td>...</td>\n",
       "      <td>...</td>\n",
       "      <td>...</td>\n",
       "      <td>...</td>\n",
       "      <td>...</td>\n",
       "      <td>...</td>\n",
       "      <td>...</td>\n",
       "    </tr>\n",
       "    <tr>\n",
       "      <th>47867</th>\n",
       "      <td>Ryukyu Islands</td>\n",
       "      <td>NaN</td>\n",
       "      <td>2017</td>\n",
       "      <td>0.0</td>\n",
       "      <td>NaN</td>\n",
       "      <td>NaN</td>\n",
       "      <td>NaN</td>\n",
       "      <td>NaN</td>\n",
       "      <td>NaN</td>\n",
       "      <td>NaN</td>\n",
       "      <td>Total CO2</td>\n",
       "    </tr>\n",
       "    <tr>\n",
       "      <th>47868</th>\n",
       "      <td>Ryukyu Islands</td>\n",
       "      <td>NaN</td>\n",
       "      <td>2018</td>\n",
       "      <td>0.0</td>\n",
       "      <td>NaN</td>\n",
       "      <td>NaN</td>\n",
       "      <td>NaN</td>\n",
       "      <td>NaN</td>\n",
       "      <td>NaN</td>\n",
       "      <td>NaN</td>\n",
       "      <td>Total CO2</td>\n",
       "    </tr>\n",
       "    <tr>\n",
       "      <th>47869</th>\n",
       "      <td>Ryukyu Islands</td>\n",
       "      <td>NaN</td>\n",
       "      <td>2019</td>\n",
       "      <td>0.0</td>\n",
       "      <td>NaN</td>\n",
       "      <td>NaN</td>\n",
       "      <td>NaN</td>\n",
       "      <td>NaN</td>\n",
       "      <td>NaN</td>\n",
       "      <td>NaN</td>\n",
       "      <td>Total CO2</td>\n",
       "    </tr>\n",
       "    <tr>\n",
       "      <th>47870</th>\n",
       "      <td>Ryukyu Islands</td>\n",
       "      <td>NaN</td>\n",
       "      <td>2020</td>\n",
       "      <td>0.0</td>\n",
       "      <td>NaN</td>\n",
       "      <td>NaN</td>\n",
       "      <td>NaN</td>\n",
       "      <td>NaN</td>\n",
       "      <td>NaN</td>\n",
       "      <td>NaN</td>\n",
       "      <td>Total CO2</td>\n",
       "    </tr>\n",
       "    <tr>\n",
       "      <th>47871</th>\n",
       "      <td>Ryukyu Islands</td>\n",
       "      <td>NaN</td>\n",
       "      <td>2021</td>\n",
       "      <td>0.0</td>\n",
       "      <td>NaN</td>\n",
       "      <td>NaN</td>\n",
       "      <td>NaN</td>\n",
       "      <td>NaN</td>\n",
       "      <td>NaN</td>\n",
       "      <td>NaN</td>\n",
       "      <td>Total CO2</td>\n",
       "    </tr>\n",
       "  </tbody>\n",
       "</table>\n",
       "<p>1632 rows × 11 columns</p>\n",
       "</div>"
      ],
      "text/plain": [
       "                        Country ISO 3166-1 alpha-3  Year  Total  Coal  Oil  \\\n",
       "19312  French Equatorial Africa                NaN  1750    0.0   NaN  NaN   \n",
       "19313  French Equatorial Africa                NaN  1751    0.0   NaN  NaN   \n",
       "19314  French Equatorial Africa                NaN  1752    0.0   NaN  NaN   \n",
       "19315  French Equatorial Africa                NaN  1753    0.0   NaN  NaN   \n",
       "19316  French Equatorial Africa                NaN  1754    0.0   NaN  NaN   \n",
       "...                         ...                ...   ...    ...   ...  ...   \n",
       "47867            Ryukyu Islands                NaN  2017    0.0   NaN  NaN   \n",
       "47868            Ryukyu Islands                NaN  2018    0.0   NaN  NaN   \n",
       "47869            Ryukyu Islands                NaN  2019    0.0   NaN  NaN   \n",
       "47870            Ryukyu Islands                NaN  2020    0.0   NaN  NaN   \n",
       "47871            Ryukyu Islands                NaN  2021    0.0   NaN  NaN   \n",
       "\n",
       "       Gas  Cement  Flaring  Other       Type  \n",
       "19312  NaN     NaN      NaN    NaN  Total CO2  \n",
       "19313  NaN     NaN      NaN    NaN  Total CO2  \n",
       "19314  NaN     NaN      NaN    NaN  Total CO2  \n",
       "19315  NaN     NaN      NaN    NaN  Total CO2  \n",
       "19316  NaN     NaN      NaN    NaN  Total CO2  \n",
       "...    ...     ...      ...    ...        ...  \n",
       "47867  NaN     NaN      NaN    NaN  Total CO2  \n",
       "47868  NaN     NaN      NaN    NaN  Total CO2  \n",
       "47869  NaN     NaN      NaN    NaN  Total CO2  \n",
       "47870  NaN     NaN      NaN    NaN  Total CO2  \n",
       "47871  NaN     NaN      NaN    NaN  Total CO2  \n",
       "\n",
       "[1632 rows x 11 columns]"
      ]
     },
     "execution_count": 812,
     "metadata": {},
     "output_type": "execute_result"
    }
   ],
   "source": [
    "# Look at nulls\n",
    "co_df.isnull().sum()\n",
    "\n",
    "# Where is the country code missing?\n",
    "co_df[co_df['ISO 3166-1 alpha-3'].isnull()]"
   ]
  },
  {
   "cell_type": "code",
   "execution_count": 813,
   "metadata": {},
   "outputs": [
    {
     "data": {
      "text/plain": [
       "Country                   0\n",
       "ISO 3166-1 alpha-3     1632\n",
       "Year                      0\n",
       "Total                 44132\n",
       "Coal                  45966\n",
       "Oil                   46065\n",
       "Gas                   46092\n",
       "Cement                47656\n",
       "Flaring               46160\n",
       "Other                 61484\n",
       "Type                      0\n",
       "dtype: int64"
      ]
     },
     "execution_count": 813,
     "metadata": {},
     "output_type": "execute_result"
    }
   ],
   "source": [
    "# Look at nulls in the other dataframe - both CO2 dataframes have the same country codes and data missing\n",
    "pc_df.isnull().sum()"
   ]
  },
  {
   "cell_type": "code",
   "execution_count": 814,
   "metadata": {},
   "outputs": [],
   "source": [
    "# Drop the rows with null country codes\n",
    "co_df = co_df.dropna(subset=['ISO 3166-1 alpha-3'])\n",
    "pc_df = pc_df.dropna(subset=['ISO 3166-1 alpha-3'])"
   ]
  },
  {
   "cell_type": "code",
   "execution_count": 815,
   "metadata": {},
   "outputs": [],
   "source": [
    "# Concatenate the data frames\n",
    "all_co_df = pd.concat([co_df, pc_df], ignore_index=True)\n",
    "\n",
    "# Melt the data frame, id_vars is what columns to keep, value_vars is what columns to melt\n",
    "all_co_melted = pd.melt(all_co_df, id_vars=['Country', 'ISO 3166-1 alpha-3', 'Year', 'Type'],\n",
    "                    value_vars=['Total', 'Coal', 'Oil', 'Gas', 'Cement', 'Flaring', 'Other'],\n",
    "                    var_name='Category', value_name='Emission')"
   ]
  },
  {
   "cell_type": "code",
   "execution_count": 816,
   "metadata": {},
   "outputs": [
    {
     "data": {
      "text/html": [
       "<div>\n",
       "<style scoped>\n",
       "    .dataframe tbody tr th:only-of-type {\n",
       "        vertical-align: middle;\n",
       "    }\n",
       "\n",
       "    .dataframe tbody tr th {\n",
       "        vertical-align: top;\n",
       "    }\n",
       "\n",
       "    .dataframe thead th {\n",
       "        text-align: right;\n",
       "    }\n",
       "</style>\n",
       "<table border=\"1\" class=\"dataframe\">\n",
       "  <thead>\n",
       "    <tr style=\"text-align: right;\">\n",
       "      <th></th>\n",
       "      <th>Country</th>\n",
       "      <th>Country Code</th>\n",
       "      <th>Year</th>\n",
       "      <th>Type</th>\n",
       "      <th>Category</th>\n",
       "      <th>Value</th>\n",
       "    </tr>\n",
       "  </thead>\n",
       "  <tbody>\n",
       "    <tr>\n",
       "      <th>0</th>\n",
       "      <td>Afghanistan</td>\n",
       "      <td>AFG</td>\n",
       "      <td>1750</td>\n",
       "      <td>Total CO2</td>\n",
       "      <td>Total</td>\n",
       "      <td>0.0</td>\n",
       "    </tr>\n",
       "    <tr>\n",
       "      <th>1</th>\n",
       "      <td>Afghanistan</td>\n",
       "      <td>AFG</td>\n",
       "      <td>1751</td>\n",
       "      <td>Total CO2</td>\n",
       "      <td>Total</td>\n",
       "      <td>0.0</td>\n",
       "    </tr>\n",
       "    <tr>\n",
       "      <th>2</th>\n",
       "      <td>Afghanistan</td>\n",
       "      <td>AFG</td>\n",
       "      <td>1752</td>\n",
       "      <td>Total CO2</td>\n",
       "      <td>Total</td>\n",
       "      <td>0.0</td>\n",
       "    </tr>\n",
       "    <tr>\n",
       "      <th>3</th>\n",
       "      <td>Afghanistan</td>\n",
       "      <td>AFG</td>\n",
       "      <td>1753</td>\n",
       "      <td>Total CO2</td>\n",
       "      <td>Total</td>\n",
       "      <td>0.0</td>\n",
       "    </tr>\n",
       "    <tr>\n",
       "      <th>4</th>\n",
       "      <td>Afghanistan</td>\n",
       "      <td>AFG</td>\n",
       "      <td>1754</td>\n",
       "      <td>Total CO2</td>\n",
       "      <td>Total</td>\n",
       "      <td>0.0</td>\n",
       "    </tr>\n",
       "  </tbody>\n",
       "</table>\n",
       "</div>"
      ],
      "text/plain": [
       "       Country Country Code  Year       Type Category  Value\n",
       "0  Afghanistan          AFG  1750  Total CO2    Total    0.0\n",
       "1  Afghanistan          AFG  1751  Total CO2    Total    0.0\n",
       "2  Afghanistan          AFG  1752  Total CO2    Total    0.0\n",
       "3  Afghanistan          AFG  1753  Total CO2    Total    0.0\n",
       "4  Afghanistan          AFG  1754  Total CO2    Total    0.0"
      ]
     },
     "execution_count": 816,
     "metadata": {},
     "output_type": "execute_result"
    }
   ],
   "source": [
    "# Renaming columns for clarity\n",
    "all_co_melted = all_co_melted.rename(columns = {'ISO 3166-1 alpha-3':'Country Code', 'Emission':'Value'})\n",
    "\n",
    "all_co_melted.head()"
   ]
  },
  {
   "cell_type": "code",
   "execution_count": 817,
   "metadata": {},
   "outputs": [],
   "source": [
    "# Shortening the time frame from 1999-2019\n",
    "all_co_melted_short = all_co_melted[all_co_melted['Year'] >= 1999]"
   ]
  },
  {
   "cell_type": "code",
   "execution_count": 818,
   "metadata": {},
   "outputs": [],
   "source": [
    "# Creating a copy of the slice of the dataframe\n",
    "all_co_melted_short = all_co_melted_short.copy()\n",
    "\n",
    "# Converting the data types to float\n",
    "all_co_melted_short[['Value']] = all_co_melted_short[['Value']].astype(float)\n"
   ]
  },
  {
   "cell_type": "code",
   "execution_count": 819,
   "metadata": {},
   "outputs": [
    {
     "name": "stderr",
     "output_type": "stream",
     "text": [
      "/opt/anaconda3/envs/pythondata/lib/python3.7/site-packages/ipykernel_launcher.py:2: UserWarning: Boolean Series key will be reindexed to match DataFrame index.\n",
      "  \n",
      "/opt/anaconda3/envs/pythondata/lib/python3.7/site-packages/ipykernel_launcher.py:3: UserWarning: Boolean Series key will be reindexed to match DataFrame index.\n",
      "  This is separate from the ipykernel package so we can avoid doing imports until\n"
     ]
    }
   ],
   "source": [
    "# Drop the rows with World and International Transport values\n",
    "all_co_ready = all_co_melted_short[all_co_melted['Country'] != 'World']\n",
    "all_co_ready = all_co_melted_short[all_co_melted['Country'] != 'International transport']\n"
   ]
  },
  {
   "cell_type": "code",
   "execution_count": 820,
   "metadata": {},
   "outputs": [
    {
     "data": {
      "text/html": [
       "<div>\n",
       "<style scoped>\n",
       "    .dataframe tbody tr th:only-of-type {\n",
       "        vertical-align: middle;\n",
       "    }\n",
       "\n",
       "    .dataframe tbody tr th {\n",
       "        vertical-align: top;\n",
       "    }\n",
       "\n",
       "    .dataframe thead th {\n",
       "        text-align: right;\n",
       "    }\n",
       "</style>\n",
       "<table border=\"1\" class=\"dataframe\">\n",
       "  <thead>\n",
       "    <tr style=\"text-align: right;\">\n",
       "      <th></th>\n",
       "      <th>Country</th>\n",
       "      <th>Country Code</th>\n",
       "      <th>Year</th>\n",
       "      <th>Type</th>\n",
       "      <th>Category</th>\n",
       "      <th>Value</th>\n",
       "    </tr>\n",
       "  </thead>\n",
       "  <tbody>\n",
       "    <tr>\n",
       "      <th>249</th>\n",
       "      <td>Afghanistan</td>\n",
       "      <td>AFG</td>\n",
       "      <td>1999</td>\n",
       "      <td>Total CO2</td>\n",
       "      <td>Total</td>\n",
       "      <td>1.091640</td>\n",
       "    </tr>\n",
       "    <tr>\n",
       "      <th>250</th>\n",
       "      <td>Afghanistan</td>\n",
       "      <td>AFG</td>\n",
       "      <td>2000</td>\n",
       "      <td>Total CO2</td>\n",
       "      <td>Total</td>\n",
       "      <td>1.047128</td>\n",
       "    </tr>\n",
       "    <tr>\n",
       "      <th>251</th>\n",
       "      <td>Afghanistan</td>\n",
       "      <td>AFG</td>\n",
       "      <td>2001</td>\n",
       "      <td>Total CO2</td>\n",
       "      <td>Total</td>\n",
       "      <td>1.069098</td>\n",
       "    </tr>\n",
       "    <tr>\n",
       "      <th>252</th>\n",
       "      <td>Afghanistan</td>\n",
       "      <td>AFG</td>\n",
       "      <td>2002</td>\n",
       "      <td>Total CO2</td>\n",
       "      <td>Total</td>\n",
       "      <td>1.340995</td>\n",
       "    </tr>\n",
       "    <tr>\n",
       "      <th>253</th>\n",
       "      <td>Afghanistan</td>\n",
       "      <td>AFG</td>\n",
       "      <td>2003</td>\n",
       "      <td>Total CO2</td>\n",
       "      <td>Total</td>\n",
       "      <td>1.559602</td>\n",
       "    </tr>\n",
       "  </tbody>\n",
       "</table>\n",
       "</div>"
      ],
      "text/plain": [
       "         Country Country Code  Year       Type Category     Value\n",
       "249  Afghanistan          AFG  1999  Total CO2    Total  1.091640\n",
       "250  Afghanistan          AFG  2000  Total CO2    Total  1.047128\n",
       "251  Afghanistan          AFG  2001  Total CO2    Total  1.069098\n",
       "252  Afghanistan          AFG  2002  Total CO2    Total  1.340995\n",
       "253  Afghanistan          AFG  2003  Total CO2    Total  1.559602"
      ]
     },
     "execution_count": 820,
     "metadata": {},
     "output_type": "execute_result"
    }
   ],
   "source": [
    "all_co_ready.head()\n"
   ]
  },
  {
   "attachments": {},
   "cell_type": "markdown",
   "metadata": {},
   "source": [
    "### Bringing in the GDP and Population data\n",
    "Bopth the GDP and Population data are from the same source and in the same format just pulled as different times as adding population to the dataset came later."
   ]
  },
  {
   "cell_type": "code",
   "execution_count": 821,
   "metadata": {},
   "outputs": [],
   "source": [
    "# Read in the GDP and pop data\n",
    "gdp_df= pd.read_csv('data/gdp_data.csv')\n",
    "pop_df = pd.read_csv('data/population.csv')\n",
    "\n",
    "# Concatenate the data frames\n",
    "all_gdp_df = pd.concat([gdp_df, pop_df], ignore_index=True)"
   ]
  },
  {
   "cell_type": "code",
   "execution_count": 822,
   "metadata": {},
   "outputs": [
    {
     "data": {
      "text/plain": [
       "Country Name     object\n",
       "Country Code     object\n",
       "Series Name      object\n",
       "Series Code      object\n",
       "2019 [YR2019]    object\n",
       "                  ...  \n",
       "1964 [YR1964]    object\n",
       "1963 [YR1963]    object\n",
       "1962 [YR1962]    object\n",
       "1961 [YR1961]    object\n",
       "1960 [YR1960]    object\n",
       "Length: 64, dtype: object"
      ]
     },
     "execution_count": 822,
     "metadata": {},
     "output_type": "execute_result"
    }
   ],
   "source": [
    "pop_df.dtypes"
   ]
  },
  {
   "cell_type": "code",
   "execution_count": 823,
   "metadata": {},
   "outputs": [],
   "source": [
    "# Setting the population values to integers with no decimals\n",
    "for col in pop_df.columns[4:]:\n",
    "    if np.issubdtype(pop_df[col].dtype, np.number):\n",
    "        pop_df[col] = pop_df[col].round(0).astype(int)"
   ]
  },
  {
   "cell_type": "code",
   "execution_count": 824,
   "metadata": {},
   "outputs": [
    {
     "data": {
      "text/html": [
       "<div>\n",
       "<style scoped>\n",
       "    .dataframe tbody tr th:only-of-type {\n",
       "        vertical-align: middle;\n",
       "    }\n",
       "\n",
       "    .dataframe tbody tr th {\n",
       "        vertical-align: top;\n",
       "    }\n",
       "\n",
       "    .dataframe thead th {\n",
       "        text-align: right;\n",
       "    }\n",
       "</style>\n",
       "<table border=\"1\" class=\"dataframe\">\n",
       "  <thead>\n",
       "    <tr style=\"text-align: right;\">\n",
       "      <th></th>\n",
       "      <th>Country</th>\n",
       "      <th>Country Code</th>\n",
       "      <th>Type</th>\n",
       "      <th>Category</th>\n",
       "      <th>1960</th>\n",
       "      <th>1961</th>\n",
       "      <th>1962</th>\n",
       "      <th>1963</th>\n",
       "      <th>1964</th>\n",
       "      <th>1965</th>\n",
       "      <th>...</th>\n",
       "      <th>2010</th>\n",
       "      <th>2011</th>\n",
       "      <th>2012</th>\n",
       "      <th>2013</th>\n",
       "      <th>2014</th>\n",
       "      <th>2015</th>\n",
       "      <th>2016</th>\n",
       "      <th>2017</th>\n",
       "      <th>2018</th>\n",
       "      <th>2019</th>\n",
       "    </tr>\n",
       "  </thead>\n",
       "  <tbody>\n",
       "    <tr>\n",
       "      <th>0</th>\n",
       "      <td>Afghanistan</td>\n",
       "      <td>AFG</td>\n",
       "      <td>GDP</td>\n",
       "      <td>GDP (current US$)</td>\n",
       "      <td>537777811.111111</td>\n",
       "      <td>548888895.555556</td>\n",
       "      <td>546666677.777778</td>\n",
       "      <td>751111191.111111</td>\n",
       "      <td>800000044.444444</td>\n",
       "      <td>1006666637.77778</td>\n",
       "      <td>...</td>\n",
       "      <td>15633856787.0425</td>\n",
       "      <td>18190410820.6235</td>\n",
       "      <td>20203572959.5023</td>\n",
       "      <td>20564485419.1684</td>\n",
       "      <td>20550582746.8448</td>\n",
       "      <td>19998156214.3988</td>\n",
       "      <td>18019558181.9602</td>\n",
       "      <td>18896352021.94</td>\n",
       "      <td>18418848299.5825</td>\n",
       "      <td>18904490262.913</td>\n",
       "    </tr>\n",
       "    <tr>\n",
       "      <th>1</th>\n",
       "      <td>Afghanistan</td>\n",
       "      <td>AFG</td>\n",
       "      <td>GDP</td>\n",
       "      <td>GDP per capita (current US$)</td>\n",
       "      <td>62.3693745050559</td>\n",
       "      <td>62.4437034626929</td>\n",
       "      <td>60.9503638210144</td>\n",
       "      <td>82.0217375781519</td>\n",
       "      <td>85.5110734102311</td>\n",
       "      <td>105.243195716467</td>\n",
       "      <td>...</td>\n",
       "      <td>554.595200222354</td>\n",
       "      <td>621.912310861592</td>\n",
       "      <td>663.141052810937</td>\n",
       "      <td>651.987861948108</td>\n",
       "      <td>628.146803888496</td>\n",
       "      <td>592.476537451681</td>\n",
       "      <td>520.252064031151</td>\n",
       "      <td>530.149830802984</td>\n",
       "      <td>502.056770622973</td>\n",
       "      <td>500.522664145294</td>\n",
       "    </tr>\n",
       "    <tr>\n",
       "      <th>2</th>\n",
       "      <td>Africa Eastern and Southern</td>\n",
       "      <td>AFE</td>\n",
       "      <td>GDP</td>\n",
       "      <td>GDP (current US$)</td>\n",
       "      <td>21291524631.3606</td>\n",
       "      <td>21809435284.9773</td>\n",
       "      <td>23708060554.431</td>\n",
       "      <td>28211280561.2905</td>\n",
       "      <td>26119938954.6996</td>\n",
       "      <td>29683481336.0513</td>\n",
       "      <td>...</td>\n",
       "      <td>860361207235.72</td>\n",
       "      <td>964213016259.692</td>\n",
       "      <td>972002199045.518</td>\n",
       "      <td>982677082467.187</td>\n",
       "      <td>1003403000510.52</td>\n",
       "      <td>923143900034.922</td>\n",
       "      <td>889859250365.411</td>\n",
       "      <td>1030482257898.25</td>\n",
       "      <td>1016696893390.38</td>\n",
       "      <td>1009051505055.59</td>\n",
       "    </tr>\n",
       "    <tr>\n",
       "      <th>3</th>\n",
       "      <td>Africa Eastern and Southern</td>\n",
       "      <td>AFE</td>\n",
       "      <td>GDP</td>\n",
       "      <td>GDP per capita (current US$)</td>\n",
       "      <td>162.913034498773</td>\n",
       "      <td>162.551683028333</td>\n",
       "      <td>172.002459991871</td>\n",
       "      <td>199.189238183763</td>\n",
       "      <td>179.387798934375</td>\n",
       "      <td>198.230367947484</td>\n",
       "      <td>...</td>\n",
       "      <td>1643.60556870139</td>\n",
       "      <td>1792.90750512756</td>\n",
       "      <td>1759.18239469392</td>\n",
       "      <td>1730.39468555029</td>\n",
       "      <td>1719.18372097247</td>\n",
       "      <td>1538.55226805656</td>\n",
       "      <td>1443.69237090812</td>\n",
       "      <td>1628.58678812124</td>\n",
       "      <td>1564.73433998697</td>\n",
       "      <td>1512.2705529912</td>\n",
       "    </tr>\n",
       "    <tr>\n",
       "      <th>4</th>\n",
       "      <td>Africa Western and Central</td>\n",
       "      <td>AFW</td>\n",
       "      <td>GDP</td>\n",
       "      <td>GDP (current US$)</td>\n",
       "      <td>10404135069.15</td>\n",
       "      <td>11127894641.0191</td>\n",
       "      <td>11943187848.3043</td>\n",
       "      <td>12676330764.6917</td>\n",
       "      <td>13838369295.2313</td>\n",
       "      <td>14862225759.9135</td>\n",
       "      <td>...</td>\n",
       "      <td>597129288864.775</td>\n",
       "      <td>680455985950.414</td>\n",
       "      <td>736039861278.13</td>\n",
       "      <td>832216894624.603</td>\n",
       "      <td>892497905712.366</td>\n",
       "      <td>766957955078.105</td>\n",
       "      <td>690545418736.157</td>\n",
       "      <td>683748014299.694</td>\n",
       "      <td>766359667820.703</td>\n",
       "      <td>794719102944.191</td>\n",
       "    </tr>\n",
       "  </tbody>\n",
       "</table>\n",
       "<p>5 rows × 64 columns</p>\n",
       "</div>"
      ],
      "text/plain": [
       "                       Country Country Code Type  \\\n",
       "0                  Afghanistan          AFG  GDP   \n",
       "1                  Afghanistan          AFG  GDP   \n",
       "2  Africa Eastern and Southern          AFE  GDP   \n",
       "3  Africa Eastern and Southern          AFE  GDP   \n",
       "4   Africa Western and Central          AFW  GDP   \n",
       "\n",
       "                       Category              1960              1961  \\\n",
       "0             GDP (current US$)  537777811.111111  548888895.555556   \n",
       "1  GDP per capita (current US$)  62.3693745050559  62.4437034626929   \n",
       "2             GDP (current US$)  21291524631.3606  21809435284.9773   \n",
       "3  GDP per capita (current US$)  162.913034498773  162.551683028333   \n",
       "4             GDP (current US$)    10404135069.15  11127894641.0191   \n",
       "\n",
       "               1962              1963              1964              1965  \\\n",
       "0  546666677.777778  751111191.111111  800000044.444444  1006666637.77778   \n",
       "1  60.9503638210144  82.0217375781519  85.5110734102311  105.243195716467   \n",
       "2   23708060554.431  28211280561.2905  26119938954.6996  29683481336.0513   \n",
       "3  172.002459991871  199.189238183763  179.387798934375  198.230367947484   \n",
       "4  11943187848.3043  12676330764.6917  13838369295.2313  14862225759.9135   \n",
       "\n",
       "   ...              2010              2011              2012  \\\n",
       "0  ...  15633856787.0425  18190410820.6235  20203572959.5023   \n",
       "1  ...  554.595200222354  621.912310861592  663.141052810937   \n",
       "2  ...   860361207235.72  964213016259.692  972002199045.518   \n",
       "3  ...  1643.60556870139  1792.90750512756  1759.18239469392   \n",
       "4  ...  597129288864.775  680455985950.414   736039861278.13   \n",
       "\n",
       "               2013              2014              2015              2016  \\\n",
       "0  20564485419.1684  20550582746.8448  19998156214.3988  18019558181.9602   \n",
       "1  651.987861948108  628.146803888496  592.476537451681  520.252064031151   \n",
       "2  982677082467.187  1003403000510.52  923143900034.922  889859250365.411   \n",
       "3  1730.39468555029  1719.18372097247  1538.55226805656  1443.69237090812   \n",
       "4  832216894624.603  892497905712.366  766957955078.105  690545418736.157   \n",
       "\n",
       "               2017              2018              2019  \n",
       "0    18896352021.94  18418848299.5825   18904490262.913  \n",
       "1  530.149830802984  502.056770622973  500.522664145294  \n",
       "2  1030482257898.25  1016696893390.38  1009051505055.59  \n",
       "3  1628.58678812124  1564.73433998697   1512.2705529912  \n",
       "4  683748014299.694  766359667820.703  794719102944.191  \n",
       "\n",
       "[5 rows x 64 columns]"
      ]
     },
     "execution_count": 824,
     "metadata": {},
     "output_type": "execute_result"
    }
   ],
   "source": [
    "# Cleaning up the column names\n",
    "new_columns = []\n",
    "for column in all_gdp_df.columns:\n",
    "    new_columns.append(column.split('[')[0].strip())\n",
    "\n",
    "all_gdp_df.columns = new_columns\n",
    "\n",
    "# Renaming the series to match Type from the CO2 data\n",
    "all_gdp_df = all_gdp_df.rename(columns = {'Series Name':'Category', 'Country Name':'Country'})\n",
    "\n",
    "# Adding the Type column for merging later with the CO2 data, add it in column 2\n",
    "all_gdp_df.insert(2, 'Type', 'GDP')\n",
    "\n",
    "# Dropping the series code column\n",
    "all_gdp_df_formatted = all_gdp_df.drop(columns = ['Series Code'])\n",
    "\n",
    "all_gdp_df_formatted.head()"
   ]
  },
  {
   "cell_type": "code",
   "execution_count": 825,
   "metadata": {},
   "outputs": [
    {
     "data": {
      "text/plain": [
       "Country         object\n",
       "Country Code    object\n",
       "Type            object\n",
       "Category        object\n",
       "1960            object\n",
       "                 ...  \n",
       "2015            object\n",
       "2016            object\n",
       "2017            object\n",
       "2018            object\n",
       "2019            object\n",
       "Length: 64, dtype: object"
      ]
     },
     "execution_count": 825,
     "metadata": {},
     "output_type": "execute_result"
    }
   ],
   "source": [
    "all_gdp_df_formatted.dtypes"
   ]
  },
  {
   "cell_type": "code",
   "execution_count": 826,
   "metadata": {},
   "outputs": [
    {
     "data": {
      "text/plain": [
       "GDP per capita (current US$)    266\n",
       "Population, total               266\n",
       "GDP (current US$)               266\n",
       "Name: Category, dtype: int64"
      ]
     },
     "execution_count": 826,
     "metadata": {},
     "output_type": "execute_result"
    }
   ],
   "source": [
    "all_gdp_df_formatted['Category'].value_counts()"
   ]
  },
  {
   "cell_type": "code",
   "execution_count": 827,
   "metadata": {},
   "outputs": [],
   "source": [
    "# Paring down the countries contain to match the all_co_melted\n",
    "pared_gdp_df = all_gdp_df_formatted[all_gdp_df_formatted['Country Code'].isin(all_co_melted['Country Code'])]"
   ]
  },
  {
   "cell_type": "code",
   "execution_count": 828,
   "metadata": {},
   "outputs": [
    {
     "data": {
      "text/html": [
       "<div>\n",
       "<style scoped>\n",
       "    .dataframe tbody tr th:only-of-type {\n",
       "        vertical-align: middle;\n",
       "    }\n",
       "\n",
       "    .dataframe tbody tr th {\n",
       "        vertical-align: top;\n",
       "    }\n",
       "\n",
       "    .dataframe thead th {\n",
       "        text-align: right;\n",
       "    }\n",
       "</style>\n",
       "<table border=\"1\" class=\"dataframe\">\n",
       "  <thead>\n",
       "    <tr style=\"text-align: right;\">\n",
       "      <th></th>\n",
       "      <th>Country</th>\n",
       "      <th>Country Code</th>\n",
       "      <th>Type</th>\n",
       "      <th>Category</th>\n",
       "      <th>Year</th>\n",
       "      <th>Value</th>\n",
       "    </tr>\n",
       "  </thead>\n",
       "  <tbody>\n",
       "    <tr>\n",
       "      <th>0</th>\n",
       "      <td>Afghanistan</td>\n",
       "      <td>AFG</td>\n",
       "      <td>GDP</td>\n",
       "      <td>GDP (current US$)</td>\n",
       "      <td>1960</td>\n",
       "      <td>537777811.111111</td>\n",
       "    </tr>\n",
       "    <tr>\n",
       "      <th>1</th>\n",
       "      <td>Afghanistan</td>\n",
       "      <td>AFG</td>\n",
       "      <td>GDP</td>\n",
       "      <td>GDP per capita (current US$)</td>\n",
       "      <td>1960</td>\n",
       "      <td>62.3693745050559</td>\n",
       "    </tr>\n",
       "    <tr>\n",
       "      <th>2</th>\n",
       "      <td>Albania</td>\n",
       "      <td>ALB</td>\n",
       "      <td>GDP</td>\n",
       "      <td>GDP (current US$)</td>\n",
       "      <td>1960</td>\n",
       "      <td>..</td>\n",
       "    </tr>\n",
       "    <tr>\n",
       "      <th>3</th>\n",
       "      <td>Albania</td>\n",
       "      <td>ALB</td>\n",
       "      <td>GDP</td>\n",
       "      <td>GDP per capita (current US$)</td>\n",
       "      <td>1960</td>\n",
       "      <td>..</td>\n",
       "    </tr>\n",
       "    <tr>\n",
       "      <th>4</th>\n",
       "      <td>Algeria</td>\n",
       "      <td>DZA</td>\n",
       "      <td>GDP</td>\n",
       "      <td>GDP (current US$)</td>\n",
       "      <td>1960</td>\n",
       "      <td>2723593384.78054</td>\n",
       "    </tr>\n",
       "  </tbody>\n",
       "</table>\n",
       "</div>"
      ],
      "text/plain": [
       "       Country Country Code Type                      Category  Year  \\\n",
       "0  Afghanistan          AFG  GDP             GDP (current US$)  1960   \n",
       "1  Afghanistan          AFG  GDP  GDP per capita (current US$)  1960   \n",
       "2      Albania          ALB  GDP             GDP (current US$)  1960   \n",
       "3      Albania          ALB  GDP  GDP per capita (current US$)  1960   \n",
       "4      Algeria          DZA  GDP             GDP (current US$)  1960   \n",
       "\n",
       "              Value  \n",
       "0  537777811.111111  \n",
       "1  62.3693745050559  \n",
       "2                ..  \n",
       "3                ..  \n",
       "4  2723593384.78054  "
      ]
     },
     "execution_count": 828,
     "metadata": {},
     "output_type": "execute_result"
    }
   ],
   "source": [
    "# Melt the data frame, id_vars is what columns to keep, value_vars is what columns to melt\n",
    "gdp_melted = pd.melt(pared_gdp_df, id_vars=['Country', 'Country Code', 'Type', 'Category'],\n",
    "                     var_name='Year', value_name='Value')\n",
    "\n",
    "gdp_melted.head()"
   ]
  },
  {
   "cell_type": "code",
   "execution_count": 829,
   "metadata": {},
   "outputs": [],
   "source": [
    "# Making sure these two total lines aren't present in this dataset\n",
    "gdp_melted = gdp_melted[gdp_melted['Country'] != 'World']\n",
    "gdp_melted = gdp_melted[gdp_melted['Country'] != 'International transport']"
   ]
  },
  {
   "cell_type": "code",
   "execution_count": 830,
   "metadata": {},
   "outputs": [
    {
     "data": {
      "text/html": [
       "<div>\n",
       "<style scoped>\n",
       "    .dataframe tbody tr th:only-of-type {\n",
       "        vertical-align: middle;\n",
       "    }\n",
       "\n",
       "    .dataframe tbody tr th {\n",
       "        vertical-align: top;\n",
       "    }\n",
       "\n",
       "    .dataframe thead th {\n",
       "        text-align: right;\n",
       "    }\n",
       "</style>\n",
       "<table border=\"1\" class=\"dataframe\">\n",
       "  <thead>\n",
       "    <tr style=\"text-align: right;\">\n",
       "      <th></th>\n",
       "      <th>Country</th>\n",
       "      <th>Country Code</th>\n",
       "      <th>Type</th>\n",
       "      <th>Category</th>\n",
       "      <th>Year</th>\n",
       "      <th>Value</th>\n",
       "    </tr>\n",
       "  </thead>\n",
       "  <tbody>\n",
       "    <tr>\n",
       "      <th>2</th>\n",
       "      <td>Albania</td>\n",
       "      <td>ALB</td>\n",
       "      <td>GDP</td>\n",
       "      <td>GDP (current US$)</td>\n",
       "      <td>1960</td>\n",
       "      <td>..</td>\n",
       "    </tr>\n",
       "    <tr>\n",
       "      <th>3</th>\n",
       "      <td>Albania</td>\n",
       "      <td>ALB</td>\n",
       "      <td>GDP</td>\n",
       "      <td>GDP per capita (current US$)</td>\n",
       "      <td>1960</td>\n",
       "      <td>..</td>\n",
       "    </tr>\n",
       "    <tr>\n",
       "      <th>6</th>\n",
       "      <td>Andorra</td>\n",
       "      <td>AND</td>\n",
       "      <td>GDP</td>\n",
       "      <td>GDP (current US$)</td>\n",
       "      <td>1960</td>\n",
       "      <td>..</td>\n",
       "    </tr>\n",
       "    <tr>\n",
       "      <th>7</th>\n",
       "      <td>Andorra</td>\n",
       "      <td>AND</td>\n",
       "      <td>GDP</td>\n",
       "      <td>GDP per capita (current US$)</td>\n",
       "      <td>1960</td>\n",
       "      <td>..</td>\n",
       "    </tr>\n",
       "    <tr>\n",
       "      <th>8</th>\n",
       "      <td>Angola</td>\n",
       "      <td>AGO</td>\n",
       "      <td>GDP</td>\n",
       "      <td>GDP (current US$)</td>\n",
       "      <td>1960</td>\n",
       "      <td>..</td>\n",
       "    </tr>\n",
       "    <tr>\n",
       "      <th>...</th>\n",
       "      <td>...</td>\n",
       "      <td>...</td>\n",
       "      <td>...</td>\n",
       "      <td>...</td>\n",
       "      <td>...</td>\n",
       "      <td>...</td>\n",
       "    </tr>\n",
       "    <tr>\n",
       "      <th>36799</th>\n",
       "      <td>South Sudan</td>\n",
       "      <td>SSD</td>\n",
       "      <td>GDP</td>\n",
       "      <td>GDP per capita (current US$)</td>\n",
       "      <td>2019</td>\n",
       "      <td>..</td>\n",
       "    </tr>\n",
       "    <tr>\n",
       "      <th>36860</th>\n",
       "      <td>Venezuela, RB</td>\n",
       "      <td>VEN</td>\n",
       "      <td>GDP</td>\n",
       "      <td>GDP (current US$)</td>\n",
       "      <td>2019</td>\n",
       "      <td>..</td>\n",
       "    </tr>\n",
       "    <tr>\n",
       "      <th>36861</th>\n",
       "      <td>Venezuela, RB</td>\n",
       "      <td>VEN</td>\n",
       "      <td>GDP</td>\n",
       "      <td>GDP per capita (current US$)</td>\n",
       "      <td>2019</td>\n",
       "      <td>..</td>\n",
       "    </tr>\n",
       "    <tr>\n",
       "      <th>36868</th>\n",
       "      <td>Yemen, Rep.</td>\n",
       "      <td>YEM</td>\n",
       "      <td>GDP</td>\n",
       "      <td>GDP (current US$)</td>\n",
       "      <td>2019</td>\n",
       "      <td>..</td>\n",
       "    </tr>\n",
       "    <tr>\n",
       "      <th>36869</th>\n",
       "      <td>Yemen, Rep.</td>\n",
       "      <td>YEM</td>\n",
       "      <td>GDP</td>\n",
       "      <td>GDP per capita (current US$)</td>\n",
       "      <td>2019</td>\n",
       "      <td>..</td>\n",
       "    </tr>\n",
       "  </tbody>\n",
       "</table>\n",
       "<p>5110 rows × 6 columns</p>\n",
       "</div>"
      ],
      "text/plain": [
       "             Country Country Code Type                      Category  Year  \\\n",
       "2            Albania          ALB  GDP             GDP (current US$)  1960   \n",
       "3            Albania          ALB  GDP  GDP per capita (current US$)  1960   \n",
       "6            Andorra          AND  GDP             GDP (current US$)  1960   \n",
       "7            Andorra          AND  GDP  GDP per capita (current US$)  1960   \n",
       "8             Angola          AGO  GDP             GDP (current US$)  1960   \n",
       "...              ...          ...  ...                           ...   ...   \n",
       "36799    South Sudan          SSD  GDP  GDP per capita (current US$)  2019   \n",
       "36860  Venezuela, RB          VEN  GDP             GDP (current US$)  2019   \n",
       "36861  Venezuela, RB          VEN  GDP  GDP per capita (current US$)  2019   \n",
       "36868    Yemen, Rep.          YEM  GDP             GDP (current US$)  2019   \n",
       "36869    Yemen, Rep.          YEM  GDP  GDP per capita (current US$)  2019   \n",
       "\n",
       "      Value  \n",
       "2        ..  \n",
       "3        ..  \n",
       "6        ..  \n",
       "7        ..  \n",
       "8        ..  \n",
       "...     ...  \n",
       "36799    ..  \n",
       "36860    ..  \n",
       "36861    ..  \n",
       "36868    ..  \n",
       "36869    ..  \n",
       "\n",
       "[5110 rows x 6 columns]"
      ]
     },
     "execution_count": 830,
     "metadata": {},
     "output_type": "execute_result"
    }
   ],
   "source": [
    "missing_values = gdp_melted.loc[gdp_melted['Value']=='..']\n",
    "missing_values"
   ]
  },
  {
   "cell_type": "code",
   "execution_count": 831,
   "metadata": {},
   "outputs": [],
   "source": [
    "# What countries and "
   ]
  },
  {
   "cell_type": "code",
   "execution_count": 832,
   "metadata": {},
   "outputs": [
    {
     "data": {
      "text/plain": [
       "Country         object\n",
       "Country Code    object\n",
       "Type            object\n",
       "Category        object\n",
       "Year            object\n",
       "Value           object\n",
       "dtype: object"
      ]
     },
     "execution_count": 832,
     "metadata": {},
     "output_type": "execute_result"
    }
   ],
   "source": [
    "gdp_melted.dtypes"
   ]
  },
  {
   "cell_type": "code",
   "execution_count": 833,
   "metadata": {},
   "outputs": [],
   "source": [
    "# Converting year to Int and GDP_Value to float, replace \"..\" with NaN\n",
    "gdp_melted[['Year']] = gdp_melted[['Year']].astype(int).copy()\n",
    "gdp_melted['Value'] = pd.to_numeric(gdp_melted['Value'], errors='coerce').copy()\n"
   ]
  },
  {
   "cell_type": "code",
   "execution_count": 834,
   "metadata": {},
   "outputs": [],
   "source": [
    "# Shortening the time frame from 1999-2019\n",
    "gdp_melted_short = gdp_melted[gdp_melted['Year'] >= 1999]"
   ]
  },
  {
   "cell_type": "code",
   "execution_count": 835,
   "metadata": {},
   "outputs": [],
   "source": [
    "# Reorder the columns\n",
    "gdp_melted_almost_ready = gdp_melted_short[['Country', 'Country Code', 'Year', 'Type', 'Category', 'Value']]"
   ]
  },
  {
   "cell_type": "code",
   "execution_count": 836,
   "metadata": {},
   "outputs": [
    {
     "data": {
      "text/plain": [
       "PRK    42\n",
       "VGB    42\n",
       "SOM    28\n",
       "SSD    26\n",
       "SXM    26\n",
       "CUW    24\n",
       "NRU    22\n",
       "ERI    16\n",
       "VEN    10\n",
       "AFG     6\n",
       "STP     4\n",
       "TCA     4\n",
       "YEM     2\n",
       "MNE     2\n",
       "LBR     2\n",
       "PLW     2\n",
       "TLS     2\n",
       "Name: Country Code, dtype: int64"
      ]
     },
     "execution_count": 836,
     "metadata": {},
     "output_type": "execute_result"
    }
   ],
   "source": [
    "# What country codes have null values?\n",
    "missing_df = gdp_melted_almost_ready[gdp_melted_almost_ready['Value'].isnull()]\n",
    "missing_df['Country Code'].value_counts()\n"
   ]
  },
  {
   "cell_type": "code",
   "execution_count": 837,
   "metadata": {},
   "outputs": [],
   "source": [
    "# Pull the countries with null values from the GDP data\n",
    "missing_countries = missing_df['Country'].unique()\n",
    "gdp_melted_ready = gdp_melted_almost_ready[~gdp_melted_almost_ready['Country'].isin(missing_countries)]"
   ]
  },
  {
   "attachments": {},
   "cell_type": "markdown",
   "metadata": {},
   "source": [
    "### Make sure the CO2 df and GDP df have the same countries in them\n",
    "All the countries from the orginal CO2 data should be represented with GDP data and there should be no extraneous countries with only GDP data in the set. "
   ]
  },
  {
   "cell_type": "code",
   "execution_count": 838,
   "metadata": {},
   "outputs": [
    {
     "name": "stdout",
     "output_type": "stream",
     "text": [
      "There are 37 countries in the CO2 df that are not in the GDP df.      The country not in the other data frame is: ['AFG', 'AIA', 'ATA', 'BES', 'VGB', 'CXR', 'COK', 'CUW', 'PRK', 'ERI', 'PCZ', 'GUF', 'GLP', 'KSV', 'LBR', 'MTQ', 'MYT', 'MNE', 'MSR', 'NRU', 'NIU', 'PLW', 'SSD', 'REU', 'SHN', 'SXM', 'STP', 'SOM', 'SPM', 'TWN', 'TLS', 'TCA', 'VEN', 'WLF', 'YEM', 'XIT', 'WLD']\n",
      "There are 0 countries in the GDP df that are not in the CO2 df.      The country not in the other data frame is: []\n"
     ]
    }
   ],
   "source": [
    "# Get unique country codes for each df and compare\n",
    "co_codes = all_co_ready['Country Code'].unique() \n",
    "gdp_codes = gdp_melted_ready['Country Code'].unique()\n",
    "\n",
    "# Are there any countries in the CO2 df that are not in the per capita df?\n",
    "co_not_in_gdp = []\n",
    "for code in co_codes:\n",
    "    if code not in gdp_codes:\n",
    "        co_not_in_gdp.append(code)\n",
    "print(f\"There are {len(co_not_in_gdp)} countries in the CO2 df that are not in the GDP df.\\\n",
    "      The country not in the other data frame is: {co_not_in_gdp}\")\n",
    "\n",
    "# Show the countries that are not in the per capita df\n",
    "co_not_in_gdp\n",
    "\n",
    "# Are there any countries in the per capita df that are not in the CO2 df?\n",
    "gdp_not_in_co = []   \n",
    "for code in gdp_codes:\n",
    "    if code not in co_codes:\n",
    "        gdp_not_in_co.append(code)   \n",
    "print(f\"There are {len(gdp_not_in_co)} countries in the GDP df that are not in the CO2 df.\\\n",
    "      The country not in the other data frame is: {gdp_not_in_co}\")"
   ]
  },
  {
   "cell_type": "code",
   "execution_count": 839,
   "metadata": {},
   "outputs": [],
   "source": [
    "# Drop the countries in the CO2 df that are not in the GDP df\n",
    "all_co_ready = all_co_ready[~all_co_ready['Country Code'].isin(co_not_in_gdp)]\n"
   ]
  },
  {
   "attachments": {},
   "cell_type": "markdown",
   "metadata": {},
   "source": [
    "### Merge the CO2 and GDP dataframes"
   ]
  },
  {
   "cell_type": "code",
   "execution_count": 840,
   "metadata": {},
   "outputs": [
    {
     "data": {
      "text/html": [
       "<div>\n",
       "<style scoped>\n",
       "    .dataframe tbody tr th:only-of-type {\n",
       "        vertical-align: middle;\n",
       "    }\n",
       "\n",
       "    .dataframe tbody tr th {\n",
       "        vertical-align: top;\n",
       "    }\n",
       "\n",
       "    .dataframe thead th {\n",
       "        text-align: right;\n",
       "    }\n",
       "</style>\n",
       "<table border=\"1\" class=\"dataframe\">\n",
       "  <thead>\n",
       "    <tr style=\"text-align: right;\">\n",
       "      <th></th>\n",
       "      <th>Country</th>\n",
       "      <th>Country Code</th>\n",
       "      <th>Year</th>\n",
       "      <th>Type</th>\n",
       "      <th>Category</th>\n",
       "      <th>Value</th>\n",
       "    </tr>\n",
       "  </thead>\n",
       "  <tbody>\n",
       "    <tr>\n",
       "      <th>521</th>\n",
       "      <td>Albania</td>\n",
       "      <td>ALB</td>\n",
       "      <td>1999</td>\n",
       "      <td>Total CO2</td>\n",
       "      <td>Total</td>\n",
       "      <td>2.986196</td>\n",
       "    </tr>\n",
       "    <tr>\n",
       "      <th>522</th>\n",
       "      <td>Albania</td>\n",
       "      <td>ALB</td>\n",
       "      <td>2000</td>\n",
       "      <td>Total CO2</td>\n",
       "      <td>Total</td>\n",
       "      <td>3.024926</td>\n",
       "    </tr>\n",
       "    <tr>\n",
       "      <th>523</th>\n",
       "      <td>Albania</td>\n",
       "      <td>ALB</td>\n",
       "      <td>2001</td>\n",
       "      <td>Total CO2</td>\n",
       "      <td>Total</td>\n",
       "      <td>3.220656</td>\n",
       "    </tr>\n",
       "    <tr>\n",
       "      <th>524</th>\n",
       "      <td>Albania</td>\n",
       "      <td>ALB</td>\n",
       "      <td>2002</td>\n",
       "      <td>Total CO2</td>\n",
       "      <td>Total</td>\n",
       "      <td>3.748272</td>\n",
       "    </tr>\n",
       "    <tr>\n",
       "      <th>525</th>\n",
       "      <td>Albania</td>\n",
       "      <td>ALB</td>\n",
       "      <td>2003</td>\n",
       "      <td>Total CO2</td>\n",
       "      <td>Total</td>\n",
       "      <td>4.303499</td>\n",
       "    </tr>\n",
       "  </tbody>\n",
       "</table>\n",
       "</div>"
      ],
      "text/plain": [
       "     Country Country Code  Year       Type Category     Value\n",
       "521  Albania          ALB  1999  Total CO2    Total  2.986196\n",
       "522  Albania          ALB  2000  Total CO2    Total  3.024926\n",
       "523  Albania          ALB  2001  Total CO2    Total  3.220656\n",
       "524  Albania          ALB  2002  Total CO2    Total  3.748272\n",
       "525  Albania          ALB  2003  Total CO2    Total  4.303499"
      ]
     },
     "execution_count": 840,
     "metadata": {},
     "output_type": "execute_result"
    }
   ],
   "source": [
    "all_co_ready.head()"
   ]
  },
  {
   "cell_type": "code",
   "execution_count": 841,
   "metadata": {},
   "outputs": [
    {
     "data": {
      "text/html": [
       "<div>\n",
       "<style scoped>\n",
       "    .dataframe tbody tr th:only-of-type {\n",
       "        vertical-align: middle;\n",
       "    }\n",
       "\n",
       "    .dataframe tbody tr th {\n",
       "        vertical-align: top;\n",
       "    }\n",
       "\n",
       "    .dataframe thead th {\n",
       "        text-align: right;\n",
       "    }\n",
       "</style>\n",
       "<table border=\"1\" class=\"dataframe\">\n",
       "  <thead>\n",
       "    <tr style=\"text-align: right;\">\n",
       "      <th></th>\n",
       "      <th>Country</th>\n",
       "      <th>Country Code</th>\n",
       "      <th>Year</th>\n",
       "      <th>Type</th>\n",
       "      <th>Category</th>\n",
       "      <th>Value</th>\n",
       "    </tr>\n",
       "  </thead>\n",
       "  <tbody>\n",
       "    <tr>\n",
       "      <th>24104</th>\n",
       "      <td>Albania</td>\n",
       "      <td>ALB</td>\n",
       "      <td>1999</td>\n",
       "      <td>GDP</td>\n",
       "      <td>GDP (current US$)</td>\n",
       "      <td>3.212122e+09</td>\n",
       "    </tr>\n",
       "    <tr>\n",
       "      <th>24105</th>\n",
       "      <td>Albania</td>\n",
       "      <td>ALB</td>\n",
       "      <td>1999</td>\n",
       "      <td>GDP</td>\n",
       "      <td>GDP per capita (current US$)</td>\n",
       "      <td>1.033243e+03</td>\n",
       "    </tr>\n",
       "    <tr>\n",
       "      <th>24106</th>\n",
       "      <td>Algeria</td>\n",
       "      <td>DZA</td>\n",
       "      <td>1999</td>\n",
       "      <td>GDP</td>\n",
       "      <td>GDP (current US$)</td>\n",
       "      <td>4.864065e+10</td>\n",
       "    </tr>\n",
       "    <tr>\n",
       "      <th>24107</th>\n",
       "      <td>Algeria</td>\n",
       "      <td>DZA</td>\n",
       "      <td>1999</td>\n",
       "      <td>GDP</td>\n",
       "      <td>GDP per capita (current US$)</td>\n",
       "      <td>1.602864e+03</td>\n",
       "    </tr>\n",
       "    <tr>\n",
       "      <th>24108</th>\n",
       "      <td>Andorra</td>\n",
       "      <td>AND</td>\n",
       "      <td>1999</td>\n",
       "      <td>GDP</td>\n",
       "      <td>GDP (current US$)</td>\n",
       "      <td>1.239876e+09</td>\n",
       "    </tr>\n",
       "  </tbody>\n",
       "</table>\n",
       "</div>"
      ],
      "text/plain": [
       "       Country Country Code  Year Type                      Category  \\\n",
       "24104  Albania          ALB  1999  GDP             GDP (current US$)   \n",
       "24105  Albania          ALB  1999  GDP  GDP per capita (current US$)   \n",
       "24106  Algeria          DZA  1999  GDP             GDP (current US$)   \n",
       "24107  Algeria          DZA  1999  GDP  GDP per capita (current US$)   \n",
       "24108  Andorra          AND  1999  GDP             GDP (current US$)   \n",
       "\n",
       "              Value  \n",
       "24104  3.212122e+09  \n",
       "24105  1.033243e+03  \n",
       "24106  4.864065e+10  \n",
       "24107  1.602864e+03  \n",
       "24108  1.239876e+09  "
      ]
     },
     "execution_count": 841,
     "metadata": {},
     "output_type": "execute_result"
    }
   ],
   "source": [
    "gdp_melted_ready.head()"
   ]
  },
  {
   "cell_type": "code",
   "execution_count": 842,
   "metadata": {},
   "outputs": [],
   "source": [
    "# Merge the CO2 and GDP data frames\n",
    "co_gdp_df = pd.merge(all_co_ready, gdp_melted_ready, how='outer', on=['Country', 'Country Code', 'Year', 'Type', 'Category', 'Value'])"
   ]
  },
  {
   "cell_type": "code",
   "execution_count": 843,
   "metadata": {},
   "outputs": [
    {
     "data": {
      "text/html": [
       "<div>\n",
       "<style scoped>\n",
       "    .dataframe tbody tr th:only-of-type {\n",
       "        vertical-align: middle;\n",
       "    }\n",
       "\n",
       "    .dataframe tbody tr th {\n",
       "        vertical-align: top;\n",
       "    }\n",
       "\n",
       "    .dataframe thead th {\n",
       "        text-align: right;\n",
       "    }\n",
       "</style>\n",
       "<table border=\"1\" class=\"dataframe\">\n",
       "  <thead>\n",
       "    <tr style=\"text-align: right;\">\n",
       "      <th></th>\n",
       "      <th>Country</th>\n",
       "      <th>Country Code</th>\n",
       "      <th>Year</th>\n",
       "      <th>Type</th>\n",
       "      <th>Category</th>\n",
       "      <th>Value</th>\n",
       "    </tr>\n",
       "  </thead>\n",
       "  <tbody>\n",
       "    <tr>\n",
       "      <th>0</th>\n",
       "      <td>Albania</td>\n",
       "      <td>ALB</td>\n",
       "      <td>1999</td>\n",
       "      <td>Total CO2</td>\n",
       "      <td>Total</td>\n",
       "      <td>2.986196</td>\n",
       "    </tr>\n",
       "    <tr>\n",
       "      <th>1</th>\n",
       "      <td>Albania</td>\n",
       "      <td>ALB</td>\n",
       "      <td>2000</td>\n",
       "      <td>Total CO2</td>\n",
       "      <td>Total</td>\n",
       "      <td>3.024926</td>\n",
       "    </tr>\n",
       "    <tr>\n",
       "      <th>2</th>\n",
       "      <td>Albania</td>\n",
       "      <td>ALB</td>\n",
       "      <td>2001</td>\n",
       "      <td>Total CO2</td>\n",
       "      <td>Total</td>\n",
       "      <td>3.220656</td>\n",
       "    </tr>\n",
       "    <tr>\n",
       "      <th>3</th>\n",
       "      <td>Albania</td>\n",
       "      <td>ALB</td>\n",
       "      <td>2002</td>\n",
       "      <td>Total CO2</td>\n",
       "      <td>Total</td>\n",
       "      <td>3.748272</td>\n",
       "    </tr>\n",
       "    <tr>\n",
       "      <th>4</th>\n",
       "      <td>Albania</td>\n",
       "      <td>ALB</td>\n",
       "      <td>2003</td>\n",
       "      <td>Total CO2</td>\n",
       "      <td>Total</td>\n",
       "      <td>4.303499</td>\n",
       "    </tr>\n",
       "  </tbody>\n",
       "</table>\n",
       "</div>"
      ],
      "text/plain": [
       "   Country Country Code  Year       Type Category     Value\n",
       "0  Albania          ALB  1999  Total CO2    Total  2.986196\n",
       "1  Albania          ALB  2000  Total CO2    Total  3.024926\n",
       "2  Albania          ALB  2001  Total CO2    Total  3.220656\n",
       "3  Albania          ALB  2002  Total CO2    Total  3.748272\n",
       "4  Albania          ALB  2003  Total CO2    Total  4.303499"
      ]
     },
     "execution_count": 843,
     "metadata": {},
     "output_type": "execute_result"
    }
   ],
   "source": [
    "co_gdp_df.head()"
   ]
  },
  {
   "cell_type": "code",
   "execution_count": 844,
   "metadata": {},
   "outputs": [],
   "source": [
    "# Find all NaN values and replace them with None, as NaN will error when it gets to the html\n",
    "co_gdp_df = co_gdp_df.replace(np.nan, None)"
   ]
  },
  {
   "cell_type": "code",
   "execution_count": 889,
   "metadata": {},
   "outputs": [
    {
     "data": {
      "text/plain": [
       "Total                           46\n",
       "Oil                             46\n",
       "Cement                          46\n",
       "Gas                             46\n",
       "Other                           46\n",
       "Flaring                         46\n",
       "Coal                            46\n",
       "GDP per capita (current US$)    21\n",
       "Population, total               21\n",
       "GDP (current US$)               21\n",
       "Name: Category, dtype: int64"
      ]
     },
     "execution_count": 889,
     "metadata": {},
     "output_type": "execute_result"
    }
   ],
   "source": [
    "# Test\n",
    "test = co_gdp_df[co_gdp_df['Country Code'] == 'USA']\n",
    "\n",
    "test['Category'].value_counts()"
   ]
  },
  {
   "attachments": {},
   "cell_type": "markdown",
   "metadata": {},
   "source": [
    "### Adding Continent data onto the CO2/GDP/POP dataframe\n",
    "One way we want to organize and view all this country data is by continent. What we are really looking for is just the continent code, the name wont be maintained in the database."
   ]
  },
  {
   "cell_type": "code",
   "execution_count": 846,
   "metadata": {},
   "outputs": [
    {
     "data": {
      "text/html": [
       "<div>\n",
       "<style scoped>\n",
       "    .dataframe tbody tr th:only-of-type {\n",
       "        vertical-align: middle;\n",
       "    }\n",
       "\n",
       "    .dataframe tbody tr th {\n",
       "        vertical-align: top;\n",
       "    }\n",
       "\n",
       "    .dataframe thead th {\n",
       "        text-align: right;\n",
       "    }\n",
       "</style>\n",
       "<table border=\"1\" class=\"dataframe\">\n",
       "  <thead>\n",
       "    <tr style=\"text-align: right;\">\n",
       "      <th></th>\n",
       "      <th>Continent_Name</th>\n",
       "      <th>Continent_Code</th>\n",
       "      <th>Country_Name</th>\n",
       "      <th>Two_Letter_Country_Code</th>\n",
       "      <th>Three_Letter_Country_Code</th>\n",
       "      <th>Country_Number</th>\n",
       "    </tr>\n",
       "  </thead>\n",
       "  <tbody>\n",
       "    <tr>\n",
       "      <th>0</th>\n",
       "      <td>Asia</td>\n",
       "      <td>AS</td>\n",
       "      <td>Afghanistan, Islamic Republic of</td>\n",
       "      <td>AF</td>\n",
       "      <td>AFG</td>\n",
       "      <td>4.0</td>\n",
       "    </tr>\n",
       "    <tr>\n",
       "      <th>1</th>\n",
       "      <td>Europe</td>\n",
       "      <td>EU</td>\n",
       "      <td>Albania, Republic of</td>\n",
       "      <td>AL</td>\n",
       "      <td>ALB</td>\n",
       "      <td>8.0</td>\n",
       "    </tr>\n",
       "    <tr>\n",
       "      <th>2</th>\n",
       "      <td>Antarctica</td>\n",
       "      <td>AN</td>\n",
       "      <td>Antarctica (the territory South of 60 deg S)</td>\n",
       "      <td>AQ</td>\n",
       "      <td>ATA</td>\n",
       "      <td>10.0</td>\n",
       "    </tr>\n",
       "    <tr>\n",
       "      <th>3</th>\n",
       "      <td>Africa</td>\n",
       "      <td>AF</td>\n",
       "      <td>Algeria, People's Democratic Republic of</td>\n",
       "      <td>DZ</td>\n",
       "      <td>DZA</td>\n",
       "      <td>12.0</td>\n",
       "    </tr>\n",
       "    <tr>\n",
       "      <th>4</th>\n",
       "      <td>Oceania</td>\n",
       "      <td>OC</td>\n",
       "      <td>American Samoa</td>\n",
       "      <td>AS</td>\n",
       "      <td>ASM</td>\n",
       "      <td>16.0</td>\n",
       "    </tr>\n",
       "  </tbody>\n",
       "</table>\n",
       "</div>"
      ],
      "text/plain": [
       "  Continent_Name Continent_Code                                  Country_Name  \\\n",
       "0           Asia             AS              Afghanistan, Islamic Republic of   \n",
       "1         Europe             EU                          Albania, Republic of   \n",
       "2     Antarctica             AN  Antarctica (the territory South of 60 deg S)   \n",
       "3         Africa             AF      Algeria, People's Democratic Republic of   \n",
       "4        Oceania             OC                                American Samoa   \n",
       "\n",
       "  Two_Letter_Country_Code Three_Letter_Country_Code  Country_Number  \n",
       "0                      AF                       AFG             4.0  \n",
       "1                      AL                       ALB             8.0  \n",
       "2                      AQ                       ATA            10.0  \n",
       "3                      DZ                       DZA            12.0  \n",
       "4                      AS                       ASM            16.0  "
      ]
     },
     "execution_count": 846,
     "metadata": {},
     "output_type": "execute_result"
    }
   ],
   "source": [
    "# Read in the continent data\n",
    "cont_df = pd.read_csv('data/country-and-continent-codes-list-csv.csv')\n",
    "\n",
    "cont_df.head()"
   ]
  },
  {
   "cell_type": "code",
   "execution_count": 847,
   "metadata": {},
   "outputs": [
    {
     "name": "stdout",
     "output_type": "stream",
     "text": [
      "Missing values in 'Two_Letter_Country_Code' column: 1\n"
     ]
    }
   ],
   "source": [
    "print(\"Missing values in 'Two_Letter_Country_Code' column:\", cont_df['Two_Letter_Country_Code'].isna().sum())\n"
   ]
  },
  {
   "cell_type": "code",
   "execution_count": 848,
   "metadata": {},
   "outputs": [],
   "source": [
    "# Drop the rows with missing values\n",
    "cont_df = cont_df.dropna(subset=['Two_Letter_Country_Code'])"
   ]
  },
  {
   "cell_type": "code",
   "execution_count": 849,
   "metadata": {},
   "outputs": [],
   "source": [
    "# Rename the columns to match the CO2 data\n",
    "cont_df = cont_df.rename(columns = {'Three_Letter_Country_Code':'Country Code', 'Continent_Name':'Continent', 'Continent_Code':'Continent Code'})"
   ]
  },
  {
   "cell_type": "code",
   "execution_count": 850,
   "metadata": {},
   "outputs": [],
   "source": [
    "# Check for duplicate country codes in the continent data frame\n",
    "cont_df['Country Code'].value_counts()\n",
    "# Drop the duplicate country codes\n",
    "cont_df = cont_df.drop_duplicates(subset=['Country Code'])"
   ]
  },
  {
   "cell_type": "code",
   "execution_count": 851,
   "metadata": {},
   "outputs": [
    {
     "data": {
      "text/html": [
       "<div>\n",
       "<style scoped>\n",
       "    .dataframe tbody tr th:only-of-type {\n",
       "        vertical-align: middle;\n",
       "    }\n",
       "\n",
       "    .dataframe tbody tr th {\n",
       "        vertical-align: top;\n",
       "    }\n",
       "\n",
       "    .dataframe thead th {\n",
       "        text-align: right;\n",
       "    }\n",
       "</style>\n",
       "<table border=\"1\" class=\"dataframe\">\n",
       "  <thead>\n",
       "    <tr style=\"text-align: right;\">\n",
       "      <th></th>\n",
       "      <th>Continent</th>\n",
       "      <th>Continent Code</th>\n",
       "      <th>Country_Name</th>\n",
       "      <th>Two_Letter_Country_Code</th>\n",
       "      <th>Country Code</th>\n",
       "      <th>Country_Number</th>\n",
       "    </tr>\n",
       "  </thead>\n",
       "  <tbody>\n",
       "    <tr>\n",
       "      <th>0</th>\n",
       "      <td>Asia</td>\n",
       "      <td>AS</td>\n",
       "      <td>Afghanistan, Islamic Republic of</td>\n",
       "      <td>AF</td>\n",
       "      <td>AFG</td>\n",
       "      <td>4.0</td>\n",
       "    </tr>\n",
       "    <tr>\n",
       "      <th>1</th>\n",
       "      <td>Europe</td>\n",
       "      <td>EU</td>\n",
       "      <td>Albania, Republic of</td>\n",
       "      <td>AL</td>\n",
       "      <td>ALB</td>\n",
       "      <td>8.0</td>\n",
       "    </tr>\n",
       "    <tr>\n",
       "      <th>2</th>\n",
       "      <td>Antarctica</td>\n",
       "      <td>AN</td>\n",
       "      <td>Antarctica (the territory South of 60 deg S)</td>\n",
       "      <td>AQ</td>\n",
       "      <td>ATA</td>\n",
       "      <td>10.0</td>\n",
       "    </tr>\n",
       "    <tr>\n",
       "      <th>3</th>\n",
       "      <td>Africa</td>\n",
       "      <td>AF</td>\n",
       "      <td>Algeria, People's Democratic Republic of</td>\n",
       "      <td>DZ</td>\n",
       "      <td>DZA</td>\n",
       "      <td>12.0</td>\n",
       "    </tr>\n",
       "    <tr>\n",
       "      <th>4</th>\n",
       "      <td>Oceania</td>\n",
       "      <td>OC</td>\n",
       "      <td>American Samoa</td>\n",
       "      <td>AS</td>\n",
       "      <td>ASM</td>\n",
       "      <td>16.0</td>\n",
       "    </tr>\n",
       "  </tbody>\n",
       "</table>\n",
       "</div>"
      ],
      "text/plain": [
       "    Continent Continent Code                                  Country_Name  \\\n",
       "0        Asia             AS              Afghanistan, Islamic Republic of   \n",
       "1      Europe             EU                          Albania, Republic of   \n",
       "2  Antarctica             AN  Antarctica (the territory South of 60 deg S)   \n",
       "3      Africa             AF      Algeria, People's Democratic Republic of   \n",
       "4     Oceania             OC                                American Samoa   \n",
       "\n",
       "  Two_Letter_Country_Code Country Code  Country_Number  \n",
       "0                      AF          AFG             4.0  \n",
       "1                      AL          ALB             8.0  \n",
       "2                      AQ          ATA            10.0  \n",
       "3                      DZ          DZA            12.0  \n",
       "4                      AS          ASM            16.0  "
      ]
     },
     "execution_count": 851,
     "metadata": {},
     "output_type": "execute_result"
    }
   ],
   "source": [
    "cont_df.head()"
   ]
  },
  {
   "cell_type": "code",
   "execution_count": 852,
   "metadata": {},
   "outputs": [
    {
     "name": "stdout",
     "output_type": "stream",
     "text": [
      "Columns in co_gdp_df: Index(['Country', 'Country Code', 'Year', 'Type', 'Category', 'Value'], dtype='object')\n",
      "Columns in cont_df: Index(['Continent', 'Continent Code', 'Country_Name',\n",
      "       'Two_Letter_Country_Code', 'Country Code', 'Country_Number'],\n",
      "      dtype='object')\n"
     ]
    }
   ],
   "source": [
    "print(\"Columns in co_gdp_df:\", co_gdp_df.columns)\n",
    "print(\"Columns in cont_df:\", cont_df.columns)"
   ]
  },
  {
   "cell_type": "code",
   "execution_count": 853,
   "metadata": {},
   "outputs": [],
   "source": [
    "# Bringing in continent data on to the co2/gdp/pop data frame, only bringing the Continent_Name column and the continent_Code column \n",
    "co_gdp_cont_df = pd.merge(co_gdp_df, cont_df[['Continent', 'Continent Code', 'Country Code']], how='left', left_on='Country Code', right_on='Country Code')\n"
   ]
  },
  {
   "cell_type": "code",
   "execution_count": 854,
   "metadata": {},
   "outputs": [
    {
     "data": {
      "text/html": [
       "<div>\n",
       "<style scoped>\n",
       "    .dataframe tbody tr th:only-of-type {\n",
       "        vertical-align: middle;\n",
       "    }\n",
       "\n",
       "    .dataframe tbody tr th {\n",
       "        vertical-align: top;\n",
       "    }\n",
       "\n",
       "    .dataframe thead th {\n",
       "        text-align: right;\n",
       "    }\n",
       "</style>\n",
       "<table border=\"1\" class=\"dataframe\">\n",
       "  <thead>\n",
       "    <tr style=\"text-align: right;\">\n",
       "      <th></th>\n",
       "      <th>Country</th>\n",
       "      <th>Country Code</th>\n",
       "      <th>Year</th>\n",
       "      <th>Type</th>\n",
       "      <th>Category</th>\n",
       "      <th>Value</th>\n",
       "      <th>Continent</th>\n",
       "      <th>Continent Code</th>\n",
       "    </tr>\n",
       "  </thead>\n",
       "  <tbody>\n",
       "    <tr>\n",
       "      <th>0</th>\n",
       "      <td>Albania</td>\n",
       "      <td>ALB</td>\n",
       "      <td>1999</td>\n",
       "      <td>Total CO2</td>\n",
       "      <td>Total</td>\n",
       "      <td>2.986196</td>\n",
       "      <td>Europe</td>\n",
       "      <td>EU</td>\n",
       "    </tr>\n",
       "    <tr>\n",
       "      <th>1</th>\n",
       "      <td>Albania</td>\n",
       "      <td>ALB</td>\n",
       "      <td>2000</td>\n",
       "      <td>Total CO2</td>\n",
       "      <td>Total</td>\n",
       "      <td>3.024926</td>\n",
       "      <td>Europe</td>\n",
       "      <td>EU</td>\n",
       "    </tr>\n",
       "    <tr>\n",
       "      <th>2</th>\n",
       "      <td>Albania</td>\n",
       "      <td>ALB</td>\n",
       "      <td>2001</td>\n",
       "      <td>Total CO2</td>\n",
       "      <td>Total</td>\n",
       "      <td>3.220656</td>\n",
       "      <td>Europe</td>\n",
       "      <td>EU</td>\n",
       "    </tr>\n",
       "    <tr>\n",
       "      <th>3</th>\n",
       "      <td>Albania</td>\n",
       "      <td>ALB</td>\n",
       "      <td>2002</td>\n",
       "      <td>Total CO2</td>\n",
       "      <td>Total</td>\n",
       "      <td>3.748272</td>\n",
       "      <td>Europe</td>\n",
       "      <td>EU</td>\n",
       "    </tr>\n",
       "    <tr>\n",
       "      <th>4</th>\n",
       "      <td>Albania</td>\n",
       "      <td>ALB</td>\n",
       "      <td>2003</td>\n",
       "      <td>Total CO2</td>\n",
       "      <td>Total</td>\n",
       "      <td>4.303499</td>\n",
       "      <td>Europe</td>\n",
       "      <td>EU</td>\n",
       "    </tr>\n",
       "  </tbody>\n",
       "</table>\n",
       "</div>"
      ],
      "text/plain": [
       "   Country Country Code  Year       Type Category     Value Continent  \\\n",
       "0  Albania          ALB  1999  Total CO2    Total  2.986196    Europe   \n",
       "1  Albania          ALB  2000  Total CO2    Total  3.024926    Europe   \n",
       "2  Albania          ALB  2001  Total CO2    Total  3.220656    Europe   \n",
       "3  Albania          ALB  2002  Total CO2    Total  3.748272    Europe   \n",
       "4  Albania          ALB  2003  Total CO2    Total  4.303499    Europe   \n",
       "\n",
       "  Continent Code  \n",
       "0             EU  \n",
       "1             EU  \n",
       "2             EU  \n",
       "3             EU  \n",
       "4             EU  "
      ]
     },
     "execution_count": 854,
     "metadata": {},
     "output_type": "execute_result"
    }
   ],
   "source": [
    "co_gdp_cont_df.head()"
   ]
  },
  {
   "cell_type": "code",
   "execution_count": 855,
   "metadata": {},
   "outputs": [
    {
     "data": {
      "text/html": [
       "<div>\n",
       "<style scoped>\n",
       "    .dataframe tbody tr th:only-of-type {\n",
       "        vertical-align: middle;\n",
       "    }\n",
       "\n",
       "    .dataframe tbody tr th {\n",
       "        vertical-align: top;\n",
       "    }\n",
       "\n",
       "    .dataframe thead th {\n",
       "        text-align: right;\n",
       "    }\n",
       "</style>\n",
       "<table border=\"1\" class=\"dataframe\">\n",
       "  <thead>\n",
       "    <tr style=\"text-align: right;\">\n",
       "      <th></th>\n",
       "      <th>Country</th>\n",
       "      <th>Country Code</th>\n",
       "      <th>Year</th>\n",
       "      <th>Type</th>\n",
       "      <th>Category</th>\n",
       "      <th>Value</th>\n",
       "      <th>Continent</th>\n",
       "      <th>Continent Code</th>\n",
       "    </tr>\n",
       "  </thead>\n",
       "  <tbody>\n",
       "    <tr>\n",
       "      <th>92</th>\n",
       "      <td>Antigua and Barbuda</td>\n",
       "      <td>ATG</td>\n",
       "      <td>1999</td>\n",
       "      <td>Total CO2</td>\n",
       "      <td>Total</td>\n",
       "      <td>2.821280e-01</td>\n",
       "      <td>North America</td>\n",
       "      <td>NaN</td>\n",
       "    </tr>\n",
       "    <tr>\n",
       "      <th>93</th>\n",
       "      <td>Antigua and Barbuda</td>\n",
       "      <td>ATG</td>\n",
       "      <td>2000</td>\n",
       "      <td>Total CO2</td>\n",
       "      <td>Total</td>\n",
       "      <td>2.931200e-01</td>\n",
       "      <td>North America</td>\n",
       "      <td>NaN</td>\n",
       "    </tr>\n",
       "    <tr>\n",
       "      <th>94</th>\n",
       "      <td>Antigua and Barbuda</td>\n",
       "      <td>ATG</td>\n",
       "      <td>2001</td>\n",
       "      <td>Total CO2</td>\n",
       "      <td>Total</td>\n",
       "      <td>2.967840e-01</td>\n",
       "      <td>North America</td>\n",
       "      <td>NaN</td>\n",
       "    </tr>\n",
       "    <tr>\n",
       "      <th>95</th>\n",
       "      <td>Antigua and Barbuda</td>\n",
       "      <td>ATG</td>\n",
       "      <td>2002</td>\n",
       "      <td>Total CO2</td>\n",
       "      <td>Total</td>\n",
       "      <td>3.297600e-01</td>\n",
       "      <td>North America</td>\n",
       "      <td>NaN</td>\n",
       "    </tr>\n",
       "    <tr>\n",
       "      <th>96</th>\n",
       "      <td>Antigua and Barbuda</td>\n",
       "      <td>ATG</td>\n",
       "      <td>2003</td>\n",
       "      <td>Total CO2</td>\n",
       "      <td>Total</td>\n",
       "      <td>3.517440e-01</td>\n",
       "      <td>North America</td>\n",
       "      <td>NaN</td>\n",
       "    </tr>\n",
       "    <tr>\n",
       "      <th>...</th>\n",
       "      <td>...</td>\n",
       "      <td>...</td>\n",
       "      <td>...</td>\n",
       "      <td>...</td>\n",
       "      <td>...</td>\n",
       "      <td>...</td>\n",
       "      <td>...</td>\n",
       "      <td>...</td>\n",
       "    </tr>\n",
       "    <tr>\n",
       "      <th>72672</th>\n",
       "      <td>St. Kitts and Nevis</td>\n",
       "      <td>KNA</td>\n",
       "      <td>2019</td>\n",
       "      <td>GDP</td>\n",
       "      <td>Population, total</td>\n",
       "      <td>4.771200e+04</td>\n",
       "      <td>North America</td>\n",
       "      <td>NaN</td>\n",
       "    </tr>\n",
       "    <tr>\n",
       "      <th>72673</th>\n",
       "      <td>St. Lucia</td>\n",
       "      <td>LCA</td>\n",
       "      <td>2019</td>\n",
       "      <td>GDP</td>\n",
       "      <td>Population, total</td>\n",
       "      <td>1.785830e+05</td>\n",
       "      <td>North America</td>\n",
       "      <td>NaN</td>\n",
       "    </tr>\n",
       "    <tr>\n",
       "      <th>72674</th>\n",
       "      <td>St. Vincent and the Grenadines</td>\n",
       "      <td>VCT</td>\n",
       "      <td>2019</td>\n",
       "      <td>GDP</td>\n",
       "      <td>Population, total</td>\n",
       "      <td>1.049240e+05</td>\n",
       "      <td>North America</td>\n",
       "      <td>NaN</td>\n",
       "    </tr>\n",
       "    <tr>\n",
       "      <th>72685</th>\n",
       "      <td>Trinidad and Tobago</td>\n",
       "      <td>TTO</td>\n",
       "      <td>2019</td>\n",
       "      <td>GDP</td>\n",
       "      <td>Population, total</td>\n",
       "      <td>1.519955e+06</td>\n",
       "      <td>North America</td>\n",
       "      <td>NaN</td>\n",
       "    </tr>\n",
       "    <tr>\n",
       "      <th>72694</th>\n",
       "      <td>United States</td>\n",
       "      <td>USA</td>\n",
       "      <td>2019</td>\n",
       "      <td>GDP</td>\n",
       "      <td>Population, total</td>\n",
       "      <td>3.283300e+08</td>\n",
       "      <td>North America</td>\n",
       "      <td>NaN</td>\n",
       "    </tr>\n",
       "  </tbody>\n",
       "</table>\n",
       "<p>11102 rows × 8 columns</p>\n",
       "</div>"
      ],
      "text/plain": [
       "                              Country Country Code  Year       Type  \\\n",
       "92                Antigua and Barbuda          ATG  1999  Total CO2   \n",
       "93                Antigua and Barbuda          ATG  2000  Total CO2   \n",
       "94                Antigua and Barbuda          ATG  2001  Total CO2   \n",
       "95                Antigua and Barbuda          ATG  2002  Total CO2   \n",
       "96                Antigua and Barbuda          ATG  2003  Total CO2   \n",
       "...                               ...          ...   ...        ...   \n",
       "72672             St. Kitts and Nevis          KNA  2019        GDP   \n",
       "72673                       St. Lucia          LCA  2019        GDP   \n",
       "72674  St. Vincent and the Grenadines          VCT  2019        GDP   \n",
       "72685             Trinidad and Tobago          TTO  2019        GDP   \n",
       "72694                   United States          USA  2019        GDP   \n",
       "\n",
       "                Category         Value      Continent Continent Code  \n",
       "92                 Total  2.821280e-01  North America            NaN  \n",
       "93                 Total  2.931200e-01  North America            NaN  \n",
       "94                 Total  2.967840e-01  North America            NaN  \n",
       "95                 Total  3.297600e-01  North America            NaN  \n",
       "96                 Total  3.517440e-01  North America            NaN  \n",
       "...                  ...           ...            ...            ...  \n",
       "72672  Population, total  4.771200e+04  North America            NaN  \n",
       "72673  Population, total  1.785830e+05  North America            NaN  \n",
       "72674  Population, total  1.049240e+05  North America            NaN  \n",
       "72685  Population, total  1.519955e+06  North America            NaN  \n",
       "72694  Population, total  3.283300e+08  North America            NaN  \n",
       "\n",
       "[11102 rows x 8 columns]"
      ]
     },
     "execution_count": 855,
     "metadata": {},
     "output_type": "execute_result"
    }
   ],
   "source": [
    "# Find where continent code is null\n",
    "co_gdp_cont_df[co_gdp_cont_df['Continent Code'].isnull()]"
   ]
  },
  {
   "cell_type": "code",
   "execution_count": 856,
   "metadata": {},
   "outputs": [],
   "source": [
    "# Fill the Continent Code column where the Continent is North America with NA\n",
    "co_gdp_cont_df.loc[co_gdp_cont_df['Continent'] == 'North America', 'Continent Code'] = 'NA'\n",
    "# Fill the Continent Code column where the Country is Nambia with AF\n",
    "co_gdp_cont_df.loc[co_gdp_cont_df['Country'] == 'Namibia', 'Continent Code'] = 'AF'\n"
   ]
  },
  {
   "cell_type": "code",
   "execution_count": 857,
   "metadata": {},
   "outputs": [
    {
     "data": {
      "text/html": [
       "<div>\n",
       "<style scoped>\n",
       "    .dataframe tbody tr th:only-of-type {\n",
       "        vertical-align: middle;\n",
       "    }\n",
       "\n",
       "    .dataframe tbody tr th {\n",
       "        vertical-align: top;\n",
       "    }\n",
       "\n",
       "    .dataframe thead th {\n",
       "        text-align: right;\n",
       "    }\n",
       "</style>\n",
       "<table border=\"1\" class=\"dataframe\">\n",
       "  <thead>\n",
       "    <tr style=\"text-align: right;\">\n",
       "      <th></th>\n",
       "      <th>Country</th>\n",
       "      <th>Country Code</th>\n",
       "      <th>Year</th>\n",
       "      <th>Type</th>\n",
       "      <th>Category</th>\n",
       "      <th>Value</th>\n",
       "      <th>Continent</th>\n",
       "      <th>Continent Code</th>\n",
       "    </tr>\n",
       "  </thead>\n",
       "  <tbody>\n",
       "  </tbody>\n",
       "</table>\n",
       "</div>"
      ],
      "text/plain": [
       "Empty DataFrame\n",
       "Columns: [Country, Country Code, Year, Type, Category, Value, Continent, Continent Code]\n",
       "Index: []"
      ]
     },
     "execution_count": 857,
     "metadata": {},
     "output_type": "execute_result"
    }
   ],
   "source": [
    "# Find where continent code is null\n",
    "co_gdp_cont_df[co_gdp_cont_df['Continent Code'].isnull()]"
   ]
  },
  {
   "cell_type": "code",
   "execution_count": 858,
   "metadata": {},
   "outputs": [],
   "source": [
    "# Remove the continent name as we are only maintaining the continent code\n",
    "co_gdp_cont_df_cleaned = co_gdp_cont_df.drop(columns=['Continent'], inplace=True)"
   ]
  },
  {
   "cell_type": "code",
   "execution_count": 859,
   "metadata": {},
   "outputs": [
    {
     "data": {
      "text/plain": [
       "Country           0\n",
       "Country Code      0\n",
       "Year              0\n",
       "Type              0\n",
       "Category          0\n",
       "Value             0\n",
       "Continent Code    0\n",
       "dtype: int64"
      ]
     },
     "execution_count": 859,
     "metadata": {},
     "output_type": "execute_result"
    }
   ],
   "source": [
    "co_gdp_cont_df.isnull().sum()"
   ]
  },
  {
   "attachments": {},
   "cell_type": "markdown",
   "metadata": {},
   "source": [
    "### Standardizing the country names\n",
    "As we have pulled in a few different data sources, there is some discrepancy in the names so we are cleaning those up."
   ]
  },
  {
   "cell_type": "code",
   "execution_count": 860,
   "metadata": {},
   "outputs": [],
   "source": [
    "# Find instances where Country Code has more than one Country associated with it\n",
    "dup_country_names = co_gdp_cont_df.groupby('Country Code')['Country'].nunique().sort_values(ascending=False)\n",
    "dup_country_names = dup_country_names.loc[dup_country_names.values > 1]"
   ]
  },
  {
   "cell_type": "code",
   "execution_count": 861,
   "metadata": {},
   "outputs": [
    {
     "data": {
      "text/plain": [
       "['KNA',\n",
       " 'CPV',\n",
       " 'LCA',\n",
       " 'SYR',\n",
       " 'BHS',\n",
       " 'SWZ',\n",
       " 'MAC',\n",
       " 'GMB',\n",
       " 'RUS',\n",
       " 'FSM',\n",
       " 'FRO',\n",
       " 'PSE',\n",
       " 'CIV',\n",
       " 'COD',\n",
       " 'COG',\n",
       " 'EGY',\n",
       " 'CZE',\n",
       " 'HKG',\n",
       " 'SVK',\n",
       " 'USA',\n",
       " 'LAO',\n",
       " 'VCT',\n",
       " 'TUR',\n",
       " 'IRN',\n",
       " 'VNM',\n",
       " 'KGZ',\n",
       " 'KOR']"
      ]
     },
     "execution_count": 861,
     "metadata": {},
     "output_type": "execute_result"
    }
   ],
   "source": [
    "# Getting the dupulicate country codes to a list to use in mapping the correct country name to the country code\n",
    "dup_country_names.index.to_list()"
   ]
  },
  {
   "cell_type": "code",
   "execution_count": 862,
   "metadata": {},
   "outputs": [],
   "source": [
    "country_code_mapping = {\n",
    "    'KNA': 'Saint Kitts and Nevis',\n",
    "    'PRK': 'North Korea',\n",
    "    'TUR': 'Turkey',\n",
    "    'FRO': 'Faroe Islands',\n",
    "    'HKG': 'Hong Kong',\n",
    "    'SYR': 'Syria',\n",
    "    'RUS': 'Russia',\n",
    "    'BHS': 'Bahamas',\n",
    "    'MAC': 'Macao',\n",
    "    'PSE': 'Palestine',\n",
    "    'CPV': 'Cabo Verde',\n",
    "    'SVK': 'Slovakia',\n",
    "    'COD': 'Democratic Republic of the Congo',\n",
    "    'FSM': 'Micronesia',\n",
    "    'CUW': 'Curaçao',\n",
    "    'LCA': 'Saint Lucia',\n",
    "    'IRN': 'Iran',\n",
    "    'COG': 'Republic of the Congo',\n",
    "    'CIV': \"Côte d'Ivoire\",\n",
    "    'CZE': 'Czech Republic',\n",
    "    'LAO': 'Laos',\n",
    "    'USA': 'United States',\n",
    "    'KOR': 'South Korea',\n",
    "    'VCT': 'Saint Vincent and the Grenadines',\n",
    "    'VEN': 'Venezuela',\n",
    "    'VNM': 'Vietnam',\n",
    "    'GMB': 'Gambia',\n",
    "    'EGY': 'Egypt',\n",
    "    'YEM': 'Yemen',\n",
    "    'KGZ': 'Kyrgyzstan',\n",
    "    'SWZ': 'Eswatini'\n",
    "}"
   ]
  },
  {
   "cell_type": "code",
   "execution_count": 863,
   "metadata": {},
   "outputs": [],
   "source": [
    "# Create a new column 'Standardized Country Name' using the mapping\n",
    "co_gdp_cont_df['Standardized Country Name'] = co_gdp_cont_df['Country Code'].map(country_code_mapping)\n",
    "\n",
    "# Update the 'Country' column only where the 'Standardized Country Name' is not null\n",
    "co_gdp_cont_df['Country'] = co_gdp_cont_df.apply(lambda row: row['Standardized Country Name'] if pd.notnull(row['Standardized Country Name']) else row['Country'], axis=1)\n",
    "\n",
    "# You can now drop the 'Standardized Country Name' column as it is not needed anymore\n",
    "co_gdp_cont_df.drop('Standardized Country Name', axis=1, inplace=True)"
   ]
  },
  {
   "cell_type": "code",
   "execution_count": 864,
   "metadata": {},
   "outputs": [
    {
     "data": {
      "text/plain": [
       "Series([], Name: Country, dtype: int64)"
      ]
     },
     "execution_count": 864,
     "metadata": {},
     "output_type": "execute_result"
    }
   ],
   "source": [
    "# Check to see if there are still any Country Codes with more than one Country associated with it\n",
    "dup_country_names2 = co_gdp_cont_df.groupby('Country Code')['Country'].nunique().sort_values(ascending=False)\n",
    "dup_country_names2 = dup_country_names2.loc[dup_country_names2.values > 1]\n",
    "dup_country_names2"
   ]
  },
  {
   "cell_type": "code",
   "execution_count": 865,
   "metadata": {},
   "outputs": [
    {
     "data": {
      "text/plain": [
       "188"
      ]
     },
     "execution_count": 865,
     "metadata": {},
     "output_type": "execute_result"
    }
   ],
   "source": [
    "co_gdp_cont_df['Country Code'].nunique()"
   ]
  },
  {
   "cell_type": "code",
   "execution_count": 866,
   "metadata": {},
   "outputs": [],
   "source": [
    "co_gdp_cont_df_cleaned = co_gdp_cont_df.copy()"
   ]
  },
  {
   "cell_type": "code",
   "execution_count": 867,
   "metadata": {},
   "outputs": [],
   "source": [
    "# One last bit of formatting to make the data easier to read\n",
    "\n",
    "# Make all values in the 'Value' column rounded to 6 decimal places\n",
    "co_gdp_cont_df_cleaned = co_gdp_cont_df_cleaned.round({'Value': 6})"
   ]
  },
  {
   "cell_type": "code",
   "execution_count": 868,
   "metadata": {},
   "outputs": [
    {
     "data": {
      "text/plain": [
       "Country           0\n",
       "Country Code      0\n",
       "Year              0\n",
       "Type              0\n",
       "Category          0\n",
       "Value             0\n",
       "Continent Code    0\n",
       "dtype: int64"
      ]
     },
     "execution_count": 868,
     "metadata": {},
     "output_type": "execute_result"
    }
   ],
   "source": [
    "# check for null, na, np.nan values\n",
    "co_gdp_cont_df_cleaned.isnull().sum()\n"
   ]
  },
  {
   "cell_type": "code",
   "execution_count": 869,
   "metadata": {},
   "outputs": [
    {
     "name": "stdout",
     "output_type": "stream",
     "text": [
      "Total number of null values: 0\n",
      "Total number of NA values: 0\n",
      "Total number of np.NaN values: 0\n",
      "Total number of missing values: 0\n"
     ]
    }
   ],
   "source": [
    "# Checking for different flavors of null or missing values\n",
    "# The first .sum is for the number of columns with null values and the second .sum is for the total number of null values\n",
    "null_values = co_gdp_cont_df_cleaned.isnull().sum().sum()\n",
    "print(f'Total number of null values: {null_values}')\n",
    "\n",
    "# Check for NA values\n",
    "na_values = co_gdp_cont_df_cleaned.isna().sum().sum()\n",
    "print(f'Total number of NA values: {na_values}')\n",
    "\n",
    "# Check for np.NaN values\n",
    "nan_values = co_gdp_cont_df_cleaned.isin([np.nan]).sum().sum()\n",
    "print(f'Total number of np.NaN values: {nan_values}')\n",
    "\n",
    "# Check for missing values\n",
    "missing_values = null_values + na_values + nan_values\n",
    "print(f'Total number of missing values: {missing_values}')"
   ]
  },
  {
   "attachments": {},
   "cell_type": "markdown",
   "metadata": {},
   "source": [
    "### Import to MongoDB\n",
    "There is a single data frame that will be loaded into mongoDB as a flat structure."
   ]
  },
  {
   "cell_type": "code",
   "execution_count": 870,
   "metadata": {},
   "outputs": [],
   "source": [
    "# Convert the dataframes to a list of dictionaries\n",
    "co_gdp_cont_df_to_load = co_gdp_cont_df_cleaned.to_dict('records')"
   ]
  },
  {
   "cell_type": "code",
   "execution_count": 871,
   "metadata": {},
   "outputs": [
    {
     "data": {
      "text/plain": [
       "<pymongo.results.InsertManyResult at 0x7f7b995b15f0>"
      ]
     },
     "execution_count": 871,
     "metadata": {},
     "output_type": "execute_result"
    }
   ],
   "source": [
    "# connect to the MongoDB client and create the database and collection\n",
    "\n",
    "client = MongoClient('mongodb://localhost:27017/')\n",
    "db = client['global_emissions_db']\n",
    "collection = db['CO2_gdp_population']\n",
    "\n",
    "# Insert the data into the collection\n",
    "collection.insert_many(co_gdp_cont_df_to_load)\n"
   ]
  },
  {
   "attachments": {},
   "cell_type": "markdown",
   "metadata": {},
   "source": [
    "### Test the Database   "
   ]
  },
  {
   "cell_type": "code",
   "execution_count": 881,
   "metadata": {},
   "outputs": [],
   "source": [
    "# Create a decorator to manage the connection to the MongoDB server\n",
    "def with_mongo_client(func):\n",
    "    def wrapper(*args, **kwargs):\n",
    "        client = MongoClient(\"mongodb://localhost:27017/\")\n",
    "        try:\n",
    "            return func(client, *args, **kwargs)\n",
    "        finally:\n",
    "            client.close()\n",
    "\n",
    "    return wrapper\n",
    "\n",
    "# Test fuctions for the databse \n",
    "\n",
    "# Show 3 random documents\n",
    "@with_mongo_client\n",
    "def show_three_random_documents(client):\n",
    "    db = client['global_emissions_db']\n",
    "    collection = db['CO2_gdp_population']\n",
    "    cursor =  collection.aggregate([{'$sample': {'size': 3}}])\n",
    "    return list(cursor)\n",
    "\n",
    "# Get the total GDP for US in 2015\n",
    "@with_mongo_client\n",
    "def get_gdp_us_2015(client):\n",
    "    db = client['global_emissions_db']\n",
    "    collection = db['CO2_gdp_population']\n",
    "    cursor = collection.find({'Country': 'United States', 'Year': 2015, 'Type': 'GDP', 'Category':'GDP (current US$)'}, {'_id': 0, 'Value': 1})\n",
    "    return list(cursor)\n",
    "\n",
    "# Get all the documents for 2009-2019 where the Type is GDP and the Category is GDP (current US$) with the value NaN\n",
    "@with_mongo_client\n",
    "def get_gdp_nan_1999_2019(client):\n",
    "    db = client['global_emissions_db']\n",
    "    collection = db['CO2_gdp_population']\n",
    "    cursor = collection.find({'Year': {'$gte': 1999, '$lte': 2019}, 'Type': 'GDP', 'Category':'GDP (current US$)', 'Value': np.NaN}, {'_id': 0})\n",
    "    return list(cursor)\n",
    "\n",
    "# Get all the documents for 2009-2019 where the Type is Total CO2 and the Category is Total with the value NaN\n",
    "@with_mongo_client\n",
    "def get_co2_nan_1999_2019(client):\n",
    "    db = client['global_emissions_db']\n",
    "    collection = db['CO2_gdp_population']\n",
    "    cursor = collection.find({'Year': {'$gte': 1999, '$lte': 2019}, 'Type': 'Total CO2', 'Category':'Total', 'Value': None}, {'_id': 0})\n",
    "    return list(cursor)\n",
    "\n",
    "# Get 3 random documents where the Year is 2019, the Type is GDP and the Category is Population, total\n",
    "@with_mongo_client\n",
    "def get_three_population_2019(client):\n",
    "    db = client['global_emissions_db']\n",
    "    collection = db['CO2_gdp_population']\n",
    "    cursor = collection.aggregate([\n",
    "        {'$match': {'Year': 2019, 'Type': 'GDP', 'Category': 'Population, total'}},\n",
    "        {'$sample': {'size': 3}}\n",
    "    ])\n",
    "    return list(cursor)\n",
    "\n",
    "# Get 3 random documents where the the Type is GDP and the Category is Population, total\n",
    "@with_mongo_client\n",
    "def get_three_pc_gdp(client):\n",
    "    db = client['global_emissions_db']\n",
    "    collection = db['CO2_gdp_population']\n",
    "    cursor = collection.aggregate([\n",
    "        {'$match': {'Type': 'GDP', 'Category': 'GDP per capita (current US$)'}},\n",
    "        {'$sample': {'size': 3}}\n",
    "    ])\n",
    "    return list(cursor)\n",
    "\n",
    "# Get all documents for a country code for a certain year, function takes those arguments\n",
    "@with_mongo_client\n",
    "def get_country_code_year(client, country_code, year):\n",
    "    db = client['global_emissions_db']\n",
    "    collection = db['CO2_gdp_population']\n",
    "    cursor = collection.find({'Country Code': country_code, 'Year': year}, {'_id': 0})\n",
    "    return list(cursor)\n",
    "\n",
    "# Get # of unique countries in the database\n",
    "@with_mongo_client\n",
    "def get_unique_countries(client):\n",
    "    db = client['global_emissions_db']\n",
    "    collection = db['CO2_gdp_population']\n",
    "    cursor = collection.distinct('Country')\n",
    "    return len(cursor)"
   ]
  },
  {
   "cell_type": "code",
   "execution_count": 882,
   "metadata": {},
   "outputs": [
    {
     "data": {
      "text/plain": [
       "188"
      ]
     },
     "execution_count": 882,
     "metadata": {},
     "output_type": "execute_result"
    }
   ],
   "source": [
    "get_unique_countries()"
   ]
  },
  {
   "cell_type": "code",
   "execution_count": 883,
   "metadata": {},
   "outputs": [
    {
     "data": {
      "text/plain": [
       "[]"
      ]
     },
     "execution_count": 883,
     "metadata": {},
     "output_type": "execute_result"
    }
   ],
   "source": [
    "get_country_code_year('MAF', 2013)"
   ]
  },
  {
   "cell_type": "code",
   "execution_count": 884,
   "metadata": {},
   "outputs": [
    {
     "data": {
      "text/plain": [
       "[{'_id': ObjectId('6440a080d0785497af3cbac5'),\n",
       "  'Country': 'Liechtenstein',\n",
       "  'Country Code': 'LIE',\n",
       "  'Year': 2007,\n",
       "  'Type': 'GDP',\n",
       "  'Category': 'GDP per capita (current US$)',\n",
       "  'Value': 130904.681844,\n",
       "  'Continent Code': 'EU'},\n",
       " {'_id': ObjectId('6440a080d0785497af3cbc61'),\n",
       "  'Country': 'Brunei Darussalam',\n",
       "  'Country Code': 'BRN',\n",
       "  'Year': 2008,\n",
       "  'Type': 'GDP',\n",
       "  'Category': 'GDP per capita (current US$)',\n",
       "  'Value': 37426.668544,\n",
       "  'Continent Code': 'AS'},\n",
       " {'_id': ObjectId('6440a080d0785497af3cd05f'),\n",
       "  'Country': 'Czech Republic',\n",
       "  'Country Code': 'CZE',\n",
       "  'Year': 2017,\n",
       "  'Type': 'GDP',\n",
       "  'Category': 'GDP per capita (current US$)',\n",
       "  'Value': 20636.199952,\n",
       "  'Continent Code': 'EU'}]"
      ]
     },
     "execution_count": 884,
     "metadata": {},
     "output_type": "execute_result"
    }
   ],
   "source": [
    "get_three_pc_gdp()"
   ]
  },
  {
   "cell_type": "code",
   "execution_count": 885,
   "metadata": {},
   "outputs": [
    {
     "data": {
      "text/plain": [
       "[{'_id': ObjectId('6440a07fd0785497af3c3c1f'),\n",
       "  'Country': 'Nepal',\n",
       "  'Country Code': 'NPL',\n",
       "  'Year': 2007,\n",
       "  'Type': 'PerCapita CO2',\n",
       "  'Category': 'Gas',\n",
       "  'Value': 0.0,\n",
       "  'Continent Code': 'AS'},\n",
       " {'_id': ObjectId('6440a07fd0785497af3bc884'),\n",
       "  'Country': 'Slovakia',\n",
       "  'Country Code': 'SVK',\n",
       "  'Year': 2013,\n",
       "  'Type': 'Total CO2',\n",
       "  'Category': 'Total',\n",
       "  'Value': 35.565563,\n",
       "  'Continent Code': 'EU'},\n",
       " {'_id': ObjectId('6440a07fd0785497af3be0d5'),\n",
       "  'Country': 'Dominica',\n",
       "  'Country Code': 'DMA',\n",
       "  'Year': 2005,\n",
       "  'Type': 'Total CO2',\n",
       "  'Category': 'Coal',\n",
       "  'Value': 0.0,\n",
       "  'Continent Code': 'NA'}]"
      ]
     },
     "execution_count": 885,
     "metadata": {},
     "output_type": "execute_result"
    }
   ],
   "source": [
    "show_three_random_documents()"
   ]
  },
  {
   "cell_type": "code",
   "execution_count": 877,
   "metadata": {},
   "outputs": [
    {
     "data": {
      "text/plain": [
       "[{'_id': ObjectId('6440a080d0785497af3cd62f'),\n",
       "  'Country': 'Hong Kong',\n",
       "  'Country Code': 'HKG',\n",
       "  'Year': 2019,\n",
       "  'Type': 'GDP',\n",
       "  'Category': 'Population, total',\n",
       "  'Value': 7507900.0,\n",
       "  'Continent Code': 'AS'},\n",
       " {'_id': ObjectId('6440a080d0785497af3cd654'),\n",
       "  'Country': 'Mexico',\n",
       "  'Country Code': 'MEX',\n",
       "  'Year': 2019,\n",
       "  'Type': 'GDP',\n",
       "  'Category': 'Population, total',\n",
       "  'Value': 125085311.0,\n",
       "  'Continent Code': 'NA'},\n",
       " {'_id': ObjectId('6440a080d0785497af3cd621'),\n",
       "  'Country': 'Gabon',\n",
       "  'Country Code': 'GAB',\n",
       "  'Year': 2019,\n",
       "  'Type': 'GDP',\n",
       "  'Category': 'Population, total',\n",
       "  'Value': 2242785.0,\n",
       "  'Continent Code': 'AF'}]"
      ]
     },
     "execution_count": 877,
     "metadata": {},
     "output_type": "execute_result"
    }
   ],
   "source": [
    "get_three_population_2019()"
   ]
  },
  {
   "cell_type": "code",
   "execution_count": 886,
   "metadata": {},
   "outputs": [
    {
     "name": "stdout",
     "output_type": "stream",
     "text": [
      " There are 72702 documents in the collection\n",
      " There are 0 documents with missing values\n"
     ]
    }
   ],
   "source": [
    "client = MongoClient('mongodb://localhost:27017/')\n",
    "db = client['global_emissions_db']\n",
    "\n",
    "# How many documents are in the collection?\n",
    "print(f' There are {db.CO2_gdp_population.count_documents({})} documents in the collection')\n",
    "\n",
    "# How many 'Values' are NA, NaN or Null or None?\n",
    "print(f\" There are {db.CO2_gdp_population.count_documents({'Value': {'$in': [np.NaN, None, '', 'NA', 'N/A', '-','..', 'unknown']}})} documents with missing values\")\n"
   ]
  },
  {
   "cell_type": "code",
   "execution_count": 888,
   "metadata": {},
   "outputs": [
    {
     "name": "stdout",
     "output_type": "stream",
     "text": [
      "['ABW', 'AGO', 'ALB', 'AND', 'ARE', 'ARG', 'ARM', 'ATG', 'AUS', 'AUT', 'AZE', 'BDI', 'BEL', 'BEN', 'BFA', 'BGD', 'BGR', 'BHR', 'BHS', 'BIH', 'BLR', 'BLZ', 'BMU', 'BOL', 'BRA', 'BRB', 'BRN', 'BTN', 'BWA', 'CAF', 'CAN', 'CHE', 'CHL', 'CHN', 'CIV', 'CMR', 'COD', 'COG', 'COL', 'COM', 'CPV', 'CRI', 'CUB', 'CYP', 'CZE', 'DEU', 'DJI', 'DMA', 'DNK', 'DOM', 'DZA', 'ECU', 'EGY', 'ESP', 'EST', 'ETH', 'FIN', 'FJI', 'FRA', 'FRO', 'FSM', 'GAB', 'GBR', 'GEO', 'GHA', 'GIN', 'GMB', 'GNB', 'GNQ', 'GRC', 'GRD', 'GRL', 'GTM', 'GUY', 'HKG', 'HND', 'HRV', 'HTI', 'HUN', 'IDN', 'IND', 'IRL', 'IRN', 'IRQ', 'ISL', 'ISR', 'ITA', 'JAM', 'JOR', 'JPN', 'KAZ', 'KEN', 'KGZ', 'KHM', 'KIR', 'KNA', 'KOR', 'KWT', 'LAO', 'LBN', 'LBY', 'LCA', 'LIE', 'LKA', 'LSO', 'LTU', 'LUX', 'LVA', 'MAC', 'MAR', 'MDA', 'MDG', 'MDV', 'MEX', 'MHL', 'MKD', 'MLI', 'MLT', 'MMR', 'MNG', 'MOZ', 'MRT', 'MUS', 'MWI', 'MYS', 'NAM', 'NCL', 'NER', 'NGA', 'NIC', 'NLD', 'NOR', 'NPL', 'NZL', 'OMN', 'PAK', 'PAN', 'PER', 'PHL', 'PNG', 'POL', 'PRI', 'PRT', 'PRY', 'PSE', 'PYF', 'QAT', 'ROU', 'RUS', 'RWA', 'SAU', 'SDN', 'SEN', 'SGP', 'SLB', 'SLE', 'SLV', 'SRB', 'SUR', 'SVK', 'SVN', 'SWE', 'SWZ', 'SYC', 'SYR', 'TCD', 'TGO', 'THA', 'TJK', 'TKM', 'TON', 'TTO', 'TUN', 'TUR', 'TUV', 'TZA', 'UGA', 'UKR', 'URY', 'USA', 'UZB', 'VCT', 'VNM', 'VUT', 'WSM', 'ZAF', 'ZMB', 'ZWE']\n"
     ]
    }
   ],
   "source": [
    "client = MongoClient('mongodb://localhost:27017/')\n",
    "db = client['global_emissions_db']\n",
    "\n",
    "# Get list of all the coutnry codes in the database\n",
    "country_codes = db.CO2_gdp_population.distinct('Country Code')\n",
    "\n",
    "print(country_codes)"
   ]
  },
  {
   "attachments": {},
   "cell_type": "markdown",
   "metadata": {},
   "source": [
    "### Code for Deleting the DB if necessary"
   ]
  },
  {
   "cell_type": "code",
   "execution_count": 880,
   "metadata": {},
   "outputs": [],
   "source": [
    "# Code for deleting all the collections in the database\n",
    "\n",
    "# client = MongoClient('mongodb://localhost:27017/')\n",
    "# db = client['global_emissions_db']\n",
    "\n",
    "# # Delete all the collections\n",
    "# for collection_name in db.list_collection_names():\n",
    "#     db[collection_name].drop() "
   ]
  }
 ],
 "metadata": {
  "kernelspec": {
   "display_name": "pythondata",
   "language": "python",
   "name": "python3"
  },
  "language_info": {
   "codemirror_mode": {
    "name": "ipython",
    "version": 3
   },
   "file_extension": ".py",
   "mimetype": "text/x-python",
   "name": "python",
   "nbconvert_exporter": "python",
   "pygments_lexer": "ipython3",
   "version": "3.7.7"
  },
  "orig_nbformat": 4,
  "vscode": {
   "interpreter": {
    "hash": "006d01ff1a7f35c34f0586e54e9b24c5bbf47369eb01d100606e70fd61c4f441"
   }
  }
 },
 "nbformat": 4,
 "nbformat_minor": 2
}
