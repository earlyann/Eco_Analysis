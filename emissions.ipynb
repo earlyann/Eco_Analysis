{
 "cells": [
  {
   "cell_type": "code",
   "execution_count": 1216,
   "metadata": {},
   "outputs": [],
   "source": [
    "import pandas as pd\n",
    "import numpy as np\n",
    "import json\n",
    "import pprint\n",
    "import pymongo\n",
    "from pymongo import MongoClient"
   ]
  },
  {
   "cell_type": "code",
   "execution_count": 1217,
   "metadata": {},
   "outputs": [],
   "source": [
    "co_df = pd.read_csv('data/CO2_flat.csv')\n",
    "pc_df = pd.read_csv('data/percapita_flat.csv')\n"
   ]
  },
  {
   "cell_type": "code",
   "execution_count": 1218,
   "metadata": {},
   "outputs": [],
   "source": [
    "# Adding identifier columns to the dataframes so that we can merge them later\n",
    "# Assuming df_totals and df_percapita are your two data frames\n",
    "co_df['Type'] = 'Total CO2'\n",
    "pc_df['Type'] = 'PerCapita CO2'"
   ]
  },
  {
   "cell_type": "code",
   "execution_count": 1219,
   "metadata": {},
   "outputs": [],
   "source": [
    "# Drop the per capita column from the co_df as it will be maintained in the pc_df\n",
    "co_df = co_df.drop(columns = ['Per Capita'])"
   ]
  },
  {
   "cell_type": "code",
   "execution_count": 1220,
   "metadata": {},
   "outputs": [
    {
     "data": {
      "text/html": [
       "<div>\n",
       "<style scoped>\n",
       "    .dataframe tbody tr th:only-of-type {\n",
       "        vertical-align: middle;\n",
       "    }\n",
       "\n",
       "    .dataframe tbody tr th {\n",
       "        vertical-align: top;\n",
       "    }\n",
       "\n",
       "    .dataframe thead th {\n",
       "        text-align: right;\n",
       "    }\n",
       "</style>\n",
       "<table border=\"1\" class=\"dataframe\">\n",
       "  <thead>\n",
       "    <tr style=\"text-align: right;\">\n",
       "      <th></th>\n",
       "      <th>Country</th>\n",
       "      <th>ISO 3166-1 alpha-3</th>\n",
       "      <th>Year</th>\n",
       "      <th>Total</th>\n",
       "      <th>Coal</th>\n",
       "      <th>Oil</th>\n",
       "      <th>Gas</th>\n",
       "      <th>Cement</th>\n",
       "      <th>Flaring</th>\n",
       "      <th>Other</th>\n",
       "      <th>Type</th>\n",
       "    </tr>\n",
       "  </thead>\n",
       "  <tbody>\n",
       "    <tr>\n",
       "      <th>19312</th>\n",
       "      <td>French Equatorial Africa</td>\n",
       "      <td>NaN</td>\n",
       "      <td>1750</td>\n",
       "      <td>0.0</td>\n",
       "      <td>NaN</td>\n",
       "      <td>NaN</td>\n",
       "      <td>NaN</td>\n",
       "      <td>NaN</td>\n",
       "      <td>NaN</td>\n",
       "      <td>NaN</td>\n",
       "      <td>Total CO2</td>\n",
       "    </tr>\n",
       "    <tr>\n",
       "      <th>19313</th>\n",
       "      <td>French Equatorial Africa</td>\n",
       "      <td>NaN</td>\n",
       "      <td>1751</td>\n",
       "      <td>0.0</td>\n",
       "      <td>NaN</td>\n",
       "      <td>NaN</td>\n",
       "      <td>NaN</td>\n",
       "      <td>NaN</td>\n",
       "      <td>NaN</td>\n",
       "      <td>NaN</td>\n",
       "      <td>Total CO2</td>\n",
       "    </tr>\n",
       "    <tr>\n",
       "      <th>19314</th>\n",
       "      <td>French Equatorial Africa</td>\n",
       "      <td>NaN</td>\n",
       "      <td>1752</td>\n",
       "      <td>0.0</td>\n",
       "      <td>NaN</td>\n",
       "      <td>NaN</td>\n",
       "      <td>NaN</td>\n",
       "      <td>NaN</td>\n",
       "      <td>NaN</td>\n",
       "      <td>NaN</td>\n",
       "      <td>Total CO2</td>\n",
       "    </tr>\n",
       "    <tr>\n",
       "      <th>19315</th>\n",
       "      <td>French Equatorial Africa</td>\n",
       "      <td>NaN</td>\n",
       "      <td>1753</td>\n",
       "      <td>0.0</td>\n",
       "      <td>NaN</td>\n",
       "      <td>NaN</td>\n",
       "      <td>NaN</td>\n",
       "      <td>NaN</td>\n",
       "      <td>NaN</td>\n",
       "      <td>NaN</td>\n",
       "      <td>Total CO2</td>\n",
       "    </tr>\n",
       "    <tr>\n",
       "      <th>19316</th>\n",
       "      <td>French Equatorial Africa</td>\n",
       "      <td>NaN</td>\n",
       "      <td>1754</td>\n",
       "      <td>0.0</td>\n",
       "      <td>NaN</td>\n",
       "      <td>NaN</td>\n",
       "      <td>NaN</td>\n",
       "      <td>NaN</td>\n",
       "      <td>NaN</td>\n",
       "      <td>NaN</td>\n",
       "      <td>Total CO2</td>\n",
       "    </tr>\n",
       "    <tr>\n",
       "      <th>...</th>\n",
       "      <td>...</td>\n",
       "      <td>...</td>\n",
       "      <td>...</td>\n",
       "      <td>...</td>\n",
       "      <td>...</td>\n",
       "      <td>...</td>\n",
       "      <td>...</td>\n",
       "      <td>...</td>\n",
       "      <td>...</td>\n",
       "      <td>...</td>\n",
       "      <td>...</td>\n",
       "    </tr>\n",
       "    <tr>\n",
       "      <th>47867</th>\n",
       "      <td>Ryukyu Islands</td>\n",
       "      <td>NaN</td>\n",
       "      <td>2017</td>\n",
       "      <td>0.0</td>\n",
       "      <td>NaN</td>\n",
       "      <td>NaN</td>\n",
       "      <td>NaN</td>\n",
       "      <td>NaN</td>\n",
       "      <td>NaN</td>\n",
       "      <td>NaN</td>\n",
       "      <td>Total CO2</td>\n",
       "    </tr>\n",
       "    <tr>\n",
       "      <th>47868</th>\n",
       "      <td>Ryukyu Islands</td>\n",
       "      <td>NaN</td>\n",
       "      <td>2018</td>\n",
       "      <td>0.0</td>\n",
       "      <td>NaN</td>\n",
       "      <td>NaN</td>\n",
       "      <td>NaN</td>\n",
       "      <td>NaN</td>\n",
       "      <td>NaN</td>\n",
       "      <td>NaN</td>\n",
       "      <td>Total CO2</td>\n",
       "    </tr>\n",
       "    <tr>\n",
       "      <th>47869</th>\n",
       "      <td>Ryukyu Islands</td>\n",
       "      <td>NaN</td>\n",
       "      <td>2019</td>\n",
       "      <td>0.0</td>\n",
       "      <td>NaN</td>\n",
       "      <td>NaN</td>\n",
       "      <td>NaN</td>\n",
       "      <td>NaN</td>\n",
       "      <td>NaN</td>\n",
       "      <td>NaN</td>\n",
       "      <td>Total CO2</td>\n",
       "    </tr>\n",
       "    <tr>\n",
       "      <th>47870</th>\n",
       "      <td>Ryukyu Islands</td>\n",
       "      <td>NaN</td>\n",
       "      <td>2020</td>\n",
       "      <td>0.0</td>\n",
       "      <td>NaN</td>\n",
       "      <td>NaN</td>\n",
       "      <td>NaN</td>\n",
       "      <td>NaN</td>\n",
       "      <td>NaN</td>\n",
       "      <td>NaN</td>\n",
       "      <td>Total CO2</td>\n",
       "    </tr>\n",
       "    <tr>\n",
       "      <th>47871</th>\n",
       "      <td>Ryukyu Islands</td>\n",
       "      <td>NaN</td>\n",
       "      <td>2021</td>\n",
       "      <td>0.0</td>\n",
       "      <td>NaN</td>\n",
       "      <td>NaN</td>\n",
       "      <td>NaN</td>\n",
       "      <td>NaN</td>\n",
       "      <td>NaN</td>\n",
       "      <td>NaN</td>\n",
       "      <td>Total CO2</td>\n",
       "    </tr>\n",
       "  </tbody>\n",
       "</table>\n",
       "<p>1632 rows × 11 columns</p>\n",
       "</div>"
      ],
      "text/plain": [
       "                        Country ISO 3166-1 alpha-3  Year  Total  Coal  Oil  \\\n",
       "19312  French Equatorial Africa                NaN  1750    0.0   NaN  NaN   \n",
       "19313  French Equatorial Africa                NaN  1751    0.0   NaN  NaN   \n",
       "19314  French Equatorial Africa                NaN  1752    0.0   NaN  NaN   \n",
       "19315  French Equatorial Africa                NaN  1753    0.0   NaN  NaN   \n",
       "19316  French Equatorial Africa                NaN  1754    0.0   NaN  NaN   \n",
       "...                         ...                ...   ...    ...   ...  ...   \n",
       "47867            Ryukyu Islands                NaN  2017    0.0   NaN  NaN   \n",
       "47868            Ryukyu Islands                NaN  2018    0.0   NaN  NaN   \n",
       "47869            Ryukyu Islands                NaN  2019    0.0   NaN  NaN   \n",
       "47870            Ryukyu Islands                NaN  2020    0.0   NaN  NaN   \n",
       "47871            Ryukyu Islands                NaN  2021    0.0   NaN  NaN   \n",
       "\n",
       "       Gas  Cement  Flaring  Other       Type  \n",
       "19312  NaN     NaN      NaN    NaN  Total CO2  \n",
       "19313  NaN     NaN      NaN    NaN  Total CO2  \n",
       "19314  NaN     NaN      NaN    NaN  Total CO2  \n",
       "19315  NaN     NaN      NaN    NaN  Total CO2  \n",
       "19316  NaN     NaN      NaN    NaN  Total CO2  \n",
       "...    ...     ...      ...    ...        ...  \n",
       "47867  NaN     NaN      NaN    NaN  Total CO2  \n",
       "47868  NaN     NaN      NaN    NaN  Total CO2  \n",
       "47869  NaN     NaN      NaN    NaN  Total CO2  \n",
       "47870  NaN     NaN      NaN    NaN  Total CO2  \n",
       "47871  NaN     NaN      NaN    NaN  Total CO2  \n",
       "\n",
       "[1632 rows x 11 columns]"
      ]
     },
     "execution_count": 1220,
     "metadata": {},
     "output_type": "execute_result"
    }
   ],
   "source": [
    "# Look at nulls\n",
    "co_df.isnull().sum()\n",
    "\n",
    "# Where is the iso code missing?\n",
    "co_df[co_df['ISO 3166-1 alpha-3'].isnull()]"
   ]
  },
  {
   "cell_type": "code",
   "execution_count": 1221,
   "metadata": {},
   "outputs": [
    {
     "data": {
      "text/plain": [
       "Country                   0\n",
       "ISO 3166-1 alpha-3     1632\n",
       "Year                      0\n",
       "Total                 44132\n",
       "Coal                  45966\n",
       "Oil                   46065\n",
       "Gas                   46092\n",
       "Cement                47656\n",
       "Flaring               46160\n",
       "Other                 61484\n",
       "Type                      0\n",
       "dtype: int64"
      ]
     },
     "execution_count": 1221,
     "metadata": {},
     "output_type": "execute_result"
    }
   ],
   "source": [
    "# Look at nulls in the other dataframe - both CO2 dataframes have the same country codes and data missing\n",
    "pc_df.isnull().sum()"
   ]
  },
  {
   "cell_type": "code",
   "execution_count": 1222,
   "metadata": {},
   "outputs": [],
   "source": [
    "# Drop the rows with null country codes\n",
    "co_df = co_df.dropna(subset=['ISO 3166-1 alpha-3'])\n",
    "pc_df = pc_df.dropna(subset=['ISO 3166-1 alpha-3'])"
   ]
  },
  {
   "cell_type": "code",
   "execution_count": 1223,
   "metadata": {},
   "outputs": [],
   "source": [
    "# Concatenate the data frames\n",
    "all_co_df = pd.concat([co_df, pc_df], ignore_index=True)\n",
    "\n",
    "# Melt the data frame, id_vars is what columns to keep, value_vars is what columns to melt\n",
    "all_co_melted = pd.melt(all_co_df, id_vars=['Country', 'ISO 3166-1 alpha-3', 'Year', 'Type'],\n",
    "                    value_vars=['Total', 'Coal', 'Oil', 'Gas', 'Cement', 'Flaring', 'Other'],\n",
    "                    var_name='Category', value_name='Emission')"
   ]
  },
  {
   "cell_type": "code",
   "execution_count": 1224,
   "metadata": {},
   "outputs": [
    {
     "data": {
      "text/html": [
       "<div>\n",
       "<style scoped>\n",
       "    .dataframe tbody tr th:only-of-type {\n",
       "        vertical-align: middle;\n",
       "    }\n",
       "\n",
       "    .dataframe tbody tr th {\n",
       "        vertical-align: top;\n",
       "    }\n",
       "\n",
       "    .dataframe thead th {\n",
       "        text-align: right;\n",
       "    }\n",
       "</style>\n",
       "<table border=\"1\" class=\"dataframe\">\n",
       "  <thead>\n",
       "    <tr style=\"text-align: right;\">\n",
       "      <th></th>\n",
       "      <th>Country</th>\n",
       "      <th>Country Code</th>\n",
       "      <th>Year</th>\n",
       "      <th>Type</th>\n",
       "      <th>Category</th>\n",
       "      <th>Value</th>\n",
       "    </tr>\n",
       "  </thead>\n",
       "  <tbody>\n",
       "    <tr>\n",
       "      <th>0</th>\n",
       "      <td>Afghanistan</td>\n",
       "      <td>AFG</td>\n",
       "      <td>1750</td>\n",
       "      <td>Total CO2</td>\n",
       "      <td>Total</td>\n",
       "      <td>0.0</td>\n",
       "    </tr>\n",
       "    <tr>\n",
       "      <th>1</th>\n",
       "      <td>Afghanistan</td>\n",
       "      <td>AFG</td>\n",
       "      <td>1751</td>\n",
       "      <td>Total CO2</td>\n",
       "      <td>Total</td>\n",
       "      <td>0.0</td>\n",
       "    </tr>\n",
       "    <tr>\n",
       "      <th>2</th>\n",
       "      <td>Afghanistan</td>\n",
       "      <td>AFG</td>\n",
       "      <td>1752</td>\n",
       "      <td>Total CO2</td>\n",
       "      <td>Total</td>\n",
       "      <td>0.0</td>\n",
       "    </tr>\n",
       "    <tr>\n",
       "      <th>3</th>\n",
       "      <td>Afghanistan</td>\n",
       "      <td>AFG</td>\n",
       "      <td>1753</td>\n",
       "      <td>Total CO2</td>\n",
       "      <td>Total</td>\n",
       "      <td>0.0</td>\n",
       "    </tr>\n",
       "    <tr>\n",
       "      <th>4</th>\n",
       "      <td>Afghanistan</td>\n",
       "      <td>AFG</td>\n",
       "      <td>1754</td>\n",
       "      <td>Total CO2</td>\n",
       "      <td>Total</td>\n",
       "      <td>0.0</td>\n",
       "    </tr>\n",
       "  </tbody>\n",
       "</table>\n",
       "</div>"
      ],
      "text/plain": [
       "       Country Country Code  Year       Type Category  Value\n",
       "0  Afghanistan          AFG  1750  Total CO2    Total    0.0\n",
       "1  Afghanistan          AFG  1751  Total CO2    Total    0.0\n",
       "2  Afghanistan          AFG  1752  Total CO2    Total    0.0\n",
       "3  Afghanistan          AFG  1753  Total CO2    Total    0.0\n",
       "4  Afghanistan          AFG  1754  Total CO2    Total    0.0"
      ]
     },
     "execution_count": 1224,
     "metadata": {},
     "output_type": "execute_result"
    }
   ],
   "source": [
    "# Renaming columns for clarity\n",
    "all_co_melted = all_co_melted.rename(columns = {'ISO 3166-1 alpha-3':'Country Code', 'Emission':'Value'})\n",
    "\n",
    "all_co_melted.head()"
   ]
  },
  {
   "cell_type": "code",
   "execution_count": 1225,
   "metadata": {},
   "outputs": [],
   "source": [
    "# Shortening the time frame from 1999-2019\n",
    "all_co_melted_short = all_co_melted[all_co_melted['Year'] >= 1999]"
   ]
  },
  {
   "cell_type": "code",
   "execution_count": 1226,
   "metadata": {},
   "outputs": [],
   "source": [
    "all_co_melted_short = all_co_melted_short.copy()\n",
    "\n",
    "# Converting the data types to float\n",
    "all_co_melted_short[['Value']] = all_co_melted_short[['Value']].astype(float)\n"
   ]
  },
  {
   "cell_type": "code",
   "execution_count": 1227,
   "metadata": {},
   "outputs": [
    {
     "name": "stderr",
     "output_type": "stream",
     "text": [
      "/opt/anaconda3/envs/pythondata/lib/python3.7/site-packages/ipykernel_launcher.py:6: UserWarning: Boolean Series key will be reindexed to match DataFrame index.\n",
      "  \n",
      "/opt/anaconda3/envs/pythondata/lib/python3.7/site-packages/ipykernel_launcher.py:7: UserWarning: Boolean Series key will be reindexed to match DataFrame index.\n",
      "  import sys\n"
     ]
    }
   ],
   "source": [
    "# Find where there are World or International Transport values\n",
    "# all_co_melted[all_co_melted['Country'] == 'World']\n",
    "# all_co_melted[all_co_melted['Country'] == 'International transport']\n",
    "\n",
    "# Drop the rows with World and International Transport values\n",
    "all_co_ready = all_co_melted_short[all_co_melted['Country'] != 'World']\n",
    "all_co_ready = all_co_melted_short[all_co_melted['Country'] != 'International transport']\n"
   ]
  },
  {
   "cell_type": "code",
   "execution_count": 1228,
   "metadata": {},
   "outputs": [
    {
     "data": {
      "text/html": [
       "<div>\n",
       "<style scoped>\n",
       "    .dataframe tbody tr th:only-of-type {\n",
       "        vertical-align: middle;\n",
       "    }\n",
       "\n",
       "    .dataframe tbody tr th {\n",
       "        vertical-align: top;\n",
       "    }\n",
       "\n",
       "    .dataframe thead th {\n",
       "        text-align: right;\n",
       "    }\n",
       "</style>\n",
       "<table border=\"1\" class=\"dataframe\">\n",
       "  <thead>\n",
       "    <tr style=\"text-align: right;\">\n",
       "      <th></th>\n",
       "      <th>Country</th>\n",
       "      <th>Country Code</th>\n",
       "      <th>Year</th>\n",
       "      <th>Type</th>\n",
       "      <th>Category</th>\n",
       "      <th>Value</th>\n",
       "    </tr>\n",
       "  </thead>\n",
       "  <tbody>\n",
       "    <tr>\n",
       "      <th>249</th>\n",
       "      <td>Afghanistan</td>\n",
       "      <td>AFG</td>\n",
       "      <td>1999</td>\n",
       "      <td>Total CO2</td>\n",
       "      <td>Total</td>\n",
       "      <td>1.091640</td>\n",
       "    </tr>\n",
       "    <tr>\n",
       "      <th>250</th>\n",
       "      <td>Afghanistan</td>\n",
       "      <td>AFG</td>\n",
       "      <td>2000</td>\n",
       "      <td>Total CO2</td>\n",
       "      <td>Total</td>\n",
       "      <td>1.047128</td>\n",
       "    </tr>\n",
       "    <tr>\n",
       "      <th>251</th>\n",
       "      <td>Afghanistan</td>\n",
       "      <td>AFG</td>\n",
       "      <td>2001</td>\n",
       "      <td>Total CO2</td>\n",
       "      <td>Total</td>\n",
       "      <td>1.069098</td>\n",
       "    </tr>\n",
       "    <tr>\n",
       "      <th>252</th>\n",
       "      <td>Afghanistan</td>\n",
       "      <td>AFG</td>\n",
       "      <td>2002</td>\n",
       "      <td>Total CO2</td>\n",
       "      <td>Total</td>\n",
       "      <td>1.340995</td>\n",
       "    </tr>\n",
       "    <tr>\n",
       "      <th>253</th>\n",
       "      <td>Afghanistan</td>\n",
       "      <td>AFG</td>\n",
       "      <td>2003</td>\n",
       "      <td>Total CO2</td>\n",
       "      <td>Total</td>\n",
       "      <td>1.559602</td>\n",
       "    </tr>\n",
       "  </tbody>\n",
       "</table>\n",
       "</div>"
      ],
      "text/plain": [
       "         Country Country Code  Year       Type Category     Value\n",
       "249  Afghanistan          AFG  1999  Total CO2    Total  1.091640\n",
       "250  Afghanistan          AFG  2000  Total CO2    Total  1.047128\n",
       "251  Afghanistan          AFG  2001  Total CO2    Total  1.069098\n",
       "252  Afghanistan          AFG  2002  Total CO2    Total  1.340995\n",
       "253  Afghanistan          AFG  2003  Total CO2    Total  1.559602"
      ]
     },
     "execution_count": 1228,
     "metadata": {},
     "output_type": "execute_result"
    }
   ],
   "source": [
    "all_co_ready.head()\n"
   ]
  },
  {
   "attachments": {},
   "cell_type": "markdown",
   "metadata": {},
   "source": [
    "### Bringing in the GDP and Population data\n",
    "These are from the same source, in the same format just pulled as different times"
   ]
  },
  {
   "cell_type": "code",
   "execution_count": 1229,
   "metadata": {},
   "outputs": [],
   "source": [
    "# Read in the GDP data\n",
    "gdp_df= pd.read_csv('data/gdp_data.csv')\n",
    "pop_df = pd.read_csv('data/population.csv')\n",
    "\n",
    "# Concatenate the data frames\n",
    "all_gdp_df = pd.concat([gdp_df, pop_df], ignore_index=True)"
   ]
  },
  {
   "cell_type": "code",
   "execution_count": 1230,
   "metadata": {},
   "outputs": [
    {
     "data": {
      "text/html": [
       "<div>\n",
       "<style scoped>\n",
       "    .dataframe tbody tr th:only-of-type {\n",
       "        vertical-align: middle;\n",
       "    }\n",
       "\n",
       "    .dataframe tbody tr th {\n",
       "        vertical-align: top;\n",
       "    }\n",
       "\n",
       "    .dataframe thead th {\n",
       "        text-align: right;\n",
       "    }\n",
       "</style>\n",
       "<table border=\"1\" class=\"dataframe\">\n",
       "  <thead>\n",
       "    <tr style=\"text-align: right;\">\n",
       "      <th></th>\n",
       "      <th>Country</th>\n",
       "      <th>Country Code</th>\n",
       "      <th>Type</th>\n",
       "      <th>Category</th>\n",
       "      <th>1960</th>\n",
       "      <th>1961</th>\n",
       "      <th>1962</th>\n",
       "      <th>1963</th>\n",
       "      <th>1964</th>\n",
       "      <th>1965</th>\n",
       "      <th>...</th>\n",
       "      <th>2010</th>\n",
       "      <th>2011</th>\n",
       "      <th>2012</th>\n",
       "      <th>2013</th>\n",
       "      <th>2014</th>\n",
       "      <th>2015</th>\n",
       "      <th>2016</th>\n",
       "      <th>2017</th>\n",
       "      <th>2018</th>\n",
       "      <th>2019</th>\n",
       "    </tr>\n",
       "  </thead>\n",
       "  <tbody>\n",
       "    <tr>\n",
       "      <th>0</th>\n",
       "      <td>Afghanistan</td>\n",
       "      <td>AFG</td>\n",
       "      <td>GDP</td>\n",
       "      <td>GDP (current US$)</td>\n",
       "      <td>537777811.111111</td>\n",
       "      <td>548888895.555556</td>\n",
       "      <td>546666677.777778</td>\n",
       "      <td>751111191.111111</td>\n",
       "      <td>800000044.444444</td>\n",
       "      <td>1006666637.77778</td>\n",
       "      <td>...</td>\n",
       "      <td>15633856787.0425</td>\n",
       "      <td>18190410820.6235</td>\n",
       "      <td>20203572959.5023</td>\n",
       "      <td>20564485419.1684</td>\n",
       "      <td>20550582746.8448</td>\n",
       "      <td>19998156214.3988</td>\n",
       "      <td>18019558181.9602</td>\n",
       "      <td>18896352021.94</td>\n",
       "      <td>18418848299.5825</td>\n",
       "      <td>18904490262.913</td>\n",
       "    </tr>\n",
       "    <tr>\n",
       "      <th>1</th>\n",
       "      <td>Afghanistan</td>\n",
       "      <td>AFG</td>\n",
       "      <td>GDP</td>\n",
       "      <td>GDP per capita (current US$)</td>\n",
       "      <td>62.3693745050559</td>\n",
       "      <td>62.4437034626929</td>\n",
       "      <td>60.9503638210144</td>\n",
       "      <td>82.0217375781519</td>\n",
       "      <td>85.5110734102311</td>\n",
       "      <td>105.243195716467</td>\n",
       "      <td>...</td>\n",
       "      <td>554.595200222354</td>\n",
       "      <td>621.912310861592</td>\n",
       "      <td>663.141052810937</td>\n",
       "      <td>651.987861948108</td>\n",
       "      <td>628.146803888496</td>\n",
       "      <td>592.476537451681</td>\n",
       "      <td>520.252064031151</td>\n",
       "      <td>530.149830802984</td>\n",
       "      <td>502.056770622973</td>\n",
       "      <td>500.522664145294</td>\n",
       "    </tr>\n",
       "    <tr>\n",
       "      <th>2</th>\n",
       "      <td>Africa Eastern and Southern</td>\n",
       "      <td>AFE</td>\n",
       "      <td>GDP</td>\n",
       "      <td>GDP (current US$)</td>\n",
       "      <td>21291524631.3606</td>\n",
       "      <td>21809435284.9773</td>\n",
       "      <td>23708060554.431</td>\n",
       "      <td>28211280561.2905</td>\n",
       "      <td>26119938954.6996</td>\n",
       "      <td>29683481336.0513</td>\n",
       "      <td>...</td>\n",
       "      <td>860361207235.72</td>\n",
       "      <td>964213016259.692</td>\n",
       "      <td>972002199045.518</td>\n",
       "      <td>982677082467.187</td>\n",
       "      <td>1003403000510.52</td>\n",
       "      <td>923143900034.922</td>\n",
       "      <td>889859250365.411</td>\n",
       "      <td>1030482257898.25</td>\n",
       "      <td>1016696893390.38</td>\n",
       "      <td>1009051505055.59</td>\n",
       "    </tr>\n",
       "    <tr>\n",
       "      <th>3</th>\n",
       "      <td>Africa Eastern and Southern</td>\n",
       "      <td>AFE</td>\n",
       "      <td>GDP</td>\n",
       "      <td>GDP per capita (current US$)</td>\n",
       "      <td>162.913034498773</td>\n",
       "      <td>162.551683028333</td>\n",
       "      <td>172.002459991871</td>\n",
       "      <td>199.189238183763</td>\n",
       "      <td>179.387798934375</td>\n",
       "      <td>198.230367947484</td>\n",
       "      <td>...</td>\n",
       "      <td>1643.60556870139</td>\n",
       "      <td>1792.90750512756</td>\n",
       "      <td>1759.18239469392</td>\n",
       "      <td>1730.39468555029</td>\n",
       "      <td>1719.18372097247</td>\n",
       "      <td>1538.55226805656</td>\n",
       "      <td>1443.69237090812</td>\n",
       "      <td>1628.58678812124</td>\n",
       "      <td>1564.73433998697</td>\n",
       "      <td>1512.2705529912</td>\n",
       "    </tr>\n",
       "    <tr>\n",
       "      <th>4</th>\n",
       "      <td>Africa Western and Central</td>\n",
       "      <td>AFW</td>\n",
       "      <td>GDP</td>\n",
       "      <td>GDP (current US$)</td>\n",
       "      <td>10404135069.15</td>\n",
       "      <td>11127894641.0191</td>\n",
       "      <td>11943187848.3043</td>\n",
       "      <td>12676330764.6917</td>\n",
       "      <td>13838369295.2313</td>\n",
       "      <td>14862225759.9135</td>\n",
       "      <td>...</td>\n",
       "      <td>597129288864.775</td>\n",
       "      <td>680455985950.414</td>\n",
       "      <td>736039861278.13</td>\n",
       "      <td>832216894624.603</td>\n",
       "      <td>892497905712.366</td>\n",
       "      <td>766957955078.105</td>\n",
       "      <td>690545418736.157</td>\n",
       "      <td>683748014299.694</td>\n",
       "      <td>766359667820.703</td>\n",
       "      <td>794719102944.191</td>\n",
       "    </tr>\n",
       "  </tbody>\n",
       "</table>\n",
       "<p>5 rows × 64 columns</p>\n",
       "</div>"
      ],
      "text/plain": [
       "                       Country Country Code Type  \\\n",
       "0                  Afghanistan          AFG  GDP   \n",
       "1                  Afghanistan          AFG  GDP   \n",
       "2  Africa Eastern and Southern          AFE  GDP   \n",
       "3  Africa Eastern and Southern          AFE  GDP   \n",
       "4   Africa Western and Central          AFW  GDP   \n",
       "\n",
       "                       Category              1960              1961  \\\n",
       "0             GDP (current US$)  537777811.111111  548888895.555556   \n",
       "1  GDP per capita (current US$)  62.3693745050559  62.4437034626929   \n",
       "2             GDP (current US$)  21291524631.3606  21809435284.9773   \n",
       "3  GDP per capita (current US$)  162.913034498773  162.551683028333   \n",
       "4             GDP (current US$)    10404135069.15  11127894641.0191   \n",
       "\n",
       "               1962              1963              1964              1965  \\\n",
       "0  546666677.777778  751111191.111111  800000044.444444  1006666637.77778   \n",
       "1  60.9503638210144  82.0217375781519  85.5110734102311  105.243195716467   \n",
       "2   23708060554.431  28211280561.2905  26119938954.6996  29683481336.0513   \n",
       "3  172.002459991871  199.189238183763  179.387798934375  198.230367947484   \n",
       "4  11943187848.3043  12676330764.6917  13838369295.2313  14862225759.9135   \n",
       "\n",
       "   ...              2010              2011              2012  \\\n",
       "0  ...  15633856787.0425  18190410820.6235  20203572959.5023   \n",
       "1  ...  554.595200222354  621.912310861592  663.141052810937   \n",
       "2  ...   860361207235.72  964213016259.692  972002199045.518   \n",
       "3  ...  1643.60556870139  1792.90750512756  1759.18239469392   \n",
       "4  ...  597129288864.775  680455985950.414   736039861278.13   \n",
       "\n",
       "               2013              2014              2015              2016  \\\n",
       "0  20564485419.1684  20550582746.8448  19998156214.3988  18019558181.9602   \n",
       "1  651.987861948108  628.146803888496  592.476537451681  520.252064031151   \n",
       "2  982677082467.187  1003403000510.52  923143900034.922  889859250365.411   \n",
       "3  1730.39468555029  1719.18372097247  1538.55226805656  1443.69237090812   \n",
       "4  832216894624.603  892497905712.366  766957955078.105  690545418736.157   \n",
       "\n",
       "               2017              2018              2019  \n",
       "0    18896352021.94  18418848299.5825   18904490262.913  \n",
       "1  530.149830802984  502.056770622973  500.522664145294  \n",
       "2  1030482257898.25  1016696893390.38  1009051505055.59  \n",
       "3  1628.58678812124  1564.73433998697   1512.2705529912  \n",
       "4  683748014299.694  766359667820.703  794719102944.191  \n",
       "\n",
       "[5 rows x 64 columns]"
      ]
     },
     "execution_count": 1230,
     "metadata": {},
     "output_type": "execute_result"
    }
   ],
   "source": [
    "# Cleaning up the column names\n",
    "new_columns = []\n",
    "for column in all_gdp_df.columns:\n",
    "    new_columns.append(column.split('[')[0].strip())\n",
    "\n",
    "all_gdp_df.columns = new_columns\n",
    "\n",
    "# Renaming the series to match Type from the CO2 data\n",
    "all_gdp_df = all_gdp_df.rename(columns = {'Series Name':'Category', 'Country Name':'Country'})\n",
    "\n",
    "# Adding the Type column for merging later with the CO2 data, add it in column 2\n",
    "all_gdp_df.insert(2, 'Type', 'GDP')\n",
    "\n",
    "# Dropping the series code column\n",
    "all_gdp_df_formatted = all_gdp_df.drop(columns = ['Series Code'])\n",
    "\n",
    "all_gdp_df_formatted.head()"
   ]
  },
  {
   "cell_type": "code",
   "execution_count": 1231,
   "metadata": {},
   "outputs": [
    {
     "data": {
      "text/plain": [
       "GDP per capita (current US$)    266\n",
       "Population, total               266\n",
       "GDP (current US$)               266\n",
       "Name: Category, dtype: int64"
      ]
     },
     "execution_count": 1231,
     "metadata": {},
     "output_type": "execute_result"
    }
   ],
   "source": [
    "all_gdp_df_formatted['Category'].value_counts()"
   ]
  },
  {
   "cell_type": "code",
   "execution_count": 1232,
   "metadata": {},
   "outputs": [],
   "source": [
    "# Paring down the countries contain to match the all_co_melted\n",
    "pared_gdp_df = all_gdp_df_formatted[all_gdp_df_formatted['Country Code'].isin(all_co_melted['Country Code'])]"
   ]
  },
  {
   "cell_type": "code",
   "execution_count": 1233,
   "metadata": {},
   "outputs": [
    {
     "data": {
      "text/html": [
       "<div>\n",
       "<style scoped>\n",
       "    .dataframe tbody tr th:only-of-type {\n",
       "        vertical-align: middle;\n",
       "    }\n",
       "\n",
       "    .dataframe tbody tr th {\n",
       "        vertical-align: top;\n",
       "    }\n",
       "\n",
       "    .dataframe thead th {\n",
       "        text-align: right;\n",
       "    }\n",
       "</style>\n",
       "<table border=\"1\" class=\"dataframe\">\n",
       "  <thead>\n",
       "    <tr style=\"text-align: right;\">\n",
       "      <th></th>\n",
       "      <th>Country</th>\n",
       "      <th>Country Code</th>\n",
       "      <th>Type</th>\n",
       "      <th>Category</th>\n",
       "      <th>Year</th>\n",
       "      <th>Value</th>\n",
       "    </tr>\n",
       "  </thead>\n",
       "  <tbody>\n",
       "    <tr>\n",
       "      <th>0</th>\n",
       "      <td>Afghanistan</td>\n",
       "      <td>AFG</td>\n",
       "      <td>GDP</td>\n",
       "      <td>GDP (current US$)</td>\n",
       "      <td>1960</td>\n",
       "      <td>537777811.111111</td>\n",
       "    </tr>\n",
       "    <tr>\n",
       "      <th>1</th>\n",
       "      <td>Afghanistan</td>\n",
       "      <td>AFG</td>\n",
       "      <td>GDP</td>\n",
       "      <td>GDP per capita (current US$)</td>\n",
       "      <td>1960</td>\n",
       "      <td>62.3693745050559</td>\n",
       "    </tr>\n",
       "    <tr>\n",
       "      <th>2</th>\n",
       "      <td>Albania</td>\n",
       "      <td>ALB</td>\n",
       "      <td>GDP</td>\n",
       "      <td>GDP (current US$)</td>\n",
       "      <td>1960</td>\n",
       "      <td>..</td>\n",
       "    </tr>\n",
       "    <tr>\n",
       "      <th>3</th>\n",
       "      <td>Albania</td>\n",
       "      <td>ALB</td>\n",
       "      <td>GDP</td>\n",
       "      <td>GDP per capita (current US$)</td>\n",
       "      <td>1960</td>\n",
       "      <td>..</td>\n",
       "    </tr>\n",
       "    <tr>\n",
       "      <th>4</th>\n",
       "      <td>Algeria</td>\n",
       "      <td>DZA</td>\n",
       "      <td>GDP</td>\n",
       "      <td>GDP (current US$)</td>\n",
       "      <td>1960</td>\n",
       "      <td>2723593384.78054</td>\n",
       "    </tr>\n",
       "  </tbody>\n",
       "</table>\n",
       "</div>"
      ],
      "text/plain": [
       "       Country Country Code Type                      Category  Year  \\\n",
       "0  Afghanistan          AFG  GDP             GDP (current US$)  1960   \n",
       "1  Afghanistan          AFG  GDP  GDP per capita (current US$)  1960   \n",
       "2      Albania          ALB  GDP             GDP (current US$)  1960   \n",
       "3      Albania          ALB  GDP  GDP per capita (current US$)  1960   \n",
       "4      Algeria          DZA  GDP             GDP (current US$)  1960   \n",
       "\n",
       "              Value  \n",
       "0  537777811.111111  \n",
       "1  62.3693745050559  \n",
       "2                ..  \n",
       "3                ..  \n",
       "4  2723593384.78054  "
      ]
     },
     "execution_count": 1233,
     "metadata": {},
     "output_type": "execute_result"
    }
   ],
   "source": [
    "# Melt the data frame, id_vars is what columns to keep, value_vars is what columns to melt\n",
    "gdp_melted = pd.melt(pared_gdp_df, id_vars=['Country', 'Country Code', 'Type', 'Category'],\n",
    "                     var_name='Year', value_name='Value')\n",
    "\n",
    "gdp_melted.head()"
   ]
  },
  {
   "cell_type": "code",
   "execution_count": 1234,
   "metadata": {},
   "outputs": [],
   "source": [
    "gdp_melted = gdp_melted[gdp_melted['Country'] != 'World']\n",
    "gdp_melted = gdp_melted[gdp_melted['Country'] != 'International transport']"
   ]
  },
  {
   "cell_type": "code",
   "execution_count": 1235,
   "metadata": {},
   "outputs": [
    {
     "data": {
      "text/plain": [
       "Country         0\n",
       "Country Code    0\n",
       "Type            0\n",
       "Category        0\n",
       "Year            0\n",
       "Value           0\n",
       "dtype: int64"
      ]
     },
     "execution_count": 1235,
     "metadata": {},
     "output_type": "execute_result"
    }
   ],
   "source": [
    "gdp_melted.isnull().sum()"
   ]
  },
  {
   "cell_type": "code",
   "execution_count": 1236,
   "metadata": {},
   "outputs": [
    {
     "data": {
      "text/plain": [
       "Country         object\n",
       "Country Code    object\n",
       "Type            object\n",
       "Category        object\n",
       "Year            object\n",
       "Value           object\n",
       "dtype: object"
      ]
     },
     "execution_count": 1236,
     "metadata": {},
     "output_type": "execute_result"
    }
   ],
   "source": [
    "gdp_melted.dtypes"
   ]
  },
  {
   "cell_type": "code",
   "execution_count": 1237,
   "metadata": {},
   "outputs": [],
   "source": [
    "# Converting year to Int and GDP_Value to float, replace \"..\" with NaN\n",
    "gdp_melted[['Year']] = gdp_melted[['Year']].astype(int).copy()\n",
    "gdp_melted['Value'] = pd.to_numeric(gdp_melted['Value'], errors='coerce').copy()\n"
   ]
  },
  {
   "cell_type": "code",
   "execution_count": 1238,
   "metadata": {},
   "outputs": [],
   "source": [
    "# Shortening the time frame from 1999-2019\n",
    "gdp_melted_short = gdp_melted[gdp_melted['Year'] >= 1999]"
   ]
  },
  {
   "cell_type": "code",
   "execution_count": 1239,
   "metadata": {},
   "outputs": [],
   "source": [
    "# reorder the columns\n",
    "gdp_melted_ready = gdp_melted_short[['Country', 'Country Code', 'Year', 'Type', 'Category', 'Value']]"
   ]
  },
  {
   "cell_type": "code",
   "execution_count": 1240,
   "metadata": {},
   "outputs": [
    {
     "data": {
      "text/html": [
       "<div>\n",
       "<style scoped>\n",
       "    .dataframe tbody tr th:only-of-type {\n",
       "        vertical-align: middle;\n",
       "    }\n",
       "\n",
       "    .dataframe tbody tr th {\n",
       "        vertical-align: top;\n",
       "    }\n",
       "\n",
       "    .dataframe thead th {\n",
       "        text-align: right;\n",
       "    }\n",
       "</style>\n",
       "<table border=\"1\" class=\"dataframe\">\n",
       "  <thead>\n",
       "    <tr style=\"text-align: right;\">\n",
       "      <th></th>\n",
       "      <th>Country</th>\n",
       "      <th>Country Code</th>\n",
       "      <th>Year</th>\n",
       "      <th>Type</th>\n",
       "      <th>Category</th>\n",
       "      <th>Value</th>\n",
       "    </tr>\n",
       "  </thead>\n",
       "  <tbody>\n",
       "    <tr>\n",
       "      <th>24102</th>\n",
       "      <td>Afghanistan</td>\n",
       "      <td>AFG</td>\n",
       "      <td>1999</td>\n",
       "      <td>GDP</td>\n",
       "      <td>GDP (current US$)</td>\n",
       "      <td>NaN</td>\n",
       "    </tr>\n",
       "    <tr>\n",
       "      <th>24103</th>\n",
       "      <td>Afghanistan</td>\n",
       "      <td>AFG</td>\n",
       "      <td>1999</td>\n",
       "      <td>GDP</td>\n",
       "      <td>GDP per capita (current US$)</td>\n",
       "      <td>NaN</td>\n",
       "    </tr>\n",
       "    <tr>\n",
       "      <th>24104</th>\n",
       "      <td>Albania</td>\n",
       "      <td>ALB</td>\n",
       "      <td>1999</td>\n",
       "      <td>GDP</td>\n",
       "      <td>GDP (current US$)</td>\n",
       "      <td>3.212122e+09</td>\n",
       "    </tr>\n",
       "    <tr>\n",
       "      <th>24105</th>\n",
       "      <td>Albania</td>\n",
       "      <td>ALB</td>\n",
       "      <td>1999</td>\n",
       "      <td>GDP</td>\n",
       "      <td>GDP per capita (current US$)</td>\n",
       "      <td>1.033243e+03</td>\n",
       "    </tr>\n",
       "    <tr>\n",
       "      <th>24106</th>\n",
       "      <td>Algeria</td>\n",
       "      <td>DZA</td>\n",
       "      <td>1999</td>\n",
       "      <td>GDP</td>\n",
       "      <td>GDP (current US$)</td>\n",
       "      <td>4.864065e+10</td>\n",
       "    </tr>\n",
       "  </tbody>\n",
       "</table>\n",
       "</div>"
      ],
      "text/plain": [
       "           Country Country Code  Year Type                      Category  \\\n",
       "24102  Afghanistan          AFG  1999  GDP             GDP (current US$)   \n",
       "24103  Afghanistan          AFG  1999  GDP  GDP per capita (current US$)   \n",
       "24104      Albania          ALB  1999  GDP             GDP (current US$)   \n",
       "24105      Albania          ALB  1999  GDP  GDP per capita (current US$)   \n",
       "24106      Algeria          DZA  1999  GDP             GDP (current US$)   \n",
       "\n",
       "              Value  \n",
       "24102           NaN  \n",
       "24103           NaN  \n",
       "24104  3.212122e+09  \n",
       "24105  1.033243e+03  \n",
       "24106  4.864065e+10  "
      ]
     },
     "execution_count": 1240,
     "metadata": {},
     "output_type": "execute_result"
    }
   ],
   "source": [
    "gdp_melted_ready.head()"
   ]
  },
  {
   "attachments": {},
   "cell_type": "markdown",
   "metadata": {},
   "source": [
    "### Make sure the CO2 df and GDP df have the same countries in them"
   ]
  },
  {
   "cell_type": "code",
   "execution_count": 1241,
   "metadata": {},
   "outputs": [
    {
     "name": "stdout",
     "output_type": "stream",
     "text": [
      "There are 20 countries in the CO2 df that are not in the GDP df.      The country not in the other data frame is: ['AIA', 'ATA', 'BES', 'CXR', 'COK', 'PCZ', 'GUF', 'GLP', 'KSV', 'MTQ', 'MYT', 'MSR', 'NIU', 'REU', 'SHN', 'SPM', 'TWN', 'WLF', 'XIT', 'WLD']\n",
      "There are 0 countries in the GDP df that are not in the CO2 df.      The country not in the other data frame is: []\n"
     ]
    }
   ],
   "source": [
    "# Get unique country codes for each df and compare\n",
    "co_codes = all_co_ready['Country Code'].unique() \n",
    "gdp_codes = gdp_melted_ready['Country Code'].unique()\n",
    "\n",
    "# Are there any countries in the CO2 df that are not in the per capita df?\n",
    "co_not_in_gdp = []\n",
    "for code in co_codes:\n",
    "    if code not in gdp_codes:\n",
    "        co_not_in_gdp.append(code)\n",
    "print(f\"There are {len(co_not_in_gdp)} countries in the CO2 df that are not in the GDP df.\\\n",
    "      The country not in the other data frame is: {co_not_in_gdp}\")\n",
    "\n",
    "# Show the countries that are not in the per capita df\n",
    "co_not_in_gdp\n",
    "\n",
    "# Are there any countries in the per capita df that are not in the CO2 df?\n",
    "gdp_not_in_co = []   \n",
    "for code in gdp_codes:\n",
    "    if code not in co_codes:\n",
    "        gdp_not_in_co.append(code)   \n",
    "print(f\"There are {len(gdp_not_in_co)} countries in the GDP df that are not in the CO2 df.\\\n",
    "      The country not in the other data frame is: {gdp_not_in_co}\")"
   ]
  },
  {
   "cell_type": "code",
   "execution_count": 1242,
   "metadata": {},
   "outputs": [],
   "source": [
    "# Drop the countries in the CO2 df that are not in the GDP df\n",
    "all_co_ready = all_co_ready[~all_co_ready['Country Code'].isin(co_not_in_gdp)]\n"
   ]
  },
  {
   "attachments": {},
   "cell_type": "markdown",
   "metadata": {},
   "source": [
    "### Merge the CO2 and GDP dataframes"
   ]
  },
  {
   "cell_type": "code",
   "execution_count": 1243,
   "metadata": {},
   "outputs": [
    {
     "data": {
      "text/html": [
       "<div>\n",
       "<style scoped>\n",
       "    .dataframe tbody tr th:only-of-type {\n",
       "        vertical-align: middle;\n",
       "    }\n",
       "\n",
       "    .dataframe tbody tr th {\n",
       "        vertical-align: top;\n",
       "    }\n",
       "\n",
       "    .dataframe thead th {\n",
       "        text-align: right;\n",
       "    }\n",
       "</style>\n",
       "<table border=\"1\" class=\"dataframe\">\n",
       "  <thead>\n",
       "    <tr style=\"text-align: right;\">\n",
       "      <th></th>\n",
       "      <th>Country</th>\n",
       "      <th>Country Code</th>\n",
       "      <th>Year</th>\n",
       "      <th>Type</th>\n",
       "      <th>Category</th>\n",
       "      <th>Value</th>\n",
       "    </tr>\n",
       "  </thead>\n",
       "  <tbody>\n",
       "    <tr>\n",
       "      <th>249</th>\n",
       "      <td>Afghanistan</td>\n",
       "      <td>AFG</td>\n",
       "      <td>1999</td>\n",
       "      <td>Total CO2</td>\n",
       "      <td>Total</td>\n",
       "      <td>1.091640</td>\n",
       "    </tr>\n",
       "    <tr>\n",
       "      <th>250</th>\n",
       "      <td>Afghanistan</td>\n",
       "      <td>AFG</td>\n",
       "      <td>2000</td>\n",
       "      <td>Total CO2</td>\n",
       "      <td>Total</td>\n",
       "      <td>1.047128</td>\n",
       "    </tr>\n",
       "    <tr>\n",
       "      <th>251</th>\n",
       "      <td>Afghanistan</td>\n",
       "      <td>AFG</td>\n",
       "      <td>2001</td>\n",
       "      <td>Total CO2</td>\n",
       "      <td>Total</td>\n",
       "      <td>1.069098</td>\n",
       "    </tr>\n",
       "    <tr>\n",
       "      <th>252</th>\n",
       "      <td>Afghanistan</td>\n",
       "      <td>AFG</td>\n",
       "      <td>2002</td>\n",
       "      <td>Total CO2</td>\n",
       "      <td>Total</td>\n",
       "      <td>1.340995</td>\n",
       "    </tr>\n",
       "    <tr>\n",
       "      <th>253</th>\n",
       "      <td>Afghanistan</td>\n",
       "      <td>AFG</td>\n",
       "      <td>2003</td>\n",
       "      <td>Total CO2</td>\n",
       "      <td>Total</td>\n",
       "      <td>1.559602</td>\n",
       "    </tr>\n",
       "  </tbody>\n",
       "</table>\n",
       "</div>"
      ],
      "text/plain": [
       "         Country Country Code  Year       Type Category     Value\n",
       "249  Afghanistan          AFG  1999  Total CO2    Total  1.091640\n",
       "250  Afghanistan          AFG  2000  Total CO2    Total  1.047128\n",
       "251  Afghanistan          AFG  2001  Total CO2    Total  1.069098\n",
       "252  Afghanistan          AFG  2002  Total CO2    Total  1.340995\n",
       "253  Afghanistan          AFG  2003  Total CO2    Total  1.559602"
      ]
     },
     "execution_count": 1243,
     "metadata": {},
     "output_type": "execute_result"
    }
   ],
   "source": [
    "all_co_ready.head()"
   ]
  },
  {
   "cell_type": "code",
   "execution_count": 1244,
   "metadata": {},
   "outputs": [
    {
     "data": {
      "text/html": [
       "<div>\n",
       "<style scoped>\n",
       "    .dataframe tbody tr th:only-of-type {\n",
       "        vertical-align: middle;\n",
       "    }\n",
       "\n",
       "    .dataframe tbody tr th {\n",
       "        vertical-align: top;\n",
       "    }\n",
       "\n",
       "    .dataframe thead th {\n",
       "        text-align: right;\n",
       "    }\n",
       "</style>\n",
       "<table border=\"1\" class=\"dataframe\">\n",
       "  <thead>\n",
       "    <tr style=\"text-align: right;\">\n",
       "      <th></th>\n",
       "      <th>Country</th>\n",
       "      <th>Country Code</th>\n",
       "      <th>Year</th>\n",
       "      <th>Type</th>\n",
       "      <th>Category</th>\n",
       "      <th>Value</th>\n",
       "    </tr>\n",
       "  </thead>\n",
       "  <tbody>\n",
       "    <tr>\n",
       "      <th>24102</th>\n",
       "      <td>Afghanistan</td>\n",
       "      <td>AFG</td>\n",
       "      <td>1999</td>\n",
       "      <td>GDP</td>\n",
       "      <td>GDP (current US$)</td>\n",
       "      <td>NaN</td>\n",
       "    </tr>\n",
       "    <tr>\n",
       "      <th>24103</th>\n",
       "      <td>Afghanistan</td>\n",
       "      <td>AFG</td>\n",
       "      <td>1999</td>\n",
       "      <td>GDP</td>\n",
       "      <td>GDP per capita (current US$)</td>\n",
       "      <td>NaN</td>\n",
       "    </tr>\n",
       "    <tr>\n",
       "      <th>24104</th>\n",
       "      <td>Albania</td>\n",
       "      <td>ALB</td>\n",
       "      <td>1999</td>\n",
       "      <td>GDP</td>\n",
       "      <td>GDP (current US$)</td>\n",
       "      <td>3.212122e+09</td>\n",
       "    </tr>\n",
       "    <tr>\n",
       "      <th>24105</th>\n",
       "      <td>Albania</td>\n",
       "      <td>ALB</td>\n",
       "      <td>1999</td>\n",
       "      <td>GDP</td>\n",
       "      <td>GDP per capita (current US$)</td>\n",
       "      <td>1.033243e+03</td>\n",
       "    </tr>\n",
       "    <tr>\n",
       "      <th>24106</th>\n",
       "      <td>Algeria</td>\n",
       "      <td>DZA</td>\n",
       "      <td>1999</td>\n",
       "      <td>GDP</td>\n",
       "      <td>GDP (current US$)</td>\n",
       "      <td>4.864065e+10</td>\n",
       "    </tr>\n",
       "  </tbody>\n",
       "</table>\n",
       "</div>"
      ],
      "text/plain": [
       "           Country Country Code  Year Type                      Category  \\\n",
       "24102  Afghanistan          AFG  1999  GDP             GDP (current US$)   \n",
       "24103  Afghanistan          AFG  1999  GDP  GDP per capita (current US$)   \n",
       "24104      Albania          ALB  1999  GDP             GDP (current US$)   \n",
       "24105      Albania          ALB  1999  GDP  GDP per capita (current US$)   \n",
       "24106      Algeria          DZA  1999  GDP             GDP (current US$)   \n",
       "\n",
       "              Value  \n",
       "24102           NaN  \n",
       "24103           NaN  \n",
       "24104  3.212122e+09  \n",
       "24105  1.033243e+03  \n",
       "24106  4.864065e+10  "
      ]
     },
     "execution_count": 1244,
     "metadata": {},
     "output_type": "execute_result"
    }
   ],
   "source": [
    "gdp_melted_ready.head()"
   ]
  },
  {
   "cell_type": "code",
   "execution_count": 1245,
   "metadata": {},
   "outputs": [],
   "source": [
    "# Merge the CO2 and GDP data frames\n",
    "co_gdp_df = pd.merge(all_co_ready, gdp_melted_ready, how='outer', on=['Country', 'Country Code', 'Year', 'Type', 'Category', 'Value'])"
   ]
  },
  {
   "cell_type": "code",
   "execution_count": 1246,
   "metadata": {},
   "outputs": [
    {
     "data": {
      "text/html": [
       "<div>\n",
       "<style scoped>\n",
       "    .dataframe tbody tr th:only-of-type {\n",
       "        vertical-align: middle;\n",
       "    }\n",
       "\n",
       "    .dataframe tbody tr th {\n",
       "        vertical-align: top;\n",
       "    }\n",
       "\n",
       "    .dataframe thead th {\n",
       "        text-align: right;\n",
       "    }\n",
       "</style>\n",
       "<table border=\"1\" class=\"dataframe\">\n",
       "  <thead>\n",
       "    <tr style=\"text-align: right;\">\n",
       "      <th></th>\n",
       "      <th>Country</th>\n",
       "      <th>Country Code</th>\n",
       "      <th>Year</th>\n",
       "      <th>Type</th>\n",
       "      <th>Category</th>\n",
       "      <th>Value</th>\n",
       "    </tr>\n",
       "  </thead>\n",
       "  <tbody>\n",
       "    <tr>\n",
       "      <th>0</th>\n",
       "      <td>Afghanistan</td>\n",
       "      <td>AFG</td>\n",
       "      <td>1999</td>\n",
       "      <td>Total CO2</td>\n",
       "      <td>Total</td>\n",
       "      <td>1.091640</td>\n",
       "    </tr>\n",
       "    <tr>\n",
       "      <th>1</th>\n",
       "      <td>Afghanistan</td>\n",
       "      <td>AFG</td>\n",
       "      <td>2000</td>\n",
       "      <td>Total CO2</td>\n",
       "      <td>Total</td>\n",
       "      <td>1.047128</td>\n",
       "    </tr>\n",
       "    <tr>\n",
       "      <th>2</th>\n",
       "      <td>Afghanistan</td>\n",
       "      <td>AFG</td>\n",
       "      <td>2001</td>\n",
       "      <td>Total CO2</td>\n",
       "      <td>Total</td>\n",
       "      <td>1.069098</td>\n",
       "    </tr>\n",
       "    <tr>\n",
       "      <th>3</th>\n",
       "      <td>Afghanistan</td>\n",
       "      <td>AFG</td>\n",
       "      <td>2002</td>\n",
       "      <td>Total CO2</td>\n",
       "      <td>Total</td>\n",
       "      <td>1.340995</td>\n",
       "    </tr>\n",
       "    <tr>\n",
       "      <th>4</th>\n",
       "      <td>Afghanistan</td>\n",
       "      <td>AFG</td>\n",
       "      <td>2003</td>\n",
       "      <td>Total CO2</td>\n",
       "      <td>Total</td>\n",
       "      <td>1.559602</td>\n",
       "    </tr>\n",
       "  </tbody>\n",
       "</table>\n",
       "</div>"
      ],
      "text/plain": [
       "       Country Country Code  Year       Type Category     Value\n",
       "0  Afghanistan          AFG  1999  Total CO2    Total  1.091640\n",
       "1  Afghanistan          AFG  2000  Total CO2    Total  1.047128\n",
       "2  Afghanistan          AFG  2001  Total CO2    Total  1.069098\n",
       "3  Afghanistan          AFG  2002  Total CO2    Total  1.340995\n",
       "4  Afghanistan          AFG  2003  Total CO2    Total  1.559602"
      ]
     },
     "execution_count": 1246,
     "metadata": {},
     "output_type": "execute_result"
    }
   ],
   "source": [
    "co_gdp_df.head()"
   ]
  },
  {
   "cell_type": "code",
   "execution_count": 1247,
   "metadata": {},
   "outputs": [
    {
     "data": {
      "text/plain": [
       "Total                           46\n",
       "Coal                            46\n",
       "Cement                          46\n",
       "Oil                             46\n",
       "Flaring                         46\n",
       "Other                           46\n",
       "Gas                             46\n",
       "Population, total               21\n",
       "GDP (current US$)               21\n",
       "GDP per capita (current US$)    21\n",
       "Name: Category, dtype: int64"
      ]
     },
     "execution_count": 1247,
     "metadata": {},
     "output_type": "execute_result"
    }
   ],
   "source": [
    "# Test\n",
    "test = co_gdp_df[co_gdp_df['Country Code'] == 'USA']\n",
    "\n",
    "test['Category'].value_counts()"
   ]
  },
  {
   "attachments": {},
   "cell_type": "markdown",
   "metadata": {},
   "source": [
    "#### Bringing in continent data onto the CO2/GDP/POP dataframe"
   ]
  },
  {
   "cell_type": "code",
   "execution_count": 1248,
   "metadata": {},
   "outputs": [
    {
     "data": {
      "text/html": [
       "<div>\n",
       "<style scoped>\n",
       "    .dataframe tbody tr th:only-of-type {\n",
       "        vertical-align: middle;\n",
       "    }\n",
       "\n",
       "    .dataframe tbody tr th {\n",
       "        vertical-align: top;\n",
       "    }\n",
       "\n",
       "    .dataframe thead th {\n",
       "        text-align: right;\n",
       "    }\n",
       "</style>\n",
       "<table border=\"1\" class=\"dataframe\">\n",
       "  <thead>\n",
       "    <tr style=\"text-align: right;\">\n",
       "      <th></th>\n",
       "      <th>Continent_Name</th>\n",
       "      <th>Continent_Code</th>\n",
       "      <th>Country_Name</th>\n",
       "      <th>Two_Letter_Country_Code</th>\n",
       "      <th>Three_Letter_Country_Code</th>\n",
       "      <th>Country_Number</th>\n",
       "    </tr>\n",
       "  </thead>\n",
       "  <tbody>\n",
       "    <tr>\n",
       "      <th>0</th>\n",
       "      <td>Asia</td>\n",
       "      <td>AS</td>\n",
       "      <td>Afghanistan, Islamic Republic of</td>\n",
       "      <td>AF</td>\n",
       "      <td>AFG</td>\n",
       "      <td>4.0</td>\n",
       "    </tr>\n",
       "    <tr>\n",
       "      <th>1</th>\n",
       "      <td>Europe</td>\n",
       "      <td>EU</td>\n",
       "      <td>Albania, Republic of</td>\n",
       "      <td>AL</td>\n",
       "      <td>ALB</td>\n",
       "      <td>8.0</td>\n",
       "    </tr>\n",
       "    <tr>\n",
       "      <th>2</th>\n",
       "      <td>Antarctica</td>\n",
       "      <td>AN</td>\n",
       "      <td>Antarctica (the territory South of 60 deg S)</td>\n",
       "      <td>AQ</td>\n",
       "      <td>ATA</td>\n",
       "      <td>10.0</td>\n",
       "    </tr>\n",
       "    <tr>\n",
       "      <th>3</th>\n",
       "      <td>Africa</td>\n",
       "      <td>AF</td>\n",
       "      <td>Algeria, People's Democratic Republic of</td>\n",
       "      <td>DZ</td>\n",
       "      <td>DZA</td>\n",
       "      <td>12.0</td>\n",
       "    </tr>\n",
       "    <tr>\n",
       "      <th>4</th>\n",
       "      <td>Oceania</td>\n",
       "      <td>OC</td>\n",
       "      <td>American Samoa</td>\n",
       "      <td>AS</td>\n",
       "      <td>ASM</td>\n",
       "      <td>16.0</td>\n",
       "    </tr>\n",
       "  </tbody>\n",
       "</table>\n",
       "</div>"
      ],
      "text/plain": [
       "  Continent_Name Continent_Code                                  Country_Name  \\\n",
       "0           Asia             AS              Afghanistan, Islamic Republic of   \n",
       "1         Europe             EU                          Albania, Republic of   \n",
       "2     Antarctica             AN  Antarctica (the territory South of 60 deg S)   \n",
       "3         Africa             AF      Algeria, People's Democratic Republic of   \n",
       "4        Oceania             OC                                American Samoa   \n",
       "\n",
       "  Two_Letter_Country_Code Three_Letter_Country_Code  Country_Number  \n",
       "0                      AF                       AFG             4.0  \n",
       "1                      AL                       ALB             8.0  \n",
       "2                      AQ                       ATA            10.0  \n",
       "3                      DZ                       DZA            12.0  \n",
       "4                      AS                       ASM            16.0  "
      ]
     },
     "execution_count": 1248,
     "metadata": {},
     "output_type": "execute_result"
    }
   ],
   "source": [
    "cont_df = pd.read_csv('data/country-and-continent-codes-list-csv.csv')\n",
    "\n",
    "cont_df.head()"
   ]
  },
  {
   "cell_type": "code",
   "execution_count": 1249,
   "metadata": {},
   "outputs": [
    {
     "name": "stdout",
     "output_type": "stream",
     "text": [
      "Missing values in 'Two_Letter_Country_Code' column: 1\n"
     ]
    }
   ],
   "source": [
    "print(\"Missing values in 'Two_Letter_Country_Code' column:\", cont_df['Two_Letter_Country_Code'].isna().sum())\n"
   ]
  },
  {
   "cell_type": "code",
   "execution_count": 1250,
   "metadata": {},
   "outputs": [],
   "source": [
    "# Drop the rows with missing values\n",
    "cont_df = cont_df.dropna(subset=['Two_Letter_Country_Code'])"
   ]
  },
  {
   "cell_type": "code",
   "execution_count": 1251,
   "metadata": {},
   "outputs": [],
   "source": [
    "# Rename the columns to match the CO2 data\n",
    "cont_df = cont_df.rename(columns = {'Three_Letter_Country_Code':'Country Code', 'Continent_Name':'Continent', 'Continent_Code':'Continent Code'})"
   ]
  },
  {
   "cell_type": "code",
   "execution_count": 1252,
   "metadata": {},
   "outputs": [],
   "source": [
    "# Check for duplicate country codes in the continent data frame\n",
    "cont_df['Country Code'].value_counts()\n",
    "# Drop the duplicate country codes\n",
    "cont_df = cont_df.drop_duplicates(subset=['Country Code'])"
   ]
  },
  {
   "cell_type": "code",
   "execution_count": 1253,
   "metadata": {},
   "outputs": [
    {
     "data": {
      "text/html": [
       "<div>\n",
       "<style scoped>\n",
       "    .dataframe tbody tr th:only-of-type {\n",
       "        vertical-align: middle;\n",
       "    }\n",
       "\n",
       "    .dataframe tbody tr th {\n",
       "        vertical-align: top;\n",
       "    }\n",
       "\n",
       "    .dataframe thead th {\n",
       "        text-align: right;\n",
       "    }\n",
       "</style>\n",
       "<table border=\"1\" class=\"dataframe\">\n",
       "  <thead>\n",
       "    <tr style=\"text-align: right;\">\n",
       "      <th></th>\n",
       "      <th>Continent</th>\n",
       "      <th>Continent Code</th>\n",
       "      <th>Country_Name</th>\n",
       "      <th>Two_Letter_Country_Code</th>\n",
       "      <th>Country Code</th>\n",
       "      <th>Country_Number</th>\n",
       "    </tr>\n",
       "  </thead>\n",
       "  <tbody>\n",
       "    <tr>\n",
       "      <th>0</th>\n",
       "      <td>Asia</td>\n",
       "      <td>AS</td>\n",
       "      <td>Afghanistan, Islamic Republic of</td>\n",
       "      <td>AF</td>\n",
       "      <td>AFG</td>\n",
       "      <td>4.0</td>\n",
       "    </tr>\n",
       "    <tr>\n",
       "      <th>1</th>\n",
       "      <td>Europe</td>\n",
       "      <td>EU</td>\n",
       "      <td>Albania, Republic of</td>\n",
       "      <td>AL</td>\n",
       "      <td>ALB</td>\n",
       "      <td>8.0</td>\n",
       "    </tr>\n",
       "    <tr>\n",
       "      <th>2</th>\n",
       "      <td>Antarctica</td>\n",
       "      <td>AN</td>\n",
       "      <td>Antarctica (the territory South of 60 deg S)</td>\n",
       "      <td>AQ</td>\n",
       "      <td>ATA</td>\n",
       "      <td>10.0</td>\n",
       "    </tr>\n",
       "    <tr>\n",
       "      <th>3</th>\n",
       "      <td>Africa</td>\n",
       "      <td>AF</td>\n",
       "      <td>Algeria, People's Democratic Republic of</td>\n",
       "      <td>DZ</td>\n",
       "      <td>DZA</td>\n",
       "      <td>12.0</td>\n",
       "    </tr>\n",
       "    <tr>\n",
       "      <th>4</th>\n",
       "      <td>Oceania</td>\n",
       "      <td>OC</td>\n",
       "      <td>American Samoa</td>\n",
       "      <td>AS</td>\n",
       "      <td>ASM</td>\n",
       "      <td>16.0</td>\n",
       "    </tr>\n",
       "  </tbody>\n",
       "</table>\n",
       "</div>"
      ],
      "text/plain": [
       "    Continent Continent Code                                  Country_Name  \\\n",
       "0        Asia             AS              Afghanistan, Islamic Republic of   \n",
       "1      Europe             EU                          Albania, Republic of   \n",
       "2  Antarctica             AN  Antarctica (the territory South of 60 deg S)   \n",
       "3      Africa             AF      Algeria, People's Democratic Republic of   \n",
       "4     Oceania             OC                                American Samoa   \n",
       "\n",
       "  Two_Letter_Country_Code Country Code  Country_Number  \n",
       "0                      AF          AFG             4.0  \n",
       "1                      AL          ALB             8.0  \n",
       "2                      AQ          ATA            10.0  \n",
       "3                      DZ          DZA            12.0  \n",
       "4                      AS          ASM            16.0  "
      ]
     },
     "execution_count": 1253,
     "metadata": {},
     "output_type": "execute_result"
    }
   ],
   "source": [
    "cont_df.head()"
   ]
  },
  {
   "cell_type": "code",
   "execution_count": 1254,
   "metadata": {},
   "outputs": [
    {
     "name": "stdout",
     "output_type": "stream",
     "text": [
      "Columns in co_gdp_df: Index(['Country', 'Country Code', 'Year', 'Type', 'Category', 'Value'], dtype='object')\n",
      "Columns in cont_df: Index(['Continent', 'Continent Code', 'Country_Name',\n",
      "       'Two_Letter_Country_Code', 'Country Code', 'Country_Number'],\n",
      "      dtype='object')\n"
     ]
    }
   ],
   "source": [
    "print(\"Columns in co_gdp_df:\", co_gdp_df.columns)\n",
    "print(\"Columns in cont_df:\", cont_df.columns)"
   ]
  },
  {
   "cell_type": "code",
   "execution_count": 1255,
   "metadata": {},
   "outputs": [],
   "source": [
    "# Bringing in continent data on to the co2/gdp/pop data frame, only bringing the Continent_Name column and the continent_Code column \n",
    "co_gdp_cont_df = pd.merge(co_gdp_df, cont_df[['Continent', 'Continent Code', 'Country Code']], how='left', left_on='Country Code', right_on='Country Code')\n"
   ]
  },
  {
   "cell_type": "code",
   "execution_count": 1256,
   "metadata": {},
   "outputs": [
    {
     "data": {
      "text/html": [
       "<div>\n",
       "<style scoped>\n",
       "    .dataframe tbody tr th:only-of-type {\n",
       "        vertical-align: middle;\n",
       "    }\n",
       "\n",
       "    .dataframe tbody tr th {\n",
       "        vertical-align: top;\n",
       "    }\n",
       "\n",
       "    .dataframe thead th {\n",
       "        text-align: right;\n",
       "    }\n",
       "</style>\n",
       "<table border=\"1\" class=\"dataframe\">\n",
       "  <thead>\n",
       "    <tr style=\"text-align: right;\">\n",
       "      <th></th>\n",
       "      <th>Country</th>\n",
       "      <th>Country Code</th>\n",
       "      <th>Year</th>\n",
       "      <th>Type</th>\n",
       "      <th>Category</th>\n",
       "      <th>Value</th>\n",
       "      <th>Continent</th>\n",
       "      <th>Continent Code</th>\n",
       "    </tr>\n",
       "  </thead>\n",
       "  <tbody>\n",
       "    <tr>\n",
       "      <th>0</th>\n",
       "      <td>Afghanistan</td>\n",
       "      <td>AFG</td>\n",
       "      <td>1999</td>\n",
       "      <td>Total CO2</td>\n",
       "      <td>Total</td>\n",
       "      <td>1.091640</td>\n",
       "      <td>Asia</td>\n",
       "      <td>AS</td>\n",
       "    </tr>\n",
       "    <tr>\n",
       "      <th>1</th>\n",
       "      <td>Afghanistan</td>\n",
       "      <td>AFG</td>\n",
       "      <td>2000</td>\n",
       "      <td>Total CO2</td>\n",
       "      <td>Total</td>\n",
       "      <td>1.047128</td>\n",
       "      <td>Asia</td>\n",
       "      <td>AS</td>\n",
       "    </tr>\n",
       "    <tr>\n",
       "      <th>2</th>\n",
       "      <td>Afghanistan</td>\n",
       "      <td>AFG</td>\n",
       "      <td>2001</td>\n",
       "      <td>Total CO2</td>\n",
       "      <td>Total</td>\n",
       "      <td>1.069098</td>\n",
       "      <td>Asia</td>\n",
       "      <td>AS</td>\n",
       "    </tr>\n",
       "    <tr>\n",
       "      <th>3</th>\n",
       "      <td>Afghanistan</td>\n",
       "      <td>AFG</td>\n",
       "      <td>2002</td>\n",
       "      <td>Total CO2</td>\n",
       "      <td>Total</td>\n",
       "      <td>1.340995</td>\n",
       "      <td>Asia</td>\n",
       "      <td>AS</td>\n",
       "    </tr>\n",
       "    <tr>\n",
       "      <th>4</th>\n",
       "      <td>Afghanistan</td>\n",
       "      <td>AFG</td>\n",
       "      <td>2003</td>\n",
       "      <td>Total CO2</td>\n",
       "      <td>Total</td>\n",
       "      <td>1.559602</td>\n",
       "      <td>Asia</td>\n",
       "      <td>AS</td>\n",
       "    </tr>\n",
       "  </tbody>\n",
       "</table>\n",
       "</div>"
      ],
      "text/plain": [
       "       Country Country Code  Year       Type Category     Value Continent  \\\n",
       "0  Afghanistan          AFG  1999  Total CO2    Total  1.091640      Asia   \n",
       "1  Afghanistan          AFG  2000  Total CO2    Total  1.047128      Asia   \n",
       "2  Afghanistan          AFG  2001  Total CO2    Total  1.069098      Asia   \n",
       "3  Afghanistan          AFG  2002  Total CO2    Total  1.340995      Asia   \n",
       "4  Afghanistan          AFG  2003  Total CO2    Total  1.559602      Asia   \n",
       "\n",
       "  Continent Code  \n",
       "0             AS  \n",
       "1             AS  \n",
       "2             AS  \n",
       "3             AS  \n",
       "4             AS  "
      ]
     },
     "execution_count": 1256,
     "metadata": {},
     "output_type": "execute_result"
    }
   ],
   "source": [
    "co_gdp_cont_df.head()"
   ]
  },
  {
   "cell_type": "code",
   "execution_count": 1257,
   "metadata": {},
   "outputs": [
    {
     "data": {
      "text/plain": [
       "North America    12257\n",
       "Name: Continent, dtype: int64"
      ]
     },
     "execution_count": 1257,
     "metadata": {},
     "output_type": "execute_result"
    }
   ],
   "source": [
    "# Find where continet code is null\n",
    "missing_conts = co_gdp_cont_df[co_gdp_cont_df['Continent Code'].isnull()]\n",
    "missing_conts['Continent'].value_counts()\n"
   ]
  },
  {
   "cell_type": "code",
   "execution_count": 1258,
   "metadata": {},
   "outputs": [],
   "source": [
    "# Fill the Continent Code column for all North America countries with NA\n",
    "co_gdp_cont_df['Continent Code'] = co_gdp_cont_df['Continent Code'].fillna('NA')"
   ]
  },
  {
   "attachments": {},
   "cell_type": "markdown",
   "metadata": {},
   "source": [
    "### Building the country GeoJSON dataframe\n",
    "Because we are using boundaries and those coordinates are very lengthy, these will be housed in their own collection"
   ]
  },
  {
   "cell_type": "code",
   "execution_count": 1259,
   "metadata": {},
   "outputs": [],
   "source": [
    "# Function to load geojson to a dataframe, so we can potentially load more than one\n",
    "filepath = 'data/countries.geojson'\n",
    "\n",
    "with open(filepath, 'r') as file:\n",
    "    geojson_data = json.load(file)\n",
    "    \n",
    "# Extract the features from the GeoJSON data\n",
    "features = geojson_data['features']\n",
    "\n",
    "# Create a list to store the data for the DataFrame\n",
    "data = []\n",
    "\n",
    "# Iterate through the features and extract the relevant information\n",
    "for feature in features:\n",
    "    country_code = feature['properties']['ISO_A3']\n",
    "    geometry = feature['geometry']\n",
    "    data.append([country_code, geometry])\n",
    "\n",
    "# Create a DataFrame from the extracted data\n",
    "geojson_df = pd.DataFrame(data, columns=['country_code', 'geometry'])"
   ]
  },
  {
   "cell_type": "code",
   "execution_count": 1260,
   "metadata": {},
   "outputs": [
    {
     "data": {
      "text/html": [
       "<div>\n",
       "<style scoped>\n",
       "    .dataframe tbody tr th:only-of-type {\n",
       "        vertical-align: middle;\n",
       "    }\n",
       "\n",
       "    .dataframe tbody tr th {\n",
       "        vertical-align: top;\n",
       "    }\n",
       "\n",
       "    .dataframe thead th {\n",
       "        text-align: right;\n",
       "    }\n",
       "</style>\n",
       "<table border=\"1\" class=\"dataframe\">\n",
       "  <thead>\n",
       "    <tr style=\"text-align: right;\">\n",
       "      <th></th>\n",
       "      <th>country_code</th>\n",
       "      <th>geometry</th>\n",
       "    </tr>\n",
       "  </thead>\n",
       "  <tbody>\n",
       "    <tr>\n",
       "      <th>0</th>\n",
       "      <td>ABW</td>\n",
       "      <td>{'type': 'Polygon', 'coordinates': [[[-69.9969...</td>\n",
       "    </tr>\n",
       "    <tr>\n",
       "      <th>1</th>\n",
       "      <td>AFG</td>\n",
       "      <td>{'type': 'Polygon', 'coordinates': [[[71.04980...</td>\n",
       "    </tr>\n",
       "    <tr>\n",
       "      <th>2</th>\n",
       "      <td>AGO</td>\n",
       "      <td>{'type': 'MultiPolygon', 'coordinates': [[[[11...</td>\n",
       "    </tr>\n",
       "    <tr>\n",
       "      <th>3</th>\n",
       "      <td>AIA</td>\n",
       "      <td>{'type': 'MultiPolygon', 'coordinates': [[[[-6...</td>\n",
       "    </tr>\n",
       "    <tr>\n",
       "      <th>4</th>\n",
       "      <td>ALB</td>\n",
       "      <td>{'type': 'Polygon', 'coordinates': [[[19.74776...</td>\n",
       "    </tr>\n",
       "  </tbody>\n",
       "</table>\n",
       "</div>"
      ],
      "text/plain": [
       "  country_code                                           geometry\n",
       "0          ABW  {'type': 'Polygon', 'coordinates': [[[-69.9969...\n",
       "1          AFG  {'type': 'Polygon', 'coordinates': [[[71.04980...\n",
       "2          AGO  {'type': 'MultiPolygon', 'coordinates': [[[[11...\n",
       "3          AIA  {'type': 'MultiPolygon', 'coordinates': [[[[-6...\n",
       "4          ALB  {'type': 'Polygon', 'coordinates': [[[19.74776..."
      ]
     },
     "execution_count": 1260,
     "metadata": {},
     "output_type": "execute_result"
    }
   ],
   "source": [
    "geojson_df.head()"
   ]
  },
  {
   "cell_type": "code",
   "execution_count": 1261,
   "metadata": {},
   "outputs": [],
   "source": [
    "# merge the continent data from the co_gdp_cont_df to the geojson_df\n",
    "geojson_cont_df = pd.merge(geojson_df, co_gdp_cont_df[['Country Code', 'Continent','Continent Code']], how='left', left_on='country_code', right_on='Country Code')"
   ]
  },
  {
   "cell_type": "code",
   "execution_count": 1262,
   "metadata": {},
   "outputs": [
    {
     "data": {
      "text/html": [
       "<div>\n",
       "<style scoped>\n",
       "    .dataframe tbody tr th:only-of-type {\n",
       "        vertical-align: middle;\n",
       "    }\n",
       "\n",
       "    .dataframe tbody tr th {\n",
       "        vertical-align: top;\n",
       "    }\n",
       "\n",
       "    .dataframe thead th {\n",
       "        text-align: right;\n",
       "    }\n",
       "</style>\n",
       "<table border=\"1\" class=\"dataframe\">\n",
       "  <thead>\n",
       "    <tr style=\"text-align: right;\">\n",
       "      <th></th>\n",
       "      <th>country_code</th>\n",
       "      <th>geometry</th>\n",
       "      <th>Country Code</th>\n",
       "      <th>Continent</th>\n",
       "      <th>Continent Code</th>\n",
       "    </tr>\n",
       "  </thead>\n",
       "  <tbody>\n",
       "    <tr>\n",
       "      <th>0</th>\n",
       "      <td>ABW</td>\n",
       "      <td>{'type': 'Polygon', 'coordinates': [[[-69.9969...</td>\n",
       "      <td>ABW</td>\n",
       "      <td>North America</td>\n",
       "      <td>NA</td>\n",
       "    </tr>\n",
       "    <tr>\n",
       "      <th>1</th>\n",
       "      <td>ABW</td>\n",
       "      <td>{'type': 'Polygon', 'coordinates': [[[-69.9969...</td>\n",
       "      <td>ABW</td>\n",
       "      <td>North America</td>\n",
       "      <td>NA</td>\n",
       "    </tr>\n",
       "    <tr>\n",
       "      <th>2</th>\n",
       "      <td>ABW</td>\n",
       "      <td>{'type': 'Polygon', 'coordinates': [[[-69.9969...</td>\n",
       "      <td>ABW</td>\n",
       "      <td>North America</td>\n",
       "      <td>NA</td>\n",
       "    </tr>\n",
       "    <tr>\n",
       "      <th>3</th>\n",
       "      <td>ABW</td>\n",
       "      <td>{'type': 'Polygon', 'coordinates': [[[-69.9969...</td>\n",
       "      <td>ABW</td>\n",
       "      <td>North America</td>\n",
       "      <td>NA</td>\n",
       "    </tr>\n",
       "    <tr>\n",
       "      <th>4</th>\n",
       "      <td>ABW</td>\n",
       "      <td>{'type': 'Polygon', 'coordinates': [[[-69.9969...</td>\n",
       "      <td>ABW</td>\n",
       "      <td>North America</td>\n",
       "      <td>NA</td>\n",
       "    </tr>\n",
       "  </tbody>\n",
       "</table>\n",
       "</div>"
      ],
      "text/plain": [
       "  country_code                                           geometry  \\\n",
       "0          ABW  {'type': 'Polygon', 'coordinates': [[[-69.9969...   \n",
       "1          ABW  {'type': 'Polygon', 'coordinates': [[[-69.9969...   \n",
       "2          ABW  {'type': 'Polygon', 'coordinates': [[[-69.9969...   \n",
       "3          ABW  {'type': 'Polygon', 'coordinates': [[[-69.9969...   \n",
       "4          ABW  {'type': 'Polygon', 'coordinates': [[[-69.9969...   \n",
       "\n",
       "  Country Code      Continent Continent Code  \n",
       "0          ABW  North America             NA  \n",
       "1          ABW  North America             NA  \n",
       "2          ABW  North America             NA  \n",
       "3          ABW  North America             NA  \n",
       "4          ABW  North America             NA  "
      ]
     },
     "execution_count": 1262,
     "metadata": {},
     "output_type": "execute_result"
    }
   ],
   "source": [
    "geojson_cont_df.head()"
   ]
  },
  {
   "cell_type": "code",
   "execution_count": 1263,
   "metadata": {},
   "outputs": [],
   "source": [
    "# Drop the duplicate columns\n",
    "geojson_cont_df = geojson_cont_df.drop(columns=['country_code'])\n"
   ]
  },
  {
   "cell_type": "code",
   "execution_count": 1264,
   "metadata": {},
   "outputs": [
    {
     "data": {
      "text/html": [
       "<div>\n",
       "<style scoped>\n",
       "    .dataframe tbody tr th:only-of-type {\n",
       "        vertical-align: middle;\n",
       "    }\n",
       "\n",
       "    .dataframe tbody tr th {\n",
       "        vertical-align: top;\n",
       "    }\n",
       "\n",
       "    .dataframe thead th {\n",
       "        text-align: right;\n",
       "    }\n",
       "</style>\n",
       "<table border=\"1\" class=\"dataframe\">\n",
       "  <thead>\n",
       "    <tr style=\"text-align: right;\">\n",
       "      <th></th>\n",
       "      <th>Country Code</th>\n",
       "      <th>Continent</th>\n",
       "      <th>Continent Code</th>\n",
       "      <th>geometry</th>\n",
       "    </tr>\n",
       "  </thead>\n",
       "  <tbody>\n",
       "    <tr>\n",
       "      <th>0</th>\n",
       "      <td>ABW</td>\n",
       "      <td>North America</td>\n",
       "      <td>NA</td>\n",
       "      <td>{'type': 'Polygon', 'coordinates': [[[-69.9969...</td>\n",
       "    </tr>\n",
       "    <tr>\n",
       "      <th>1</th>\n",
       "      <td>ABW</td>\n",
       "      <td>North America</td>\n",
       "      <td>NA</td>\n",
       "      <td>{'type': 'Polygon', 'coordinates': [[[-69.9969...</td>\n",
       "    </tr>\n",
       "    <tr>\n",
       "      <th>2</th>\n",
       "      <td>ABW</td>\n",
       "      <td>North America</td>\n",
       "      <td>NA</td>\n",
       "      <td>{'type': 'Polygon', 'coordinates': [[[-69.9969...</td>\n",
       "    </tr>\n",
       "    <tr>\n",
       "      <th>3</th>\n",
       "      <td>ABW</td>\n",
       "      <td>North America</td>\n",
       "      <td>NA</td>\n",
       "      <td>{'type': 'Polygon', 'coordinates': [[[-69.9969...</td>\n",
       "    </tr>\n",
       "    <tr>\n",
       "      <th>4</th>\n",
       "      <td>ABW</td>\n",
       "      <td>North America</td>\n",
       "      <td>NA</td>\n",
       "      <td>{'type': 'Polygon', 'coordinates': [[[-69.9969...</td>\n",
       "    </tr>\n",
       "  </tbody>\n",
       "</table>\n",
       "</div>"
      ],
      "text/plain": [
       "  Country Code      Continent Continent Code  \\\n",
       "0          ABW  North America             NA   \n",
       "1          ABW  North America             NA   \n",
       "2          ABW  North America             NA   \n",
       "3          ABW  North America             NA   \n",
       "4          ABW  North America             NA   \n",
       "\n",
       "                                            geometry  \n",
       "0  {'type': 'Polygon', 'coordinates': [[[-69.9969...  \n",
       "1  {'type': 'Polygon', 'coordinates': [[[-69.9969...  \n",
       "2  {'type': 'Polygon', 'coordinates': [[[-69.9969...  \n",
       "3  {'type': 'Polygon', 'coordinates': [[[-69.9969...  \n",
       "4  {'type': 'Polygon', 'coordinates': [[[-69.9969...  "
      ]
     },
     "execution_count": 1264,
     "metadata": {},
     "output_type": "execute_result"
    }
   ],
   "source": [
    "# Reorder the columns\n",
    "geojson_cont_df = geojson_cont_df[['Country Code', 'Continent', 'Continent Code', 'geometry']]\n",
    "geojson_cont_df.head()"
   ]
  },
  {
   "cell_type": "code",
   "execution_count": 1265,
   "metadata": {},
   "outputs": [],
   "source": [
    "# Drop the duplicate rows\n",
    "geojson_cont_short_df = geojson_cont_df.drop_duplicates(subset=['Country Code'])"
   ]
  },
  {
   "cell_type": "code",
   "execution_count": 1266,
   "metadata": {},
   "outputs": [
    {
     "data": {
      "text/html": [
       "<div>\n",
       "<style scoped>\n",
       "    .dataframe tbody tr th:only-of-type {\n",
       "        vertical-align: middle;\n",
       "    }\n",
       "\n",
       "    .dataframe tbody tr th {\n",
       "        vertical-align: top;\n",
       "    }\n",
       "\n",
       "    .dataframe thead th {\n",
       "        text-align: right;\n",
       "    }\n",
       "</style>\n",
       "<table border=\"1\" class=\"dataframe\">\n",
       "  <thead>\n",
       "    <tr style=\"text-align: right;\">\n",
       "      <th></th>\n",
       "      <th>Country Code</th>\n",
       "      <th>Continent</th>\n",
       "      <th>Continent Code</th>\n",
       "      <th>geometry</th>\n",
       "    </tr>\n",
       "  </thead>\n",
       "  <tbody>\n",
       "    <tr>\n",
       "      <th>0</th>\n",
       "      <td>ABW</td>\n",
       "      <td>North America</td>\n",
       "      <td>NA</td>\n",
       "      <td>{'type': 'Polygon', 'coordinates': [[[-69.9969...</td>\n",
       "    </tr>\n",
       "    <tr>\n",
       "      <th>385</th>\n",
       "      <td>AFG</td>\n",
       "      <td>Asia</td>\n",
       "      <td>AS</td>\n",
       "      <td>{'type': 'Polygon', 'coordinates': [[[71.04980...</td>\n",
       "    </tr>\n",
       "    <tr>\n",
       "      <th>770</th>\n",
       "      <td>AGO</td>\n",
       "      <td>Africa</td>\n",
       "      <td>AF</td>\n",
       "      <td>{'type': 'MultiPolygon', 'coordinates': [[[[11...</td>\n",
       "    </tr>\n",
       "    <tr>\n",
       "      <th>1155</th>\n",
       "      <td>NaN</td>\n",
       "      <td>NaN</td>\n",
       "      <td>NaN</td>\n",
       "      <td>{'type': 'MultiPolygon', 'coordinates': [[[[-6...</td>\n",
       "    </tr>\n",
       "    <tr>\n",
       "      <th>1156</th>\n",
       "      <td>ALB</td>\n",
       "      <td>Europe</td>\n",
       "      <td>EU</td>\n",
       "      <td>{'type': 'Polygon', 'coordinates': [[[19.74776...</td>\n",
       "    </tr>\n",
       "  </tbody>\n",
       "</table>\n",
       "</div>"
      ],
      "text/plain": [
       "     Country Code      Continent Continent Code  \\\n",
       "0             ABW  North America             NA   \n",
       "385           AFG           Asia             AS   \n",
       "770           AGO         Africa             AF   \n",
       "1155          NaN            NaN            NaN   \n",
       "1156          ALB         Europe             EU   \n",
       "\n",
       "                                               geometry  \n",
       "0     {'type': 'Polygon', 'coordinates': [[[-69.9969...  \n",
       "385   {'type': 'Polygon', 'coordinates': [[[71.04980...  \n",
       "770   {'type': 'MultiPolygon', 'coordinates': [[[[11...  \n",
       "1155  {'type': 'MultiPolygon', 'coordinates': [[[[-6...  \n",
       "1156  {'type': 'Polygon', 'coordinates': [[[19.74776...  "
      ]
     },
     "execution_count": 1266,
     "metadata": {},
     "output_type": "execute_result"
    }
   ],
   "source": [
    "geojson_cont_short_df.head()"
   ]
  },
  {
   "cell_type": "code",
   "execution_count": 1267,
   "metadata": {},
   "outputs": [
    {
     "name": "stderr",
     "output_type": "stream",
     "text": [
      "/opt/anaconda3/envs/pythondata/lib/python3.7/site-packages/pandas/core/frame.py:2963: SettingWithCopyWarning: \n",
      "A value is trying to be set on a copy of a slice from a DataFrame.\n",
      "Try using .loc[row_indexer,col_indexer] = value instead\n",
      "\n",
      "See the caveats in the documentation: https://pandas.pydata.org/pandas-docs/stable/user_guide/indexing.html#returning-a-view-versus-a-copy\n",
      "  self[k1] = value[k2]\n"
     ]
    }
   ],
   "source": [
    "# Split the 'geometry' column\n",
    "geojson_cont_short_df[['Type', 'Coordinates']] = geojson_cont_short_df['geometry'].apply(lambda x: pd.Series({'Type': x['type'], 'Coordinates': x['coordinates']}))\n"
   ]
  },
  {
   "cell_type": "code",
   "execution_count": 1268,
   "metadata": {},
   "outputs": [],
   "source": [
    "# Drop the original 'geometry' column\n",
    "geojson_cont_short_df = geojson_cont_short_df.drop(columns=['geometry'])"
   ]
  },
  {
   "cell_type": "code",
   "execution_count": 1269,
   "metadata": {},
   "outputs": [
    {
     "data": {
      "text/html": [
       "<div>\n",
       "<style scoped>\n",
       "    .dataframe tbody tr th:only-of-type {\n",
       "        vertical-align: middle;\n",
       "    }\n",
       "\n",
       "    .dataframe tbody tr th {\n",
       "        vertical-align: top;\n",
       "    }\n",
       "\n",
       "    .dataframe thead th {\n",
       "        text-align: right;\n",
       "    }\n",
       "</style>\n",
       "<table border=\"1\" class=\"dataframe\">\n",
       "  <thead>\n",
       "    <tr style=\"text-align: right;\">\n",
       "      <th></th>\n",
       "      <th>Country Code</th>\n",
       "      <th>Continent</th>\n",
       "      <th>Continent Code</th>\n",
       "      <th>Type</th>\n",
       "      <th>Coordinates</th>\n",
       "    </tr>\n",
       "  </thead>\n",
       "  <tbody>\n",
       "    <tr>\n",
       "      <th>0</th>\n",
       "      <td>ABW</td>\n",
       "      <td>North America</td>\n",
       "      <td>NA</td>\n",
       "      <td>Polygon</td>\n",
       "      <td>[[[-69.99693762899992, 12.577582098000036], [-...</td>\n",
       "    </tr>\n",
       "    <tr>\n",
       "      <th>385</th>\n",
       "      <td>AFG</td>\n",
       "      <td>Asia</td>\n",
       "      <td>AS</td>\n",
       "      <td>Polygon</td>\n",
       "      <td>[[[71.04980228700009, 38.40866445000009], [71....</td>\n",
       "    </tr>\n",
       "    <tr>\n",
       "      <th>770</th>\n",
       "      <td>AGO</td>\n",
       "      <td>Africa</td>\n",
       "      <td>AF</td>\n",
       "      <td>MultiPolygon</td>\n",
       "      <td>[[[[11.73751945100014, -16.692577982999836], [...</td>\n",
       "    </tr>\n",
       "    <tr>\n",
       "      <th>1155</th>\n",
       "      <td>NaN</td>\n",
       "      <td>NaN</td>\n",
       "      <td>NaN</td>\n",
       "      <td>MultiPolygon</td>\n",
       "      <td>[[[[-63.037668423999946, 18.21295807500003], [...</td>\n",
       "    </tr>\n",
       "    <tr>\n",
       "      <th>1156</th>\n",
       "      <td>ALB</td>\n",
       "      <td>Europe</td>\n",
       "      <td>EU</td>\n",
       "      <td>Polygon</td>\n",
       "      <td>[[[19.747765747000074, 42.57890085900007], [19...</td>\n",
       "    </tr>\n",
       "  </tbody>\n",
       "</table>\n",
       "</div>"
      ],
      "text/plain": [
       "     Country Code      Continent Continent Code          Type  \\\n",
       "0             ABW  North America             NA       Polygon   \n",
       "385           AFG           Asia             AS       Polygon   \n",
       "770           AGO         Africa             AF  MultiPolygon   \n",
       "1155          NaN            NaN            NaN  MultiPolygon   \n",
       "1156          ALB         Europe             EU       Polygon   \n",
       "\n",
       "                                            Coordinates  \n",
       "0     [[[-69.99693762899992, 12.577582098000036], [-...  \n",
       "385   [[[71.04980228700009, 38.40866445000009], [71....  \n",
       "770   [[[[11.73751945100014, -16.692577982999836], [...  \n",
       "1155  [[[[-63.037668423999946, 18.21295807500003], [...  \n",
       "1156  [[[19.747765747000074, 42.57890085900007], [19...  "
      ]
     },
     "execution_count": 1269,
     "metadata": {},
     "output_type": "execute_result"
    }
   ],
   "source": [
    "geojson_cont_short_df.head()"
   ]
  },
  {
   "cell_type": "code",
   "execution_count": 1270,
   "metadata": {},
   "outputs": [
    {
     "data": {
      "text/plain": [
       "Country Code      1\n",
       "Continent         2\n",
       "Continent Code    1\n",
       "Type              0\n",
       "Coordinates       0\n",
       "dtype: int64"
      ]
     },
     "execution_count": 1270,
     "metadata": {},
     "output_type": "execute_result"
    }
   ],
   "source": [
    "geojson_cont_short_df.isnull().sum()"
   ]
  },
  {
   "cell_type": "code",
   "execution_count": 1271,
   "metadata": {},
   "outputs": [
    {
     "data": {
      "text/html": [
       "<div>\n",
       "<style scoped>\n",
       "    .dataframe tbody tr th:only-of-type {\n",
       "        vertical-align: middle;\n",
       "    }\n",
       "\n",
       "    .dataframe tbody tr th {\n",
       "        vertical-align: top;\n",
       "    }\n",
       "\n",
       "    .dataframe thead th {\n",
       "        text-align: right;\n",
       "    }\n",
       "</style>\n",
       "<table border=\"1\" class=\"dataframe\">\n",
       "  <thead>\n",
       "    <tr style=\"text-align: right;\">\n",
       "      <th></th>\n",
       "      <th>Country Code</th>\n",
       "      <th>Continent</th>\n",
       "      <th>Continent Code</th>\n",
       "      <th>Type</th>\n",
       "      <th>Coordinates</th>\n",
       "    </tr>\n",
       "  </thead>\n",
       "  <tbody>\n",
       "    <tr>\n",
       "      <th>1155</th>\n",
       "      <td>NaN</td>\n",
       "      <td>NaN</td>\n",
       "      <td>NaN</td>\n",
       "      <td>MultiPolygon</td>\n",
       "      <td>[[[[-63.037668423999946, 18.21295807500003], [...</td>\n",
       "    </tr>\n",
       "    <tr>\n",
       "      <th>50403</th>\n",
       "      <td>NAM</td>\n",
       "      <td>NaN</td>\n",
       "      <td>NA</td>\n",
       "      <td>Polygon</td>\n",
       "      <td>[[[13.184910523000099, -16.9641830449999], [13...</td>\n",
       "    </tr>\n",
       "  </tbody>\n",
       "</table>\n",
       "</div>"
      ],
      "text/plain": [
       "      Country Code Continent Continent Code          Type  \\\n",
       "1155           NaN       NaN            NaN  MultiPolygon   \n",
       "50403          NAM       NaN             NA       Polygon   \n",
       "\n",
       "                                             Coordinates  \n",
       "1155   [[[[-63.037668423999946, 18.21295807500003], [...  \n",
       "50403  [[[13.184910523000099, -16.9641830449999], [13...  "
      ]
     },
     "execution_count": 1271,
     "metadata": {},
     "output_type": "execute_result"
    }
   ],
   "source": [
    "# display where continent is null\n",
    "geojson_cont_short_df[geojson_cont_short_df['Continent'].isnull()]"
   ]
  },
  {
   "cell_type": "code",
   "execution_count": 1272,
   "metadata": {},
   "outputs": [],
   "source": [
    "# Drop the rows where country code is null\n",
    "geo_countries_df = geojson_cont_short_df[~geojson_cont_short_df['Country Code'].isnull()]"
   ]
  },
  {
   "cell_type": "code",
   "execution_count": 1273,
   "metadata": {},
   "outputs": [
    {
     "data": {
      "text/html": [
       "<div>\n",
       "<style scoped>\n",
       "    .dataframe tbody tr th:only-of-type {\n",
       "        vertical-align: middle;\n",
       "    }\n",
       "\n",
       "    .dataframe tbody tr th {\n",
       "        vertical-align: top;\n",
       "    }\n",
       "\n",
       "    .dataframe thead th {\n",
       "        text-align: right;\n",
       "    }\n",
       "</style>\n",
       "<table border=\"1\" class=\"dataframe\">\n",
       "  <thead>\n",
       "    <tr style=\"text-align: right;\">\n",
       "      <th></th>\n",
       "      <th>Country Code</th>\n",
       "      <th>Continent</th>\n",
       "      <th>Continent Code</th>\n",
       "      <th>Type</th>\n",
       "      <th>Coordinates</th>\n",
       "    </tr>\n",
       "  </thead>\n",
       "  <tbody>\n",
       "    <tr>\n",
       "      <th>0</th>\n",
       "      <td>ABW</td>\n",
       "      <td>North America</td>\n",
       "      <td>NA</td>\n",
       "      <td>Polygon</td>\n",
       "      <td>[[[-69.99693762899992, 12.577582098000036], [-...</td>\n",
       "    </tr>\n",
       "    <tr>\n",
       "      <th>385</th>\n",
       "      <td>AFG</td>\n",
       "      <td>Asia</td>\n",
       "      <td>AS</td>\n",
       "      <td>Polygon</td>\n",
       "      <td>[[[71.04980228700009, 38.40866445000009], [71....</td>\n",
       "    </tr>\n",
       "    <tr>\n",
       "      <th>770</th>\n",
       "      <td>AGO</td>\n",
       "      <td>Africa</td>\n",
       "      <td>AF</td>\n",
       "      <td>MultiPolygon</td>\n",
       "      <td>[[[[11.73751945100014, -16.692577982999836], [...</td>\n",
       "    </tr>\n",
       "    <tr>\n",
       "      <th>1156</th>\n",
       "      <td>ALB</td>\n",
       "      <td>Europe</td>\n",
       "      <td>EU</td>\n",
       "      <td>Polygon</td>\n",
       "      <td>[[[19.747765747000074, 42.57890085900007], [19...</td>\n",
       "    </tr>\n",
       "    <tr>\n",
       "      <th>1542</th>\n",
       "      <td>AND</td>\n",
       "      <td>Europe</td>\n",
       "      <td>EU</td>\n",
       "      <td>Polygon</td>\n",
       "      <td>[[[1.707006470000067, 42.5027814740001], [1.69...</td>\n",
       "    </tr>\n",
       "  </tbody>\n",
       "</table>\n",
       "</div>"
      ],
      "text/plain": [
       "     Country Code      Continent Continent Code          Type  \\\n",
       "0             ABW  North America             NA       Polygon   \n",
       "385           AFG           Asia             AS       Polygon   \n",
       "770           AGO         Africa             AF  MultiPolygon   \n",
       "1156          ALB         Europe             EU       Polygon   \n",
       "1542          AND         Europe             EU       Polygon   \n",
       "\n",
       "                                            Coordinates  \n",
       "0     [[[-69.99693762899992, 12.577582098000036], [-...  \n",
       "385   [[[71.04980228700009, 38.40866445000009], [71....  \n",
       "770   [[[[11.73751945100014, -16.692577982999836], [...  \n",
       "1156  [[[19.747765747000074, 42.57890085900007], [19...  \n",
       "1542  [[[1.707006470000067, 42.5027814740001], [1.69...  "
      ]
     },
     "execution_count": 1273,
     "metadata": {},
     "output_type": "execute_result"
    }
   ],
   "source": [
    "# This is ready to load into MongoDB\n",
    "geo_countries_df.head()"
   ]
  },
  {
   "attachments": {},
   "cell_type": "markdown",
   "metadata": {},
   "source": [
    "### Import to MongoDB"
   ]
  },
  {
   "cell_type": "code",
   "execution_count": 1274,
   "metadata": {},
   "outputs": [
    {
     "data": {
      "text/plain": [
       "'\\nThese are the two data frames that are ready to be loaded into MongoDB one with all the countries, their continent info, CO2, GDP, and population data, and the \\nother with all the countries, continents, and geojson data.\\n\\nco_gdp_cont_df - all co2, gdp, pop, and continent data\\ngeo_countries_df - all country, continent, and geojson data\\n'"
      ]
     },
     "execution_count": 1274,
     "metadata": {},
     "output_type": "execute_result"
    }
   ],
   "source": [
    "\"\"\"\n",
    "These are the two data frames that are ready to be loaded into MongoDB one with all the countries, their continent info, CO2, GDP, and population data, and the \n",
    "other with all the countries, continents, and geojson data.\n",
    "\n",
    "co_gdp_cont_df - all co2, gdp, pop, and continent data\n",
    "geo_countries_df - all country, continent, and geojson data\n",
    "\"\"\""
   ]
  },
  {
   "cell_type": "code",
   "execution_count": 1275,
   "metadata": {},
   "outputs": [],
   "source": [
    "# Convert the dataframes to a list of dictionaries\n",
    "co_gdp_cont_df = co_gdp_cont_df.to_dict('records')\n",
    "geo_countries_df = geo_countries_df.to_dict('records')\n"
   ]
  },
  {
   "cell_type": "code",
   "execution_count": 1276,
   "metadata": {},
   "outputs": [
    {
     "data": {
      "text/plain": [
       "<pymongo.results.InsertManyResult at 0x7fcb179ea1e0>"
      ]
     },
     "execution_count": 1276,
     "metadata": {},
     "output_type": "execute_result"
    }
   ],
   "source": [
    "# connect to the MongoDB client and create the database and collection\n",
    "client = MongoClient('mongodb://localhost:27017/')\n",
    "db = client['global_emissions_db']\n",
    "collection = db['CO2_gdp_population']\n",
    "\n",
    "# Insert the data into the collection\n",
    "collection.insert_many(co_gdp_cont_df)\n"
   ]
  },
  {
   "cell_type": "code",
   "execution_count": 1277,
   "metadata": {},
   "outputs": [
    {
     "data": {
      "text/plain": [
       "<pymongo.results.InsertManyResult at 0x7fcb178f9280>"
      ]
     },
     "execution_count": 1277,
     "metadata": {},
     "output_type": "execute_result"
    }
   ],
   "source": [
    "db = client['global_emissions_db']\n",
    "collection = db['country_geojson_data']\n",
    "\n",
    "# Insert the data into the collection\n",
    "collection.insert_many(geo_countries_df)"
   ]
  },
  {
   "attachments": {},
   "cell_type": "markdown",
   "metadata": {},
   "source": [
    "### Test the Database   "
   ]
  },
  {
   "cell_type": "code",
   "execution_count": 1278,
   "metadata": {},
   "outputs": [],
   "source": [
    "# Create a decorator to manage the connection to the MongoDB server\n",
    "def with_mongo_client(func):\n",
    "    def wrapper(*args, **kwargs):\n",
    "        client = MongoClient(\"mongodb://localhost:27017/\")\n",
    "        try:\n",
    "            return func(client, *args, **kwargs)\n",
    "        finally:\n",
    "            client.close()\n",
    "\n",
    "    return wrapper\n",
    "\n",
    "# Test fuctions for the decorator and databse \n",
    "\n",
    "@with_mongo_client\n",
    "def list_all_collections(client):\n",
    "    db = client['global_emissions_db']\n",
    "    return db.list_collection_names()\n",
    "\n",
    "\n",
    "@with_mongo_client\n",
    "def find_five_countries_documents(client):\n",
    "    db = client['global_emissions_db']\n",
    "    collection = db['CO2_gdp_population']\n",
    "    return list(collection.find().limit(5))"
   ]
  },
  {
   "cell_type": "code",
   "execution_count": 1279,
   "metadata": {},
   "outputs": [
    {
     "data": {
      "text/plain": [
       "[{'_id': ObjectId('6436cec9fa5fdf5c944885ec'),\n",
       "  'Country': 'Afghanistan',\n",
       "  'Country Code': 'AFG',\n",
       "  'Year': 1999,\n",
       "  'Type': 'Total CO2',\n",
       "  'Category': 'Total',\n",
       "  'Value': 1.09164,\n",
       "  'Continent': 'Asia',\n",
       "  'Continent Code': 'AS'},\n",
       " {'_id': ObjectId('6436cec9fa5fdf5c944885ed'),\n",
       "  'Country': 'Afghanistan',\n",
       "  'Country Code': 'AFG',\n",
       "  'Year': 2000,\n",
       "  'Type': 'Total CO2',\n",
       "  'Category': 'Total',\n",
       "  'Value': 1.047128,\n",
       "  'Continent': 'Asia',\n",
       "  'Continent Code': 'AS'},\n",
       " {'_id': ObjectId('6436cec9fa5fdf5c944885ee'),\n",
       "  'Country': 'Afghanistan',\n",
       "  'Country Code': 'AFG',\n",
       "  'Year': 2001,\n",
       "  'Type': 'Total CO2',\n",
       "  'Category': 'Total',\n",
       "  'Value': 1.0690979999999999,\n",
       "  'Continent': 'Asia',\n",
       "  'Continent Code': 'AS'},\n",
       " {'_id': ObjectId('6436cec9fa5fdf5c944885ef'),\n",
       "  'Country': 'Afghanistan',\n",
       "  'Country Code': 'AFG',\n",
       "  'Year': 2002,\n",
       "  'Type': 'Total CO2',\n",
       "  'Category': 'Total',\n",
       "  'Value': 1.3409950000000002,\n",
       "  'Continent': 'Asia',\n",
       "  'Continent Code': 'AS'},\n",
       " {'_id': ObjectId('6436cec9fa5fdf5c944885f0'),\n",
       "  'Country': 'Afghanistan',\n",
       "  'Country Code': 'AFG',\n",
       "  'Year': 2003,\n",
       "  'Type': 'Total CO2',\n",
       "  'Category': 'Total',\n",
       "  'Value': 1.559602,\n",
       "  'Continent': 'Asia',\n",
       "  'Continent Code': 'AS'}]"
      ]
     },
     "execution_count": 1279,
     "metadata": {},
     "output_type": "execute_result"
    }
   ],
   "source": [
    "find_five_countries_documents()"
   ]
  },
  {
   "cell_type": "code",
   "execution_count": 1280,
   "metadata": {},
   "outputs": [
    {
     "data": {
      "text/plain": [
       "['CO2_gdp_population', 'country_geojson_data']"
      ]
     },
     "execution_count": 1280,
     "metadata": {},
     "output_type": "execute_result"
    }
   ],
   "source": [
    "list_all_collections()"
   ]
  },
  {
   "cell_type": "code",
   "execution_count": 1282,
   "metadata": {},
   "outputs": [
    {
     "data": {
      "text/plain": [
       "['CO2_gdp_population', 'country_geojson_data']"
      ]
     },
     "execution_count": 1282,
     "metadata": {},
     "output_type": "execute_result"
    }
   ],
   "source": [
    "client = MongoClient('mongodb://localhost:27017/')\n",
    "db = client['global_emissions_db']\n",
    "\n",
    "db.list_collection_names()"
   ]
  },
  {
   "cell_type": "code",
   "execution_count": 1283,
   "metadata": {},
   "outputs": [
    {
     "data": {
      "text/plain": [
       "205"
      ]
     },
     "execution_count": 1283,
     "metadata": {},
     "output_type": "execute_result"
    }
   ],
   "source": [
    "client = MongoClient('mongodb://localhost:27017/')\n",
    "db = client['global_emissions_db']\n",
    "\n",
    "# How many countries are in the country_geojson_data collection?\n",
    "db.country_geojson_data.count_documents({})\n"
   ]
  },
  {
   "cell_type": "code",
   "execution_count": 1284,
   "metadata": {},
   "outputs": [
    {
     "name": "stdout",
     "output_type": "stream",
     "text": [
      "Total documents: 79247\n",
      "Number of unique countries: 205\n"
     ]
    }
   ],
   "source": [
    "client = MongoClient('mongodb://localhost:27017/')\n",
    "db = client['global_emissions_db']\n",
    "\n",
    "# How many documents are in the CO2_gdp_population collection?\n",
    "total_documents = db.CO2_gdp_population.count_documents({})\n",
    "print(f'Total documents: {total_documents}')\n",
    "\n",
    "# Count the number of unique countries in the CO2_gdp_population collection\n",
    "unique_countries = len(db.CO2_gdp_population.distinct(\"Country Code\"))\n",
    "print(f'Number of unique countries: {unique_countries}')\n",
    "\n"
   ]
  },
  {
   "cell_type": "code",
   "execution_count": 1285,
   "metadata": {},
   "outputs": [],
   "source": [
    "# client = MongoClient('mongodb://localhost:27017/')\n",
    "# db = client['global_emissions_db']\n",
    "\n",
    "# # Delete all the collections\n",
    "# for collection_name in db.list_collection_names():\n",
    "#     db[collection_name].drop() "
   ]
  }
 ],
 "metadata": {
  "kernelspec": {
   "display_name": "pythondata",
   "language": "python",
   "name": "python3"
  },
  "language_info": {
   "codemirror_mode": {
    "name": "ipython",
    "version": 3
   },
   "file_extension": ".py",
   "mimetype": "text/x-python",
   "name": "python",
   "nbconvert_exporter": "python",
   "pygments_lexer": "ipython3",
   "version": "3.7.7"
  },
  "orig_nbformat": 4,
  "vscode": {
   "interpreter": {
    "hash": "006d01ff1a7f35c34f0586e54e9b24c5bbf47369eb01d100606e70fd61c4f441"
   }
  }
 },
 "nbformat": 4,
 "nbformat_minor": 2
}
